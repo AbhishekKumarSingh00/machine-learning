{
 "cells": [
  {
   "cell_type": "code",
   "execution_count": 1,
   "metadata": {},
   "outputs": [],
   "source": [
    "import numpy as np\n",
    "import gensim\n",
    "from gensim.models import word2vec\n",
    "from gensim.models import KeyedVectors\n",
    "from sklearn.metrics.pairwise import cosine_similarity"
   ]
  },
  {
   "cell_type": "code",
   "execution_count": 2,
   "metadata": {},
   "outputs": [],
   "source": [
    "from gensim.test.utils import datapath, get_tmpfile\n",
    "from gensim.scripts.glove2word2vec import glove2word2vec"
   ]
  },
  {
   "cell_type": "code",
   "execution_count": 3,
   "metadata": {},
   "outputs": [],
   "source": [
    "glove_file=datapath('test_glove.txt')\n",
    "tmp_file = get_tmpfile(\"test_word2vec.txt\")\n",
    "_ = glove2word2vec(glove_file,tmp_file)\n",
    "model=KeyedVectors.load_word2vec_format(tmp_file)"
   ]
  },
  {
   "cell_type": "code",
   "execution_count": 4,
   "metadata": {},
   "outputs": [
    {
     "data": {
      "text/plain": [
       "{'the': <gensim.models.keyedvectors.Vocab at 0x1e6a44b3cc8>,\n",
       " 'ö': <gensim.models.keyedvectors.Vocab at 0x1e6a44b2f88>,\n",
       " 'é': <gensim.models.keyedvectors.Vocab at 0x1e6a44b3d08>,\n",
       " 'हु': <gensim.models.keyedvectors.Vocab at 0x1e6a44b3048>,\n",
       " 'ü': <gensim.models.keyedvectors.Vocab at 0x1e6a44b3d48>,\n",
       " 'and': <gensim.models.keyedvectors.Vocab at 0x1e6a44b3108>,\n",
       " 'हि': <gensim.models.keyedvectors.Vocab at 0x1e6a44b3e08>,\n",
       " 'a': <gensim.models.keyedvectors.Vocab at 0x1e6a44b30c8>,\n",
       " 'या': <gensim.models.keyedvectors.Vocab at 0x1e6a44b3e48>,\n",
       " 'of': <gensim.models.keyedvectors.Vocab at 0x1e6a44b3148>,\n",
       " 'for': <gensim.models.keyedvectors.Vocab at 0x1e6a44b3e88>,\n",
       " '-': <gensim.models.keyedvectors.Vocab at 0x1e6a44b31c8>,\n",
       " 'that': <gensim.models.keyedvectors.Vocab at 0x1e6a44b3ec8>,\n",
       " 'on': <gensim.models.keyedvectors.Vocab at 0x1e6a44b3248>,\n",
       " 'is': <gensim.models.keyedvectors.Vocab at 0x1e6a44b3f48>,\n",
       " 'was': <gensim.models.keyedvectors.Vocab at 0x1e6a44b32c8>,\n",
       " 'said': <gensim.models.keyedvectors.Vocab at 0x1e6a44b3fc8>,\n",
       " 'with': <gensim.models.keyedvectors.Vocab at 0x1e6a44b3348>,\n",
       " 'he': <gensim.models.keyedvectors.Vocab at 0x1e6a44b0088>,\n",
       " 'as': <gensim.models.keyedvectors.Vocab at 0x1e6a44b33c8>,\n",
       " 'it': <gensim.models.keyedvectors.Vocab at 0x1e6a44b0108>,\n",
       " 'by': <gensim.models.keyedvectors.Vocab at 0x1e6a44b3448>,\n",
       " 'at': <gensim.models.keyedvectors.Vocab at 0x1e6a44b0188>,\n",
       " '(': <gensim.models.keyedvectors.Vocab at 0x1e6a44b34c8>,\n",
       " ')': <gensim.models.keyedvectors.Vocab at 0x1e6a44b01c8>,\n",
       " 'from': <gensim.models.keyedvectors.Vocab at 0x1e6a44b3508>,\n",
       " 'his': <gensim.models.keyedvectors.Vocab at 0x1e6a44b0248>,\n",
       " \"''\": <gensim.models.keyedvectors.Vocab at 0x1e6a44b3588>,\n",
       " '``': <gensim.models.keyedvectors.Vocab at 0x1e6a44b02c8>,\n",
       " 'an': <gensim.models.keyedvectors.Vocab at 0x1e6a44b3608>,\n",
       " 'be': <gensim.models.keyedvectors.Vocab at 0x1e6a44b0348>,\n",
       " 'has': <gensim.models.keyedvectors.Vocab at 0x1e6a44b3688>,\n",
       " 'are': <gensim.models.keyedvectors.Vocab at 0x1e6a44b03c8>,\n",
       " 'have': <gensim.models.keyedvectors.Vocab at 0x1e6a44b3708>,\n",
       " 'but': <gensim.models.keyedvectors.Vocab at 0x1e6a44b0448>,\n",
       " 'were': <gensim.models.keyedvectors.Vocab at 0x1e6a44b3788>,\n",
       " 'not': <gensim.models.keyedvectors.Vocab at 0x1e6a44b04c8>,\n",
       " 'this': <gensim.models.keyedvectors.Vocab at 0x1e6a44b3808>,\n",
       " 'who': <gensim.models.keyedvectors.Vocab at 0x1e6a44b0548>,\n",
       " 'they': <gensim.models.keyedvectors.Vocab at 0x1e6a44b3888>,\n",
       " 'had': <gensim.models.keyedvectors.Vocab at 0x1e6a44b05c8>,\n",
       " 'i': <gensim.models.keyedvectors.Vocab at 0x1e6a44b3908>,\n",
       " 'which': <gensim.models.keyedvectors.Vocab at 0x1e6a44b0608>,\n",
       " 'will': <gensim.models.keyedvectors.Vocab at 0x1e6a44b3988>,\n",
       " 'their': <gensim.models.keyedvectors.Vocab at 0x1e6a44b0688>,\n",
       " ':': <gensim.models.keyedvectors.Vocab at 0x1e6a44b3a08>,\n",
       " 'or': <gensim.models.keyedvectors.Vocab at 0x1e6a44b06c8>,\n",
       " 'its': <gensim.models.keyedvectors.Vocab at 0x1e6a44b3a88>,\n",
       " 'one': <gensim.models.keyedvectors.Vocab at 0x1e6a44b0748>,\n",
       " 'after': <gensim.models.keyedvectors.Vocab at 0x1e6a44b3b08>,\n",
       " 'new': <gensim.models.keyedvectors.Vocab at 0x1e6a44b07c8>,\n",
       " 'been': <gensim.models.keyedvectors.Vocab at 0x1e6a44b3b88>,\n",
       " 'also': <gensim.models.keyedvectors.Vocab at 0x1e6a44b0848>,\n",
       " 'we': <gensim.models.keyedvectors.Vocab at 0x1e6a44b3c08>,\n",
       " 'would': <gensim.models.keyedvectors.Vocab at 0x1e6a44b08c8>,\n",
       " 'two': <gensim.models.keyedvectors.Vocab at 0x1e6a44b3c88>,\n",
       " 'more': <gensim.models.keyedvectors.Vocab at 0x1e6a44b0948>,\n",
       " \"'\": <gensim.models.keyedvectors.Vocab at 0x1e6a44b0a48>,\n",
       " 'first': <gensim.models.keyedvectors.Vocab at 0x1e6a44b0988>,\n",
       " 'about': <gensim.models.keyedvectors.Vocab at 0x1e6a44b0bc8>,\n",
       " 'up': <gensim.models.keyedvectors.Vocab at 0x1e6a44b0a88>,\n",
       " 'when': <gensim.models.keyedvectors.Vocab at 0x1e6a44b0c88>,\n",
       " 'year': <gensim.models.keyedvectors.Vocab at 0x1e6a44b0b08>,\n",
       " 'there': <gensim.models.keyedvectors.Vocab at 0x1e6a44b0d48>,\n",
       " 'all': <gensim.models.keyedvectors.Vocab at 0x1e6a44b0c08>,\n",
       " '--': <gensim.models.keyedvectors.Vocab at 0x1e6a44b0e48>,\n",
       " 'out': <gensim.models.keyedvectors.Vocab at 0x1e6a44b0d88>,\n",
       " 'she': <gensim.models.keyedvectors.Vocab at 0x1e6a44b0f48>,\n",
       " 'other': <gensim.models.keyedvectors.Vocab at 0x1e6a44b0e88>,\n",
       " 'people': <gensim.models.keyedvectors.Vocab at 0x1e6a44b6088>,\n",
       " \"n't\": <gensim.models.keyedvectors.Vocab at 0x1e6a44b0f88>,\n",
       " 'her': <gensim.models.keyedvectors.Vocab at 0x1e6a44b6188>,\n",
       " 'percent': <gensim.models.keyedvectors.Vocab at 0x1e6a44b60c8>,\n",
       " 'than': <gensim.models.keyedvectors.Vocab at 0x1e6a44b6288>,\n",
       " 'over': <gensim.models.keyedvectors.Vocab at 0x1e6a44b61c8>,\n",
       " 'into': <gensim.models.keyedvectors.Vocab at 0x1e6a44b63c8>}"
      ]
     },
     "execution_count": 4,
     "metadata": {},
     "output_type": "execute_result"
    }
   ],
   "source": [
    "model.vocab"
   ]
  },
  {
   "cell_type": "code",
   "execution_count": 5,
   "metadata": {},
   "outputs": [
    {
     "data": {
      "text/plain": [
       "76"
      ]
     },
     "execution_count": 5,
     "metadata": {},
     "output_type": "execute_result"
    }
   ],
   "source": [
    "len(model.vocab)"
   ]
  },
  {
   "cell_type": "code",
   "execution_count": null,
   "metadata": {},
   "outputs": [],
   "source": []
  }
 ],
 "metadata": {
  "kernelspec": {
   "display_name": "Python 3",
   "language": "python",
   "name": "python3"
  },
  "language_info": {
   "codemirror_mode": {
    "name": "ipython",
    "version": 3
   },
   "file_extension": ".py",
   "mimetype": "text/x-python",
   "name": "python",
   "nbconvert_exporter": "python",
   "pygments_lexer": "ipython3",
   "version": "3.7.4"
  }
 },
 "nbformat": 4,
 "nbformat_minor": 2
}
