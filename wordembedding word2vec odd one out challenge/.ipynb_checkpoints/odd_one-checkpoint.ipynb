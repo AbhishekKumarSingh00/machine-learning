{
 "cells": [
  {
   "cell_type": "code",
   "execution_count": 1,
   "metadata": {},
   "outputs": [],
   "source": [
    "import numpy as np\n",
    "import gensim\n",
    "from gensim.models import word2vec\n",
    "from gensim.models import KeyedVectors\n",
    "from sklearn.metrics.pairwise import cosine_similarity"
   ]
  },
  {
   "cell_type": "code",
   "execution_count": 2,
   "metadata": {},
   "outputs": [],
   "source": [
    "from gensim.test.utils import datapath, get_tmpfile\n",
    "from gensim.scripts.glove2word2vec import glove2word2vec"
   ]
  },
  {
   "cell_type": "code",
   "execution_count": 3,
   "metadata": {},
   "outputs": [],
   "source": [
    "glove_file=datapath('test_glove.txt')\n",
    "tmp_file = get_tmpfile(\"test_word2vec.txt\")\n",
    "_ = glove2word2vec(glove_file,tmp_file)\n",
    "model=KeyedVectors.load_word2vec_format(tmp_file)"
   ]
  },
  {
   "cell_type": "code",
   "execution_count": 4,
   "metadata": {},
   "outputs": [
    {
     "data": {
      "text/plain": [
       "{'the': <gensim.models.keyedvectors.Vocab at 0x21debab2e88>,\n",
       " 'ö': <gensim.models.keyedvectors.Vocab at 0x21debab2188>,\n",
       " 'é': <gensim.models.keyedvectors.Vocab at 0x21debab2ec8>,\n",
       " 'हु': <gensim.models.keyedvectors.Vocab at 0x21debab2208>,\n",
       " 'ü': <gensim.models.keyedvectors.Vocab at 0x21debab2f08>,\n",
       " 'and': <gensim.models.keyedvectors.Vocab at 0x21debab2148>,\n",
       " 'हि': <gensim.models.keyedvectors.Vocab at 0x21debab2fc8>,\n",
       " 'a': <gensim.models.keyedvectors.Vocab at 0x21debab22c8>,\n",
       " 'या': <gensim.models.keyedvectors.Vocab at 0x21debab0048>,\n",
       " 'of': <gensim.models.keyedvectors.Vocab at 0x21debab2308>,\n",
       " 'for': <gensim.models.keyedvectors.Vocab at 0x21debab0088>,\n",
       " '-': <gensim.models.keyedvectors.Vocab at 0x21debab2388>,\n",
       " 'that': <gensim.models.keyedvectors.Vocab at 0x21debab00c8>,\n",
       " 'on': <gensim.models.keyedvectors.Vocab at 0x21debab2408>,\n",
       " 'is': <gensim.models.keyedvectors.Vocab at 0x21debab0148>,\n",
       " 'was': <gensim.models.keyedvectors.Vocab at 0x21debab2488>,\n",
       " 'said': <gensim.models.keyedvectors.Vocab at 0x21debab01c8>,\n",
       " 'with': <gensim.models.keyedvectors.Vocab at 0x21debab2508>,\n",
       " 'he': <gensim.models.keyedvectors.Vocab at 0x21debab0248>,\n",
       " 'as': <gensim.models.keyedvectors.Vocab at 0x21debab2588>,\n",
       " 'it': <gensim.models.keyedvectors.Vocab at 0x21debab02c8>,\n",
       " 'by': <gensim.models.keyedvectors.Vocab at 0x21debab2608>,\n",
       " 'at': <gensim.models.keyedvectors.Vocab at 0x21debab0348>,\n",
       " '(': <gensim.models.keyedvectors.Vocab at 0x21debab2688>,\n",
       " ')': <gensim.models.keyedvectors.Vocab at 0x21debab0388>,\n",
       " 'from': <gensim.models.keyedvectors.Vocab at 0x21debab26c8>,\n",
       " 'his': <gensim.models.keyedvectors.Vocab at 0x21debab0408>,\n",
       " \"''\": <gensim.models.keyedvectors.Vocab at 0x21debab2748>,\n",
       " '``': <gensim.models.keyedvectors.Vocab at 0x21debab0488>,\n",
       " 'an': <gensim.models.keyedvectors.Vocab at 0x21debab27c8>,\n",
       " 'be': <gensim.models.keyedvectors.Vocab at 0x21debab0508>,\n",
       " 'has': <gensim.models.keyedvectors.Vocab at 0x21debab2848>,\n",
       " 'are': <gensim.models.keyedvectors.Vocab at 0x21debab0588>,\n",
       " 'have': <gensim.models.keyedvectors.Vocab at 0x21debab28c8>,\n",
       " 'but': <gensim.models.keyedvectors.Vocab at 0x21debab0608>,\n",
       " 'were': <gensim.models.keyedvectors.Vocab at 0x21debab2948>,\n",
       " 'not': <gensim.models.keyedvectors.Vocab at 0x21debab0688>,\n",
       " 'this': <gensim.models.keyedvectors.Vocab at 0x21debab29c8>,\n",
       " 'who': <gensim.models.keyedvectors.Vocab at 0x21debab0708>,\n",
       " 'they': <gensim.models.keyedvectors.Vocab at 0x21debab2a48>,\n",
       " 'had': <gensim.models.keyedvectors.Vocab at 0x21debab0788>,\n",
       " 'i': <gensim.models.keyedvectors.Vocab at 0x21debab2ac8>,\n",
       " 'which': <gensim.models.keyedvectors.Vocab at 0x21debab07c8>,\n",
       " 'will': <gensim.models.keyedvectors.Vocab at 0x21debab2b48>,\n",
       " 'their': <gensim.models.keyedvectors.Vocab at 0x21debab0848>,\n",
       " ':': <gensim.models.keyedvectors.Vocab at 0x21debab2bc8>,\n",
       " 'or': <gensim.models.keyedvectors.Vocab at 0x21debab0888>,\n",
       " 'its': <gensim.models.keyedvectors.Vocab at 0x21debab2c48>,\n",
       " 'one': <gensim.models.keyedvectors.Vocab at 0x21debab0908>,\n",
       " 'after': <gensim.models.keyedvectors.Vocab at 0x21debab2cc8>,\n",
       " 'new': <gensim.models.keyedvectors.Vocab at 0x21debab0988>,\n",
       " 'been': <gensim.models.keyedvectors.Vocab at 0x21debab2d48>,\n",
       " 'also': <gensim.models.keyedvectors.Vocab at 0x21debab0a08>,\n",
       " 'we': <gensim.models.keyedvectors.Vocab at 0x21debab2dc8>,\n",
       " 'would': <gensim.models.keyedvectors.Vocab at 0x21debab0a88>,\n",
       " 'two': <gensim.models.keyedvectors.Vocab at 0x21debab2e48>,\n",
       " 'more': <gensim.models.keyedvectors.Vocab at 0x21debab0b08>,\n",
       " \"'\": <gensim.models.keyedvectors.Vocab at 0x21debab0c08>,\n",
       " 'first': <gensim.models.keyedvectors.Vocab at 0x21debab0b48>,\n",
       " 'about': <gensim.models.keyedvectors.Vocab at 0x21debab0d88>,\n",
       " 'up': <gensim.models.keyedvectors.Vocab at 0x21debab0c48>,\n",
       " 'when': <gensim.models.keyedvectors.Vocab at 0x21debab0e48>,\n",
       " 'year': <gensim.models.keyedvectors.Vocab at 0x21debab0cc8>,\n",
       " 'there': <gensim.models.keyedvectors.Vocab at 0x21debab0f08>,\n",
       " 'all': <gensim.models.keyedvectors.Vocab at 0x21debab0dc8>,\n",
       " '--': <gensim.models.keyedvectors.Vocab at 0x21debab4048>,\n",
       " 'out': <gensim.models.keyedvectors.Vocab at 0x21debab0f48>,\n",
       " 'she': <gensim.models.keyedvectors.Vocab at 0x21debab4148>,\n",
       " 'other': <gensim.models.keyedvectors.Vocab at 0x21debab4088>,\n",
       " 'people': <gensim.models.keyedvectors.Vocab at 0x21debab4248>,\n",
       " \"n't\": <gensim.models.keyedvectors.Vocab at 0x21debab4188>,\n",
       " 'her': <gensim.models.keyedvectors.Vocab at 0x21debab4348>,\n",
       " 'percent': <gensim.models.keyedvectors.Vocab at 0x21debab4288>,\n",
       " 'than': <gensim.models.keyedvectors.Vocab at 0x21debab4448>,\n",
       " 'over': <gensim.models.keyedvectors.Vocab at 0x21debab4388>,\n",
       " 'into': <gensim.models.keyedvectors.Vocab at 0x21debab4588>}"
      ]
     },
     "execution_count": 4,
     "metadata": {},
     "output_type": "execute_result"
    }
   ],
   "source": [
    "model.vocab"
   ]
  },
  {
   "cell_type": "code",
   "execution_count": 5,
   "metadata": {},
   "outputs": [
    {
     "data": {
      "text/plain": [
       "76"
      ]
     },
     "execution_count": 5,
     "metadata": {},
     "output_type": "execute_result"
    }
   ],
   "source": [
    "len(model.vocab)"
   ]
  },
  {
   "cell_type": "code",
   "execution_count": null,
   "metadata": {},
   "outputs": [],
   "source": []
  }
 ],
 "metadata": {
  "kernelspec": {
   "display_name": "Python 3",
   "language": "python",
   "name": "python3"
  },
  "language_info": {
   "codemirror_mode": {
    "name": "ipython",
    "version": 3
   },
   "file_extension": ".py",
   "mimetype": "text/x-python",
   "name": "python",
   "nbconvert_exporter": "python",
   "pygments_lexer": "ipython3",
   "version": "3.7.4"
  }
 },
 "nbformat": 4,
 "nbformat_minor": 2
}
