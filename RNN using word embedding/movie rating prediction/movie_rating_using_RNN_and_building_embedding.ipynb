{
  "nbformat": 4,
  "nbformat_minor": 0,
  "metadata": {
    "colab": {
      "name": "movie rating using RNN and building embedding.ipynb",
      "provenance": [],
      "collapsed_sections": []
    },
    "kernelspec": {
      "name": "python3",
      "display_name": "Python 3"
    },
    "accelerator": "GPU"
  },
  "cells": [
    {
      "cell_type": "code",
      "metadata": {
        "id": "LQbQrPoKLWmc",
        "colab_type": "code",
        "colab": {}
      },
      "source": [
        ""
      ],
      "execution_count": 1,
      "outputs": []
    },
    {
      "cell_type": "code",
      "metadata": {
        "id": "NFvLvBRHdcwL",
        "colab_type": "code",
        "colab": {
          "base_uri": "https://localhost:8080/",
          "height": 373
        },
        "outputId": "940b493e-0bed-4566-f989-83795ea31cf8"
      },
      "source": [
        "!wget https://www.dropbox.com/sh/xh8rdvrvkak3diz/AAD2vtlsi4-BrwBnSAyk__F5a?dl=1 -O train"
      ],
      "execution_count": 2,
      "outputs": [
        {
          "output_type": "stream",
          "text": [
            "--2020-07-07 10:10:53--  https://www.dropbox.com/sh/xh8rdvrvkak3diz/AAD2vtlsi4-BrwBnSAyk__F5a?dl=1\n",
            "Resolving www.dropbox.com (www.dropbox.com)... 162.125.1.1, 2620:100:6016:1::a27d:101\n",
            "Connecting to www.dropbox.com (www.dropbox.com)|162.125.1.1|:443... connected.\n",
            "HTTP request sent, awaiting response... 301 Moved Permanently\n",
            "Location: /sh/dl/xh8rdvrvkak3diz/AAD2vtlsi4-BrwBnSAyk__F5a [following]\n",
            "--2020-07-07 10:10:53--  https://www.dropbox.com/sh/dl/xh8rdvrvkak3diz/AAD2vtlsi4-BrwBnSAyk__F5a\n",
            "Reusing existing connection to www.dropbox.com:443.\n",
            "HTTP request sent, awaiting response... 302 Found\n",
            "Location: https://uc107e9dfc2afff8303976f6d7d0.dl.dropboxusercontent.com/zip_download_get/AecItLR-7lgh9g_VUGPmDq4NyRdtGOZ8bmk5on4Q2doiAW5pL_JXLnuB1lKG19b1J_cFg0MX1zaJmGVaj8GdV1GYDUZBCjve-3XToSbjQs6DFA?dl=1 [following]\n",
            "--2020-07-07 10:10:54--  https://uc107e9dfc2afff8303976f6d7d0.dl.dropboxusercontent.com/zip_download_get/AecItLR-7lgh9g_VUGPmDq4NyRdtGOZ8bmk5on4Q2doiAW5pL_JXLnuB1lKG19b1J_cFg0MX1zaJmGVaj8GdV1GYDUZBCjve-3XToSbjQs6DFA?dl=1\n",
            "Resolving uc107e9dfc2afff8303976f6d7d0.dl.dropboxusercontent.com (uc107e9dfc2afff8303976f6d7d0.dl.dropboxusercontent.com)... 162.125.1.15, 2620:100:6016:15::a27d:10f\n",
            "Connecting to uc107e9dfc2afff8303976f6d7d0.dl.dropboxusercontent.com (uc107e9dfc2afff8303976f6d7d0.dl.dropboxusercontent.com)|162.125.1.15|:443... connected.\n",
            "HTTP request sent, awaiting response... 200 OK\n",
            "Length: 52658267 (50M) [application/zip]\n",
            "Saving to: ‘train’\n",
            "\n",
            "\rtrain                 0%[                    ]       0  --.-KB/s               \rtrain                19%[==>                 ]  10.02M  47.8MB/s               \rtrain                63%[===========>        ]  32.01M  55.3MB/s               \rtrain                95%[==================> ]  47.82M  57.5MB/s               \rtrain               100%[===================>]  50.22M  58.8MB/s    in 0.9s    \n",
            "\n",
            "2020-07-07 10:10:55 (58.8 MB/s) - ‘train’ saved [52658267/52658267]\n",
            "\n"
          ],
          "name": "stdout"
        }
      ]
    },
    {
      "cell_type": "code",
      "metadata": {
        "id": "NiQkH593eyI7",
        "colab_type": "code",
        "colab": {
          "base_uri": "https://localhost:8080/",
          "height": 373
        },
        "outputId": "d9d293b8-e484-412b-eb20-0c75258ac4da"
      },
      "source": [
        "!wget https://www.dropbox.com/sh/eyl9ci8xzg7ta54/AAB6GD8bT6B8nj9LhlI0g3mXa?dl=1 -O test"
      ],
      "execution_count": 3,
      "outputs": [
        {
          "output_type": "stream",
          "text": [
            "--2020-07-07 10:11:04--  https://www.dropbox.com/sh/eyl9ci8xzg7ta54/AAB6GD8bT6B8nj9LhlI0g3mXa?dl=1\n",
            "Resolving www.dropbox.com (www.dropbox.com)... 162.125.1.1, 2620:100:6016:1::a27d:101\n",
            "Connecting to www.dropbox.com (www.dropbox.com)|162.125.1.1|:443... connected.\n",
            "HTTP request sent, awaiting response... 301 Moved Permanently\n",
            "Location: /sh/dl/eyl9ci8xzg7ta54/AAB6GD8bT6B8nj9LhlI0g3mXa [following]\n",
            "--2020-07-07 10:11:04--  https://www.dropbox.com/sh/dl/eyl9ci8xzg7ta54/AAB6GD8bT6B8nj9LhlI0g3mXa\n",
            "Reusing existing connection to www.dropbox.com:443.\n",
            "HTTP request sent, awaiting response... 302 Found\n",
            "Location: https://uc18c233fb95bcbaf32f7716cda7.dl.dropboxusercontent.com/zip_download_get/AeddZd_7JAtQaRV9Vy9XQPfvbh0PHRFKSy6pv6Rp8sd_U2iNUHeRXeoqxAIvou9nRyrNhbT4LB7nZKK7maSKHrk1747JMOvhIsa9-SAW8H4WdA?dl=1 [following]\n",
            "--2020-07-07 10:11:05--  https://uc18c233fb95bcbaf32f7716cda7.dl.dropboxusercontent.com/zip_download_get/AeddZd_7JAtQaRV9Vy9XQPfvbh0PHRFKSy6pv6Rp8sd_U2iNUHeRXeoqxAIvou9nRyrNhbT4LB7nZKK7maSKHrk1747JMOvhIsa9-SAW8H4WdA?dl=1\n",
            "Resolving uc18c233fb95bcbaf32f7716cda7.dl.dropboxusercontent.com (uc18c233fb95bcbaf32f7716cda7.dl.dropboxusercontent.com)... 162.125.1.15, 2620:100:6016:15::a27d:10f\n",
            "Connecting to uc18c233fb95bcbaf32f7716cda7.dl.dropboxusercontent.com (uc18c233fb95bcbaf32f7716cda7.dl.dropboxusercontent.com)|162.125.1.15|:443... connected.\n",
            "HTTP request sent, awaiting response... 200 OK\n",
            "Length: 13430822 (13M) [application/zip]\n",
            "Saving to: ‘test’\n",
            "\n",
            "\rtest                  0%[                    ]       0  --.-KB/s               \rtest                 78%[==============>     ]  10.02M  46.2MB/s               \rtest                100%[===================>]  12.81M  53.5MB/s    in 0.2s    \n",
            "\n",
            "2020-07-07 10:11:06 (53.5 MB/s) - ‘test’ saved [13430822/13430822]\n",
            "\n"
          ],
          "name": "stdout"
        }
      ]
    },
    {
      "cell_type": "code",
      "metadata": {
        "id": "wVa6F2Kye-4l",
        "colab_type": "code",
        "colab": {
          "base_uri": "https://localhost:8080/",
          "height": 84
        },
        "outputId": "f34f1a14-8da9-4879-85cc-0c1fdae2c172"
      },
      "source": [
        "!unzip train -d Train/  # -d will create folder and add file in that folder"
      ],
      "execution_count": 4,
      "outputs": [
        {
          "output_type": "stream",
          "text": [
            "Archive:  train\n",
            "warning:  stripped absolute path spec from /\n",
            "mapname:  conversion of  failed\n",
            " extracting: Train/Train.csv         \n"
          ],
          "name": "stdout"
        }
      ]
    },
    {
      "cell_type": "code",
      "metadata": {
        "id": "SGjYMb_WfCi5",
        "colab_type": "code",
        "colab": {
          "base_uri": "https://localhost:8080/",
          "height": 101
        },
        "outputId": "a1b79379-5e9d-4f42-e6fc-a7c6066d2383"
      },
      "source": [
        "!unzip test -d Test/"
      ],
      "execution_count": 5,
      "outputs": [
        {
          "output_type": "stream",
          "text": [
            "Archive:  test\n",
            "warning:  stripped absolute path spec from /\n",
            "mapname:  conversion of  failed\n",
            " extracting: Test/Test.csv           \n",
            " extracting: Test/Sample_submission.csv  \n"
          ],
          "name": "stdout"
        }
      ]
    },
    {
      "cell_type": "code",
      "metadata": {
        "id": "H0MhIelifGbI",
        "colab_type": "code",
        "colab": {}
      },
      "source": [
        "import pandas as pd\n",
        "import numpy as np\n",
        "from nltk.tokenize import RegexpTokenizer\n",
        "from nltk.stem.porter import PorterStemmer\n",
        "from nltk.corpus import stopwords\n",
        "from sklearn.feature_extraction.text import CountVectorizer"
      ],
      "execution_count": 6,
      "outputs": []
    },
    {
      "cell_type": "code",
      "metadata": {
        "id": "K4vwemQHC7yg",
        "colab_type": "code",
        "colab": {}
      },
      "source": [
        "train = pd.read_csv('Train/Train.csv')\n",
        "test = pd.read_csv('Test/Test.csv')"
      ],
      "execution_count": 7,
      "outputs": []
    },
    {
      "cell_type": "code",
      "metadata": {
        "id": "L8RXraeRSmMq",
        "colab_type": "code",
        "colab": {
          "base_uri": "https://localhost:8080/",
          "height": 34
        },
        "outputId": "010dd8a2-5dbc-4d9c-c210-1767a9e33a9e"
      },
      "source": [
        "type(['review'][0])"
      ],
      "execution_count": 8,
      "outputs": [
        {
          "output_type": "execute_result",
          "data": {
            "text/plain": [
              "str"
            ]
          },
          "metadata": {
            "tags": []
          },
          "execution_count": 8
        }
      ]
    },
    {
      "cell_type": "code",
      "metadata": {
        "id": "B0hpffijUvlO",
        "colab_type": "code",
        "colab": {}
      },
      "source": [
        "test=test['review'].values"
      ],
      "execution_count": 9,
      "outputs": []
    },
    {
      "cell_type": "code",
      "metadata": {
        "id": "RmRZjKpnU16J",
        "colab_type": "code",
        "colab": {
          "base_uri": "https://localhost:8080/",
          "height": 34
        },
        "outputId": "3ab09411-0259-457f-db01-7628dfb55efa"
      },
      "source": [
        "type(test[0])"
      ],
      "execution_count": 10,
      "outputs": [
        {
          "output_type": "execute_result",
          "data": {
            "text/plain": [
              "str"
            ]
          },
          "metadata": {
            "tags": []
          },
          "execution_count": 10
        }
      ]
    },
    {
      "cell_type": "code",
      "metadata": {
        "id": "qlFvw2X9R4f8",
        "colab_type": "code",
        "colab": {
          "base_uri": "https://localhost:8080/",
          "height": 34
        },
        "outputId": "8020aa2d-bf20-4cc5-96ff-1ad28423cb80"
      },
      "source": [
        "test.shape"
      ],
      "execution_count": 11,
      "outputs": [
        {
          "output_type": "execute_result",
          "data": {
            "text/plain": [
              "(10000,)"
            ]
          },
          "metadata": {
            "tags": []
          },
          "execution_count": 11
        }
      ]
    },
    {
      "cell_type": "code",
      "metadata": {
        "id": "4ooiYY4qDQVI",
        "colab_type": "code",
        "colab": {}
      },
      "source": [
        "X_train=train['review'].values"
      ],
      "execution_count": 12,
      "outputs": []
    },
    {
      "cell_type": "code",
      "metadata": {
        "id": "PaYUUvdsR8dP",
        "colab_type": "code",
        "colab": {
          "base_uri": "https://localhost:8080/",
          "height": 34
        },
        "outputId": "b1152140-ff93-4efd-d73a-4518b2b53c1e"
      },
      "source": [
        "X_train.shape"
      ],
      "execution_count": 13,
      "outputs": [
        {
          "output_type": "execute_result",
          "data": {
            "text/plain": [
              "(40000,)"
            ]
          },
          "metadata": {
            "tags": []
          },
          "execution_count": 13
        }
      ]
    },
    {
      "cell_type": "code",
      "metadata": {
        "id": "_hDivhAFO8OW",
        "colab_type": "code",
        "colab": {}
      },
      "source": [
        "Y_train=[]\n",
        "for x in train['label']:\n",
        "  if x=='pos':\n",
        "    Y_train.append(1)\n",
        "  else:\n",
        "    Y_train.append(0)"
      ],
      "execution_count": 14,
      "outputs": []
    },
    {
      "cell_type": "code",
      "metadata": {
        "id": "YI7y4nEuQKXh",
        "colab_type": "code",
        "colab": {}
      },
      "source": [
        "Y_train=np.array(Y_train)"
      ],
      "execution_count": 15,
      "outputs": []
    },
    {
      "cell_type": "code",
      "metadata": {
        "id": "YnYCtwqxQRBA",
        "colab_type": "code",
        "colab": {
          "base_uri": "https://localhost:8080/",
          "height": 34
        },
        "outputId": "46e761d7-f653-4a88-c2aa-03b0c0d621e3"
      },
      "source": [
        "Y_train[:7]"
      ],
      "execution_count": 16,
      "outputs": [
        {
          "output_type": "execute_result",
          "data": {
            "text/plain": [
              "array([1, 1, 1, 1, 1, 1, 0])"
            ]
          },
          "metadata": {
            "tags": []
          },
          "execution_count": 16
        }
      ]
    },
    {
      "cell_type": "code",
      "metadata": {
        "id": "NexZurOQDobM",
        "colab_type": "code",
        "colab": {
          "base_uri": "https://localhost:8080/",
          "height": 34
        },
        "outputId": "17e0c113-91f9-41af-e169-15fd77905fb0"
      },
      "source": [
        "Y_train.shape"
      ],
      "execution_count": 17,
      "outputs": [
        {
          "output_type": "execute_result",
          "data": {
            "text/plain": [
              "(40000,)"
            ]
          },
          "metadata": {
            "tags": []
          },
          "execution_count": 17
        }
      ]
    },
    {
      "cell_type": "code",
      "metadata": {
        "id": "-LUxOtY_FZsp",
        "colab_type": "code",
        "colab": {
          "base_uri": "https://localhost:8080/",
          "height": 69
        },
        "outputId": "e98510dc-dc64-4a03-d412-2bb383ad509a"
      },
      "source": [
        "X_train[1]"
      ],
      "execution_count": 18,
      "outputs": [
        {
          "output_type": "execute_result",
          "data": {
            "application/vnd.google.colaboratory.intrinsic": {
              "type": "string"
            },
            "text/plain": [
              "'http://video.google.com/videoplay?docid=211772166650071408&hl=en Distribution was tried.<br /><br />We opted for mass appeal.<br /><br />We want the best possible viewing range so, we forgo profit and continue our manual labor jobs gladly to entertain you for working yours.<br /><br />View Texas tale, please write about it... If you like it or not, if you like Alex or not, if you like Stuie, Texas or Texas tale... Just write about it.<br /><br />Your opinion rules.'"
            ]
          },
          "metadata": {
            "tags": []
          },
          "execution_count": 18
        }
      ]
    },
    {
      "cell_type": "code",
      "metadata": {
        "id": "Vp2g_FYwFcTE",
        "colab_type": "code",
        "colab": {}
      },
      "source": [
        "rev = \"Hey for the delay of thr movie in review of the movie\""
      ],
      "execution_count": 19,
      "outputs": []
    },
    {
      "cell_type": "code",
      "metadata": {
        "id": "b_TRv4uLH9pm",
        "colab_type": "code",
        "colab": {}
      },
      "source": [
        "import nltk"
      ],
      "execution_count": 20,
      "outputs": []
    },
    {
      "cell_type": "code",
      "metadata": {
        "id": "7QjzcKMoI9TV",
        "colab_type": "code",
        "colab": {
          "base_uri": "https://localhost:8080/",
          "height": 67
        },
        "outputId": "080c7d8d-d254-48fc-bdc0-d07fc69eac97"
      },
      "source": [
        "nltk.download('stopwords')"
      ],
      "execution_count": 21,
      "outputs": [
        {
          "output_type": "stream",
          "text": [
            "[nltk_data] Downloading package stopwords to /root/nltk_data...\n",
            "[nltk_data]   Unzipping corpora/stopwords.zip.\n"
          ],
          "name": "stdout"
        },
        {
          "output_type": "execute_result",
          "data": {
            "text/plain": [
              "True"
            ]
          },
          "metadata": {
            "tags": []
          },
          "execution_count": 21
        }
      ]
    },
    {
      "cell_type": "code",
      "metadata": {
        "id": "lA5VPGEfIRfv",
        "colab_type": "code",
        "colab": {}
      },
      "source": [
        "tokenizer = RegexpTokenizer(r'\\w+')\n",
        "en_stopwords = set(stopwords.words('english'))\n",
        "ps = PorterStemmer()\n",
        "\n",
        "def getstemmedReview(review):\n",
        "  review = review.lower()\n",
        "  review = review.replace(\"<br /><br />\",\" \")\n",
        "\n",
        "  tokens = tokenizer.tokenize(review)\n",
        "\n",
        "  new_tokens=[t for t in tokens if t not in en_stopwords]\n",
        "  stemed_tokens = [ps.stem(token) for token in new_tokens]\n",
        "  \n",
        "  cleaned_review = ' '.join(stemed_tokens)\n",
        "  return cleaned_review"
      ],
      "execution_count": 22,
      "outputs": []
    },
    {
      "cell_type": "markdown",
      "metadata": {
        "id": "cQwM0Pi_G67n",
        "colab_type": "text"
      },
      "source": [
        "\n",
        "\n",
        "\n",
        "#  ***this is for testing codes skip this starting from here***\n"
      ]
    },
    {
      "cell_type": "markdown",
      "metadata": {
        "id": "mhZKOUq3G65c",
        "colab_type": "text"
      },
      "source": [
        ""
      ]
    },
    {
      "cell_type": "code",
      "metadata": {
        "id": "oVFdTp9AJGZB",
        "colab_type": "code",
        "colab": {
          "base_uri": "https://localhost:8080/",
          "height": 34
        },
        "outputId": "2317db80-8ca3-4b9f-d10c-b6fa7e7fa7c9"
      },
      "source": [
        "print(getstemmedReview(rev))"
      ],
      "execution_count": 23,
      "outputs": [
        {
          "output_type": "stream",
          "text": [
            "hey delay thr movi review movi\n"
          ],
          "name": "stdout"
        }
      ]
    },
    {
      "cell_type": "code",
      "metadata": {
        "id": "qiJXUgGLJEnz",
        "colab_type": "code",
        "colab": {
          "base_uri": "https://localhost:8080/",
          "height": 70
        },
        "outputId": "c55f4f6f-aa23-4c4a-92a6-5b78e5f630bb"
      },
      "source": [
        "print(X_train[1])\n",
        "print(getstemmedReview(X_train[1]))"
      ],
      "execution_count": 24,
      "outputs": [
        {
          "output_type": "stream",
          "text": [
            "http://video.google.com/videoplay?docid=211772166650071408&hl=en Distribution was tried.<br /><br />We opted for mass appeal.<br /><br />We want the best possible viewing range so, we forgo profit and continue our manual labor jobs gladly to entertain you for working yours.<br /><br />View Texas tale, please write about it... If you like it or not, if you like Alex or not, if you like Stuie, Texas or Texas tale... Just write about it.<br /><br />Your opinion rules.\n",
            "http video googl com videoplay docid 211772166650071408 hl en distribut tri opt mass appeal want best possibl view rang forgo profit continu manual labor job gladli entertain work view texa tale pleas write like like alex like stuie texa texa tale write opinion rule\n"
          ],
          "name": "stdout"
        }
      ]
    },
    {
      "cell_type": "code",
      "metadata": {
        "id": "bWLtrMs6LDxH",
        "colab_type": "code",
        "colab": {}
      },
      "source": [
        "cv = CountVectorizer()\n"
      ],
      "execution_count": 25,
      "outputs": []
    },
    {
      "cell_type": "markdown",
      "metadata": {
        "id": "yV-Tv45rItWj",
        "colab_type": "text"
      },
      "source": [
        ""
      ]
    },
    {
      "cell_type": "code",
      "metadata": {
        "id": "D7SZTrTgLQ5s",
        "colab_type": "code",
        "colab": {
          "base_uri": "https://localhost:8080/",
          "height": 50
        },
        "outputId": "b88dfec6-7daa-455a-b66e-f10a1727867e"
      },
      "source": [
        "cv.fit_transform([getstemmedReview(X_train[1])])"
      ],
      "execution_count": 26,
      "outputs": [
        {
          "output_type": "execute_result",
          "data": {
            "text/plain": [
              "<1x37 sparse matrix of type '<class 'numpy.int64'>'\n",
              "\twith 37 stored elements in Compressed Sparse Row format>"
            ]
          },
          "metadata": {
            "tags": []
          },
          "execution_count": 26
        }
      ]
    },
    {
      "cell_type": "code",
      "metadata": {
        "id": "zUxEevkMLsYP",
        "colab_type": "code",
        "colab": {
          "base_uri": "https://localhost:8080/",
          "height": 34
        },
        "outputId": "6a9330a6-c53b-424e-e5b1-f1767219610f"
      },
      "source": [
        "r=getstemmedReview(X_train[1])\n",
        "len(r)"
      ],
      "execution_count": 27,
      "outputs": [
        {
          "output_type": "execute_result",
          "data": {
            "text/plain": [
              "266"
            ]
          },
          "metadata": {
            "tags": []
          },
          "execution_count": 27
        }
      ]
    },
    {
      "cell_type": "code",
      "metadata": {
        "id": "fPDP3ddMLTr9",
        "colab_type": "code",
        "colab": {
          "base_uri": "https://localhost:8080/",
          "height": 638
        },
        "outputId": "8a142aa0-11b0-47b3-8cfe-2665072704d8"
      },
      "source": [
        "cv.vocabulary_"
      ],
      "execution_count": 28,
      "outputs": [
        {
          "output_type": "execute_result",
          "data": {
            "text/plain": [
              "{'211772166650071408': 0,\n",
              " 'alex': 1,\n",
              " 'appeal': 2,\n",
              " 'best': 3,\n",
              " 'com': 4,\n",
              " 'continu': 5,\n",
              " 'distribut': 6,\n",
              " 'docid': 7,\n",
              " 'en': 8,\n",
              " 'entertain': 9,\n",
              " 'forgo': 10,\n",
              " 'gladli': 11,\n",
              " 'googl': 12,\n",
              " 'hl': 13,\n",
              " 'http': 14,\n",
              " 'job': 15,\n",
              " 'labor': 16,\n",
              " 'like': 17,\n",
              " 'manual': 18,\n",
              " 'mass': 19,\n",
              " 'opinion': 20,\n",
              " 'opt': 21,\n",
              " 'pleas': 22,\n",
              " 'possibl': 23,\n",
              " 'profit': 24,\n",
              " 'rang': 25,\n",
              " 'rule': 26,\n",
              " 'stuie': 27,\n",
              " 'tale': 28,\n",
              " 'texa': 29,\n",
              " 'tri': 30,\n",
              " 'video': 31,\n",
              " 'videoplay': 32,\n",
              " 'view': 33,\n",
              " 'want': 34,\n",
              " 'work': 35,\n",
              " 'write': 36}"
            ]
          },
          "metadata": {
            "tags": []
          },
          "execution_count": 28
        }
      ]
    },
    {
      "cell_type": "code",
      "metadata": {
        "id": "iJ8O6xWgLT2O",
        "colab_type": "code",
        "colab": {}
      },
      "source": [
        "x=[]\n",
        "r1=getstemmedReview(X_train[0])\n",
        "r2=getstemmedReview(X_train[1])\n",
        "x.append(r1)\n",
        "x.append(r2)"
      ],
      "execution_count": 29,
      "outputs": []
    },
    {
      "cell_type": "code",
      "metadata": {
        "id": "KTkv-vk8LT6a",
        "colab_type": "code",
        "colab": {
          "base_uri": "https://localhost:8080/",
          "height": 70
        },
        "outputId": "37df5e76-3559-4621-d63a-3b946ff3c409"
      },
      "source": [
        "print(r1,\"\\n\",r2)"
      ],
      "execution_count": 30,
      "outputs": [
        {
          "output_type": "stream",
          "text": [
            "matur intellig highli charg melodrama unbelivebl film china 1948 wei wei stun perform catylast love triangl simpli stun oppurun see magnific film take \n",
            " http video googl com videoplay docid 211772166650071408 hl en distribut tri opt mass appeal want best possibl view rang forgo profit continu manual labor job gladli entertain work view texa tale pleas write like like alex like stuie texa texa tale write opinion rule\n"
          ],
          "name": "stdout"
        }
      ]
    },
    {
      "cell_type": "code",
      "metadata": {
        "id": "9zEwm6rkiaRm",
        "colab_type": "code",
        "colab": {
          "base_uri": "https://localhost:8080/",
          "height": 50
        },
        "outputId": "caa5f8e2-8bea-43a8-ed0b-476364e46d8b"
      },
      "source": [
        "cv.fit_transform(x)"
      ],
      "execution_count": 31,
      "outputs": [
        {
          "output_type": "execute_result",
          "data": {
            "text/plain": [
              "<2x57 sparse matrix of type '<class 'numpy.int64'>'\n",
              "\twith 57 stored elements in Compressed Sparse Row format>"
            ]
          },
          "metadata": {
            "tags": []
          },
          "execution_count": 31
        }
      ]
    },
    {
      "cell_type": "code",
      "metadata": {
        "id": "QP62C-c0mZD-",
        "colab_type": "code",
        "colab": {}
      },
      "source": [
        "dict_val= cv.vocabulary_"
      ],
      "execution_count": 32,
      "outputs": []
    },
    {
      "cell_type": "code",
      "metadata": {
        "id": "1ygf90_1E1YW",
        "colab_type": "code",
        "colab": {
          "base_uri": "https://localhost:8080/",
          "height": 974
        },
        "outputId": "86d57bce-c766-4121-f2a9-20ff1339fe75"
      },
      "source": [
        "(dict_val)"
      ],
      "execution_count": 33,
      "outputs": [
        {
          "output_type": "execute_result",
          "data": {
            "text/plain": [
              "{'1948': 0,\n",
              " '211772166650071408': 1,\n",
              " 'alex': 2,\n",
              " 'appeal': 3,\n",
              " 'best': 4,\n",
              " 'catylast': 5,\n",
              " 'charg': 6,\n",
              " 'china': 7,\n",
              " 'com': 8,\n",
              " 'continu': 9,\n",
              " 'distribut': 10,\n",
              " 'docid': 11,\n",
              " 'en': 12,\n",
              " 'entertain': 13,\n",
              " 'film': 14,\n",
              " 'forgo': 15,\n",
              " 'gladli': 16,\n",
              " 'googl': 17,\n",
              " 'highli': 18,\n",
              " 'hl': 19,\n",
              " 'http': 20,\n",
              " 'intellig': 21,\n",
              " 'job': 22,\n",
              " 'labor': 23,\n",
              " 'like': 24,\n",
              " 'love': 25,\n",
              " 'magnific': 26,\n",
              " 'manual': 27,\n",
              " 'mass': 28,\n",
              " 'matur': 29,\n",
              " 'melodrama': 30,\n",
              " 'opinion': 31,\n",
              " 'oppurun': 32,\n",
              " 'opt': 33,\n",
              " 'perform': 34,\n",
              " 'pleas': 35,\n",
              " 'possibl': 36,\n",
              " 'profit': 37,\n",
              " 'rang': 38,\n",
              " 'rule': 39,\n",
              " 'see': 40,\n",
              " 'simpli': 41,\n",
              " 'stuie': 42,\n",
              " 'stun': 43,\n",
              " 'take': 44,\n",
              " 'tale': 45,\n",
              " 'texa': 46,\n",
              " 'tri': 47,\n",
              " 'triangl': 48,\n",
              " 'unbelivebl': 49,\n",
              " 'video': 50,\n",
              " 'videoplay': 51,\n",
              " 'view': 52,\n",
              " 'want': 53,\n",
              " 'wei': 54,\n",
              " 'work': 55,\n",
              " 'write': 56}"
            ]
          },
          "metadata": {
            "tags": []
          },
          "execution_count": 33
        }
      ]
    },
    {
      "cell_type": "code",
      "metadata": {
        "id": "Se0q9wE9oHzv",
        "colab_type": "code",
        "colab": {
          "base_uri": "https://localhost:8080/",
          "height": 35
        },
        "outputId": "603045ab-aa76-43c3-85ab-03d162962b37"
      },
      "source": [
        "x[0]"
      ],
      "execution_count": 34,
      "outputs": [
        {
          "output_type": "execute_result",
          "data": {
            "application/vnd.google.colaboratory.intrinsic": {
              "type": "string"
            },
            "text/plain": [
              "'matur intellig highli charg melodrama unbelivebl film china 1948 wei wei stun perform catylast love triangl simpli stun oppurun see magnific film take'"
            ]
          },
          "metadata": {
            "tags": []
          },
          "execution_count": 34
        }
      ]
    },
    {
      "cell_type": "code",
      "metadata": {
        "id": "YMmgTXFtFF__",
        "colab_type": "code",
        "colab": {}
      },
      "source": [
        "xty=[dict_val[t] for t in x[0].split()]"
      ],
      "execution_count": 35,
      "outputs": []
    },
    {
      "cell_type": "code",
      "metadata": {
        "id": "NSY_d0WfFQvo",
        "colab_type": "code",
        "colab": {
          "base_uri": "https://localhost:8080/",
          "height": 403
        },
        "outputId": "22e770cf-ad3a-4f9c-c9a8-25a1c7725753"
      },
      "source": [
        "(xty)"
      ],
      "execution_count": 36,
      "outputs": [
        {
          "output_type": "execute_result",
          "data": {
            "text/plain": [
              "[29,\n",
              " 21,\n",
              " 18,\n",
              " 6,\n",
              " 30,\n",
              " 49,\n",
              " 14,\n",
              " 7,\n",
              " 0,\n",
              " 54,\n",
              " 54,\n",
              " 43,\n",
              " 34,\n",
              " 5,\n",
              " 25,\n",
              " 48,\n",
              " 41,\n",
              " 43,\n",
              " 32,\n",
              " 40,\n",
              " 26,\n",
              " 14,\n",
              " 44]"
            ]
          },
          "metadata": {
            "tags": []
          },
          "execution_count": 36
        }
      ]
    },
    {
      "cell_type": "code",
      "metadata": {
        "id": "e9xNSupEoZRM",
        "colab_type": "code",
        "colab": {}
      },
      "source": [
        "xt=[]\n",
        "\n",
        "for i in x:\n",
        "  xty=[dict_val[t] for t in i.split()]\n",
        "  xt.append(xty)\n",
        "  "
      ],
      "execution_count": 37,
      "outputs": []
    },
    {
      "cell_type": "code",
      "metadata": {
        "id": "0eoMXddmGDe_",
        "colab_type": "code",
        "colab": {}
      },
      "source": [
        "x1=[]\n",
        "x2=[]\n",
        "r1=getstemmedReview(X_train[0])\n",
        "r2=getstemmedReview(X_train[1])\n",
        "x1.append(r1)\n",
        "x2.append(r2)"
      ],
      "execution_count": 38,
      "outputs": []
    },
    {
      "cell_type": "code",
      "metadata": {
        "id": "eTiElFebLYDB",
        "colab_type": "code",
        "colab": {}
      },
      "source": [
        "x3=x1"
      ],
      "execution_count": 39,
      "outputs": []
    },
    {
      "cell_type": "code",
      "metadata": {
        "id": "fY22trhRLYYy",
        "colab_type": "code",
        "colab": {}
      },
      "source": [
        "x3.append(x2[0])"
      ],
      "execution_count": 40,
      "outputs": []
    },
    {
      "cell_type": "code",
      "metadata": {
        "id": "lPXq5ziLME8A",
        "colab_type": "code",
        "colab": {
          "base_uri": "https://localhost:8080/",
          "height": 188
        },
        "outputId": "42e7b393-aded-4a97-b9fa-f282941f446a"
      },
      "source": [
        "(x3,\"\\n\",\"\\n\",x2,\"\\n\",\"\\n\",x1) # we can see x2 is also changing to change in x3 as x3 is only taking address of x1 not copying it"
      ],
      "execution_count": 41,
      "outputs": [
        {
          "output_type": "execute_result",
          "data": {
            "text/plain": [
              "(['matur intellig highli charg melodrama unbelivebl film china 1948 wei wei stun perform catylast love triangl simpli stun oppurun see magnific film take',\n",
              "  'http video googl com videoplay docid 211772166650071408 hl en distribut tri opt mass appeal want best possibl view rang forgo profit continu manual labor job gladli entertain work view texa tale pleas write like like alex like stuie texa texa tale write opinion rule'],\n",
              " '\\n',\n",
              " '\\n',\n",
              " ['http video googl com videoplay docid 211772166650071408 hl en distribut tri opt mass appeal want best possibl view rang forgo profit continu manual labor job gladli entertain work view texa tale pleas write like like alex like stuie texa texa tale write opinion rule'],\n",
              " '\\n',\n",
              " '\\n',\n",
              " ['matur intellig highli charg melodrama unbelivebl film china 1948 wei wei stun perform catylast love triangl simpli stun oppurun see magnific film take',\n",
              "  'http video googl com videoplay docid 211772166650071408 hl en distribut tri opt mass appeal want best possibl view rang forgo profit continu manual labor job gladli entertain work view texa tale pleas write like like alex like stuie texa texa tale write opinion rule'])"
            ]
          },
          "metadata": {
            "tags": []
          },
          "execution_count": 41
        }
      ]
    },
    {
      "cell_type": "code",
      "metadata": {
        "id": "0s8TvqWUMFB8",
        "colab_type": "code",
        "colab": {}
      },
      "source": [
        "x1=[]\n",
        "x2=[]\n",
        "r1=getstemmedReview(X_train[0])\n",
        "r2=getstemmedReview(X_train[1])\n",
        "x1.append(r1)\n",
        "x2.append(r2)"
      ],
      "execution_count": 42,
      "outputs": []
    },
    {
      "cell_type": "code",
      "metadata": {
        "id": "7ei4mowrMFHG",
        "colab_type": "code",
        "colab": {}
      },
      "source": [
        "x3=x1.copy()"
      ],
      "execution_count": 43,
      "outputs": []
    },
    {
      "cell_type": "code",
      "metadata": {
        "id": "ICB5xaUxMFPv",
        "colab_type": "code",
        "colab": {}
      },
      "source": [
        "x3.append(x2[0])"
      ],
      "execution_count": 44,
      "outputs": []
    },
    {
      "cell_type": "code",
      "metadata": {
        "id": "ETijdBwWMFUc",
        "colab_type": "code",
        "colab": {
          "base_uri": "https://localhost:8080/",
          "height": 171
        },
        "outputId": "e1f39831-408c-43e0-a5c1-f563109798f5"
      },
      "source": [
        "(x3,\"\\n\",\"\\n\",x2,\"\\n\",\"\\n\",x1) # we can see now x2 is not changing to change in x3 as we copied x3 on the different address"
      ],
      "execution_count": 45,
      "outputs": [
        {
          "output_type": "execute_result",
          "data": {
            "text/plain": [
              "(['matur intellig highli charg melodrama unbelivebl film china 1948 wei wei stun perform catylast love triangl simpli stun oppurun see magnific film take',\n",
              "  'http video googl com videoplay docid 211772166650071408 hl en distribut tri opt mass appeal want best possibl view rang forgo profit continu manual labor job gladli entertain work view texa tale pleas write like like alex like stuie texa texa tale write opinion rule'],\n",
              " '\\n',\n",
              " '\\n',\n",
              " ['http video googl com videoplay docid 211772166650071408 hl en distribut tri opt mass appeal want best possibl view rang forgo profit continu manual labor job gladli entertain work view texa tale pleas write like like alex like stuie texa texa tale write opinion rule'],\n",
              " '\\n',\n",
              " '\\n',\n",
              " ['matur intellig highli charg melodrama unbelivebl film china 1948 wei wei stun perform catylast love triangl simpli stun oppurun see magnific film take'])"
            ]
          },
          "metadata": {
            "tags": []
          },
          "execution_count": 45
        }
      ]
    },
    {
      "cell_type": "code",
      "metadata": {
        "id": "TVMcfkhrMFfo",
        "colab_type": "code",
        "colab": {}
      },
      "source": [
        "x1=[]\n",
        "x2=[]\n",
        "r1=getstemmedReview(X_train[0])\n",
        "r2=getstemmedReview(X_train[1])\n",
        "x1.append(r1)\n",
        "x2.append(r2)"
      ],
      "execution_count": 46,
      "outputs": []
    },
    {
      "cell_type": "code",
      "metadata": {
        "id": "Sn4A7i3eMFof",
        "colab_type": "code",
        "colab": {}
      },
      "source": [
        "x3=x1+x2"
      ],
      "execution_count": 47,
      "outputs": []
    },
    {
      "cell_type": "code",
      "metadata": {
        "id": "x-ZFqZ0FMFy7",
        "colab_type": "code",
        "colab": {
          "base_uri": "https://localhost:8080/",
          "height": 70
        },
        "outputId": "b7fb0889-e174-473a-ecbf-ff1084eaab25"
      },
      "source": [
        "x3"
      ],
      "execution_count": 48,
      "outputs": [
        {
          "output_type": "execute_result",
          "data": {
            "text/plain": [
              "['matur intellig highli charg melodrama unbelivebl film china 1948 wei wei stun perform catylast love triangl simpli stun oppurun see magnific film take',\n",
              " 'http video googl com videoplay docid 211772166650071408 hl en distribut tri opt mass appeal want best possibl view rang forgo profit continu manual labor job gladli entertain work view texa tale pleas write like like alex like stuie texa texa tale write opinion rule']"
            ]
          },
          "metadata": {
            "tags": []
          },
          "execution_count": 48
        }
      ]
    },
    {
      "cell_type": "markdown",
      "metadata": {
        "id": "5bL9ujggKAKS",
        "colab_type": "text"
      },
      "source": [
        "# ***skip till here***"
      ]
    },
    {
      "cell_type": "code",
      "metadata": {
        "id": "VXts7GThWC46",
        "colab_type": "code",
        "colab": {}
      },
      "source": [
        ""
      ],
      "execution_count": 48,
      "outputs": []
    },
    {
      "cell_type": "markdown",
      "metadata": {
        "id": "QbQ_11FAWuAQ",
        "colab_type": "text"
      },
      "source": [
        "# final begins here"
      ]
    },
    {
      "cell_type": "markdown",
      "metadata": {
        "id": "w0X_v53rWESr",
        "colab_type": "text"
      },
      "source": [
        "## now removing unwanted words using tokenizer,stopwords removal and stemming"
      ]
    },
    {
      "cell_type": "code",
      "metadata": {
        "id": "vydiKo0YKF2-",
        "colab_type": "code",
        "colab": {}
      },
      "source": [
        "X_train_cleaned=[]\n",
        "for i in X_train:\n",
        "  x=getstemmedReview(i)\n",
        "  X_train_cleaned.append(x)"
      ],
      "execution_count": 49,
      "outputs": []
    },
    {
      "cell_type": "code",
      "metadata": {
        "id": "e3YE9QLGRp1Q",
        "colab_type": "code",
        "colab": {
          "base_uri": "https://localhost:8080/",
          "height": 34
        },
        "outputId": "c118177e-4a69-4674-c599-fa44961241f5"
      },
      "source": [
        "type(X_train_cleaned[0])"
      ],
      "execution_count": 50,
      "outputs": [
        {
          "output_type": "execute_result",
          "data": {
            "text/plain": [
              "str"
            ]
          },
          "metadata": {
            "tags": []
          },
          "execution_count": 50
        }
      ]
    },
    {
      "cell_type": "code",
      "metadata": {
        "id": "eRIgjaAXV1d9",
        "colab_type": "code",
        "colab": {
          "base_uri": "https://localhost:8080/",
          "height": 52
        },
        "outputId": "2a9590e5-76b4-4d1b-8a2d-443695247b0f"
      },
      "source": [
        "(X_train_cleaned[1])"
      ],
      "execution_count": 51,
      "outputs": [
        {
          "output_type": "execute_result",
          "data": {
            "application/vnd.google.colaboratory.intrinsic": {
              "type": "string"
            },
            "text/plain": [
              "'http video googl com videoplay docid 211772166650071408 hl en distribut tri opt mass appeal want best possibl view rang forgo profit continu manual labor job gladli entertain work view texa tale pleas write like like alex like stuie texa texa tale write opinion rule'"
            ]
          },
          "metadata": {
            "tags": []
          },
          "execution_count": 51
        }
      ]
    },
    {
      "cell_type": "code",
      "metadata": {
        "id": "r7BZUbW8Vv1r",
        "colab_type": "code",
        "colab": {}
      },
      "source": [
        "X_test_cleaned=[]\n",
        "for i in test:\n",
        "  x=getstemmedReview(i)\n",
        "  X_test_cleaned.append(x)"
      ],
      "execution_count": 52,
      "outputs": []
    },
    {
      "cell_type": "code",
      "metadata": {
        "id": "hvimQ-XDKMoo",
        "colab_type": "code",
        "colab": {
          "base_uri": "https://localhost:8080/",
          "height": 34
        },
        "outputId": "421770af-4260-477a-e663-11e72c42abda"
      },
      "source": [
        "len(X_test_cleaned)"
      ],
      "execution_count": 53,
      "outputs": [
        {
          "output_type": "execute_result",
          "data": {
            "text/plain": [
              "10000"
            ]
          },
          "metadata": {
            "tags": []
          },
          "execution_count": 53
        }
      ]
    },
    {
      "cell_type": "code",
      "metadata": {
        "id": "DQ3X4mOfW2o7",
        "colab_type": "code",
        "colab": {
          "base_uri": "https://localhost:8080/",
          "height": 86
        },
        "outputId": "ef743b25-d32c-4c85-decb-7713349f6227"
      },
      "source": [
        "X_test_cleaned[0]"
      ],
      "execution_count": 54,
      "outputs": [
        {
          "output_type": "execute_result",
          "data": {
            "application/vnd.google.colaboratory.intrinsic": {
              "type": "string"
            },
            "text/plain": [
              "'rememb old kung fu movi use watch friday saturday late night babysitt thought charg well movi play exactli like one movi patsi kensit biggest claim fame love interest mel gibson charact lethal weapon 2 perform one reason never made big terribl actress lethal weapon 2 thought cute cute enough check movi includ love music love danc anoth big let obvious impress either attract eye soul scream turn play anoth cheap predict role done badli movi kensit star comedienn good one either work club franc cut homeland make ear bleed luck even wors french govern want throw expir visa mayb caught act get marri casanova freiss luck predict begin terribl way give movi neg rate 1 10 star rate'"
            ]
          },
          "metadata": {
            "tags": []
          },
          "execution_count": 54
        }
      ]
    },
    {
      "cell_type": "code",
      "metadata": {
        "id": "t3lHjCkpW6g8",
        "colab_type": "code",
        "colab": {}
      },
      "source": [
        ""
      ],
      "execution_count": 54,
      "outputs": []
    },
    {
      "cell_type": "markdown",
      "metadata": {
        "id": "j8NANKWLXAq_",
        "colab_type": "text"
      },
      "source": [
        "## now creating vocabulary and switching text with index of vocabulary"
      ]
    },
    {
      "cell_type": "code",
      "metadata": {
        "id": "kdMEs6zGXZau",
        "colab_type": "code",
        "colab": {}
      },
      "source": [
        "X_total=X_train_cleaned + X_test_cleaned"
      ],
      "execution_count": 55,
      "outputs": []
    },
    {
      "cell_type": "code",
      "metadata": {
        "id": "lTw6Z_h9Xea6",
        "colab_type": "code",
        "colab": {
          "base_uri": "https://localhost:8080/",
          "height": 34
        },
        "outputId": "56c96ecd-7db0-408c-a0c5-f0abdbdb6833"
      },
      "source": [
        "len(X_total)"
      ],
      "execution_count": 56,
      "outputs": [
        {
          "output_type": "execute_result",
          "data": {
            "text/plain": [
              "50000"
            ]
          },
          "metadata": {
            "tags": []
          },
          "execution_count": 56
        }
      ]
    },
    {
      "cell_type": "code",
      "metadata": {
        "id": "TVc6UW1jXgMY",
        "colab_type": "code",
        "colab": {}
      },
      "source": [
        "cv=CountVectorizer()"
      ],
      "execution_count": 57,
      "outputs": []
    },
    {
      "cell_type": "code",
      "metadata": {
        "id": "bzTu4GpSXj4j",
        "colab_type": "code",
        "colab": {
          "base_uri": "https://localhost:8080/",
          "height": 50
        },
        "outputId": "f7392945-efd0-448b-b0d5-2a65fa7b5bc1"
      },
      "source": [
        "cv.fit_transform(X_total)"
      ],
      "execution_count": 58,
      "outputs": [
        {
          "output_type": "execute_result",
          "data": {
            "text/plain": [
              "<50000x72714 sparse matrix of type '<class 'numpy.int64'>'\n",
              "\twith 4688480 stored elements in Compressed Sparse Row format>"
            ]
          },
          "metadata": {
            "tags": []
          },
          "execution_count": 58
        }
      ]
    },
    {
      "cell_type": "code",
      "metadata": {
        "id": "JOeOdgCucdju",
        "colab_type": "code",
        "colab": {}
      },
      "source": [
        "dict_values=cv.vocabulary_"
      ],
      "execution_count": 59,
      "outputs": []
    },
    {
      "cell_type": "code",
      "metadata": {
        "id": "_2H42-dmXw-I",
        "colab_type": "code",
        "colab": {
          "base_uri": "https://localhost:8080/",
          "height": 34
        },
        "outputId": "927a71b9-7dd0-4caa-ee40-749396305bdb"
      },
      "source": [
        "len(dict_values)"
      ],
      "execution_count": 60,
      "outputs": [
        {
          "output_type": "execute_result",
          "data": {
            "text/plain": [
              "72714"
            ]
          },
          "metadata": {
            "tags": []
          },
          "execution_count": 60
        }
      ]
    },
    {
      "cell_type": "code",
      "metadata": {
        "id": "QecQNQteYwqT",
        "colab_type": "code",
        "colab": {
          "base_uri": "https://localhost:8080/",
          "height": 102
        },
        "outputId": "4b4cd7d4-3c99-4531-9209-7c44382e1229"
      },
      "source": [
        "X_train_cleaned[4]"
      ],
      "execution_count": 61,
      "outputs": [
        {
          "output_type": "execute_result",
          "data": {
            "application/vnd.google.colaboratory.intrinsic": {
              "type": "string"
            },
            "text/plain": [
              "'stori two dog cat look way back home old wise golden retriev shadow young american bulldog chanc himalayan cat sassi flee ranch go wilder reunit famili homeward bound incred journey 1993 famili adventur direct duwayn dunham remak 1963 film movi got sequel three year later michael j fox perfect man voic chanc fox youth energi bring role salli field great voic work sassi amech fantast shadow veteran actor second last movi also visibl actor great kim greist play laura burnford seaver robert hay bob seaver benji thall play peter burnford veronica lauren hope burnford kevin chevalia jami seaver jean smart portray kate quit amaz watch pet tri surviv wilder see sassi taken river seem like goner bear scene exit funni chanc chanc big hungri bear meet porcupin look pain great fun whole famili'"
            ]
          },
          "metadata": {
            "tags": []
          },
          "execution_count": 61
        }
      ]
    },
    {
      "cell_type": "code",
      "metadata": {
        "id": "B2KxpkHndFE6",
        "colab_type": "code",
        "colab": {
          "base_uri": "https://localhost:8080/",
          "height": 232
        },
        "outputId": "e9a58bf0-484b-4b76-c4cf-58d28540ac78"
      },
      "source": [
        "demo = [dict_values[t] for t in X_train_cleaned[4].split()]   ## leave this cell it is to show that countvectrizer do not make vocab for length 1 string so we have to remove it see in next cell"
      ],
      "execution_count": 62,
      "outputs": [
        {
          "output_type": "error",
          "ename": "KeyError",
          "evalue": "ignored",
          "traceback": [
            "\u001b[0;31m---------------------------------------------------------------------------\u001b[0m",
            "\u001b[0;31mKeyError\u001b[0m                                  Traceback (most recent call last)",
            "\u001b[0;32m<ipython-input-62-536a16c1990e>\u001b[0m in \u001b[0;36m<module>\u001b[0;34m()\u001b[0m\n\u001b[0;32m----> 1\u001b[0;31m \u001b[0mdemo\u001b[0m \u001b[0;34m=\u001b[0m \u001b[0;34m[\u001b[0m\u001b[0mdict_values\u001b[0m\u001b[0;34m[\u001b[0m\u001b[0mt\u001b[0m\u001b[0;34m]\u001b[0m \u001b[0;32mfor\u001b[0m \u001b[0mt\u001b[0m \u001b[0;32min\u001b[0m \u001b[0mX_train_cleaned\u001b[0m\u001b[0;34m[\u001b[0m\u001b[0;36m4\u001b[0m\u001b[0;34m]\u001b[0m\u001b[0;34m.\u001b[0m\u001b[0msplit\u001b[0m\u001b[0;34m(\u001b[0m\u001b[0;34m)\u001b[0m\u001b[0;34m]\u001b[0m   \u001b[0;31m## leave this cell it is to show that countvectrizer do not make vocab for length 1 string so we have to remove it see in next cell\u001b[0m\u001b[0;34m\u001b[0m\u001b[0;34m\u001b[0m\u001b[0m\n\u001b[0m",
            "\u001b[0;32m<ipython-input-62-536a16c1990e>\u001b[0m in \u001b[0;36m<listcomp>\u001b[0;34m(.0)\u001b[0m\n\u001b[0;32m----> 1\u001b[0;31m \u001b[0mdemo\u001b[0m \u001b[0;34m=\u001b[0m \u001b[0;34m[\u001b[0m\u001b[0mdict_values\u001b[0m\u001b[0;34m[\u001b[0m\u001b[0mt\u001b[0m\u001b[0;34m]\u001b[0m \u001b[0;32mfor\u001b[0m \u001b[0mt\u001b[0m \u001b[0;32min\u001b[0m \u001b[0mX_train_cleaned\u001b[0m\u001b[0;34m[\u001b[0m\u001b[0;36m4\u001b[0m\u001b[0;34m]\u001b[0m\u001b[0;34m.\u001b[0m\u001b[0msplit\u001b[0m\u001b[0;34m(\u001b[0m\u001b[0;34m)\u001b[0m\u001b[0;34m]\u001b[0m   \u001b[0;31m## leave this cell it is to show that countvectrizer do not make vocab for length 1 string so we have to remove it see in next cell\u001b[0m\u001b[0;34m\u001b[0m\u001b[0;34m\u001b[0m\u001b[0m\n\u001b[0m",
            "\u001b[0;31mKeyError\u001b[0m: 'j'"
          ]
        }
      ]
    },
    {
      "cell_type": "code",
      "metadata": {
        "id": "gZnfw2s0Y1k9",
        "colab_type": "code",
        "colab": {}
      },
      "source": [
        "demo=[dict_values[t] for t in X_train_cleaned[4].split() if len(t)>1]"
      ],
      "execution_count": 63,
      "outputs": []
    },
    {
      "cell_type": "code",
      "metadata": {
        "id": "7L5xUtAmgmOj",
        "colab_type": "code",
        "colab": {}
      },
      "source": [
        ""
      ],
      "execution_count": 63,
      "outputs": []
    },
    {
      "cell_type": "code",
      "metadata": {
        "id": "54u-iq0vgmmt",
        "colab_type": "code",
        "colab": {}
      },
      "source": [
        ""
      ],
      "execution_count": 63,
      "outputs": []
    },
    {
      "cell_type": "code",
      "metadata": {
        "id": "8-4DPkxHX1R3",
        "colab_type": "code",
        "colab": {}
      },
      "source": [
        "x_train_index=[]\n",
        "max_length=0\n",
        "j=0\n",
        "t=0\n",
        "for i in X_train_cleaned:\n",
        "  t=t+1\n",
        "  lenght=len(i.split())\n",
        "  if lenght> max_length:\n",
        "    j=t\n",
        "    max_length=lenght\n",
        "  xty=[dict_values[t] for t in i.split() if len(t)>1]\n",
        "  x_train_index.append(xty)"
      ],
      "execution_count": 64,
      "outputs": []
    },
    {
      "cell_type": "code",
      "metadata": {
        "id": "cGeBGTyZYghX",
        "colab_type": "code",
        "colab": {
          "base_uri": "https://localhost:8080/",
          "height": 34
        },
        "outputId": "28232e17-740a-4388-d057-00bad06ef1dc"
      },
      "source": [
        "len(X_train_cleaned[36689].split())"
      ],
      "execution_count": 65,
      "outputs": [
        {
          "output_type": "execute_result",
          "data": {
            "text/plain": [
              "1435"
            ]
          },
          "metadata": {
            "tags": []
          },
          "execution_count": 65
        }
      ]
    },
    {
      "cell_type": "code",
      "metadata": {
        "id": "DuiWB2yPZp10",
        "colab_type": "code",
        "colab": {
          "base_uri": "https://localhost:8080/",
          "height": 34
        },
        "outputId": "2c9ac289-8ba6-43c0-f938-2eab5f2cbeae"
      },
      "source": [
        "max_length"
      ],
      "execution_count": 66,
      "outputs": [
        {
          "output_type": "execute_result",
          "data": {
            "text/plain": [
              "1435"
            ]
          },
          "metadata": {
            "tags": []
          },
          "execution_count": 66
        }
      ]
    },
    {
      "cell_type": "code",
      "metadata": {
        "id": "xB5RWC2fbZuB",
        "colab_type": "code",
        "colab": {
          "base_uri": "https://localhost:8080/",
          "height": 34
        },
        "outputId": "82646582-0df6-4493-9175-19b5fc5d523f"
      },
      "source": [
        "j"
      ],
      "execution_count": 67,
      "outputs": [
        {
          "output_type": "execute_result",
          "data": {
            "text/plain": [
              "36690"
            ]
          },
          "metadata": {
            "tags": []
          },
          "execution_count": 67
        }
      ]
    },
    {
      "cell_type": "code",
      "metadata": {
        "id": "V-iTe9zBemDm",
        "colab_type": "code",
        "colab": {
          "base_uri": "https://localhost:8080/",
          "height": 120
        },
        "outputId": "b11504f6-6d7c-490d-ca19-bf13bbe1fb67"
      },
      "source": [
        "X_train_cleaned[36689]"
      ],
      "execution_count": 68,
      "outputs": [
        {
          "output_type": "execute_result",
          "data": {
            "application/vnd.google.colaboratory.intrinsic": {
              "type": "string"
            },
            "text/plain": [
              "'match 1 tag team tabl match bubba ray spike dudley vs eddi guerrero chri benoit bubba ray spike dudley start thing tag team tabl match eddi guerrero chri benoit accord rule match oppon go tabl order get win benoit guerrero heat earli take turn hammer first spike bubba ray german suplex benoit bubba took wind dudley brother spike tri help brother refere restrain benoit guerrero gang corner benoit stomp away bubba guerrero set tabl outsid spike dash ring somersault top rope onto guerrero outsid recov take care spike guerrero slip tabl ring help wolverin set tandem set doubl superplex middl rope would put bubba tabl spike knock tabl right brother came crash guerrero benoit prop anoth tabl corner tri irish whip spike bubba dash block brother bubba caught fire lift oppon back bodi drop bubba slam guerrero spike stomp wolverin top rope bubba held benoit bay spike soar wassup headbutt shortli benoit latch spike crossfac match continu even spike tap bubba came brother rescu manag sprawl benoit tabl bubba leapt middl rope benoit move sent bubba crash wood oppon forc tabl bubba allow stay match first man elimin shortli though spike put eddi tabl dudley dawg ring apron outsid benoit put spike tabl moment later even score within second bubba nail bubba bomb put benoit tabl gave dudley win winner bubba ray spike dudley match 2 cruiserweight championship jami nobl vs billi kidman billi kidman challeng jami nobl brought nidia ring cruiserweight championship nobl kidman lock tumbl ring race back insid grappl kidman thwart nobl move nobl fled outsid ring nidia gave encourag fight spread outsid ring nobl threw girlfriend challeng kidman toss nidia asid taken modifi arm bar nobl continu attack kidman injur arm back ring kidman injur harm hamper offens continu battl hard nobl tri put kidman away powerbomb challeng counter facebust kidman went finish thing shoot star press nobl broke attempt kidman went shoot star press time nobl roll harm way nobl flip kidman power bomb soon got pin retain wwe cruiserweight championship winner jami nobl match 3 european championship william regal vs jeff hardi william regal took jeff hardi next attempt win back european championship jeff catapult regal top rope took hurracanrana ring apron back ring jeff hit whisper wind knock regal loop jeff went swanton bomb regal got knee hit jeff devast shot jeff manag surpris regal quick rollup though got pin keep european championship regal start bawl see hardi celebr way back ramp winner jeff hardi match 4 chri jericho vs john cena chri jericho promis end john cena career match vengeanc came next jericho tri teach cena lesson match began suplex mat jericho continu knock cena around ring cocki got better top rope jericho began showboat allow cena grab superplex cena follow tilt whirl slam taken nasti dropkick gut rooki recov hit belli belli suplex put y2j away jericho launch lionsault cena dodg move jericho nail bulldog connect lionsault go cover goad cena feet could put wall jericho cena idea revers move pin attempt get 1 2 3 jericho went berserk match winner john cena match 5 intercontinent championship rvd vs brock lesnar via disqualif next big thing mr pay per view tangl intercontinent championship line brock grab titl ref drape shoulder momentarili glare rvd van dam quick gave brock fit earli big man roll ring kick steel step frustrat brock pull togeth began take charg paul heyman beam ringsid brock slam rvd hard floor outsid ring brock began overpow rvd throw eas top rope rvd land pain back suffer spine crack steel ring step fight return ring brock squeez rvd around rib rvd broke away soon level brock kick templ rvd follow roll thunder brock manag kick two count fight look like might soon rvd went five star frog splash brock though hoist van dam onto shoulder went f 5 rvd whirl brock ddt follow frog splash went pin heyman pull ref ring ref immedi call disqualif soon trade blow heyman rvd leapt onto brock top rope threaten hit van termin heyman grab rvd leg brock pick champ time connect f 5 onto steel chair winner rvd match 6 booker vs big show booker face big show one one next show withstood booker kick punch slap booker corner thrown ring booker pick chair ringsid big show punch back booker face booker tri get back game choke show camera cabl ringsid booker smash tv monitor spanish announc posit show skull deliv scissor kick put men tabl booker crawl back ring big show stagger moment later show grab booker throat met low blow kick face booker climb top rope nail somersault leg drop get pin winner booker announc tripl h enter ring thunder ovat fan hope learn game would end compet could speak eric bishoff stop game apolog get involv person busi tripl h sign raw bischoff promis person life would never come play bischoff said spent past two year network hollywood said everyon look next breakout wwe superstar talk tripl h bischoff guarante tripl h sign raw get top opportun come way stephani mcmahon step issu pitch said person histori tripl h two know well said two unstopp bischoff cut beg stop stephani cite tripl h told bischoff said tripl h talent charisma bischoff said young time know still lot experi stephani two continu bicker back forth tripl h step microphon game said would easi say screw either one tripl h went shake bischoff hand pull away said would rather go devil know rather one know could go though shawn michael came shake thing hbk said last thing want caus troubl want get involv rememb pledg bring tripl h nwo hbk said nobodi world tripl h better friend hbk told friend imagin two back togeth make bischoff life live hell tripl h said tempt offer turn hug hbk make offici switch raw tripl h hbk left bischoff gloat victori bischoff said differ two got testicl stephani whack bischoff side head left match 7 tag team championship match christian lanc storm vs hollywood hogan edg match start loud usa chant hogan shove christian rope ring canadian took edg score kick christian head plant facebust storm get tag hogan hogan began hulk soon caught christian big boot leg drop storm broke count christian toss hogan ring storm superkick icon edg tag soon drop oppon spear corner turnbuckl miss spear strom hit ref hard instead edg nail ddt ref could count test race took hogan level edg boot storm tri get pin edg kick two riksihi sprint fend test allow edg recov spear storm christian distract ref though y2j dash clock edg tag team championship storm roll got pinfal win titl winner new tag team champion christian lanc storm match 8 wwe undisput championship tripl threat match rock vs kurt angl undertak three wwe success superstar line tripl threat match undisput championship hang balanc taker rock got face face kurt angl beg attent side got attent form beat form two men soon taker spill ring rock brawl angl angl gave seri suplex took rock great one counter ddt manag two count fight continu outsid ring taker come life clotheslin angl repeatedli smack rock taker rock got back ring taker drop rock sidewalk slam get two count rock rebound grab taker throat chokeslam angl broke pin attempt like would given rock titl rock retali latch ankl lock kurt angl angl revers move rock bottom peopl champion soon rock dispos angl hit peopl elbow undertak angl tri take advantag disabl great one outsid ring cover taker kick two count outsid ring rock took big swig nearbi water bottl spew liquid taker face blind champion taker stay disabl long manag overpow rock turn attent angl taker land guillotin leg drop onto angl lay ring apron rock pick time break pin attempt kurt angl taker nail rock ddt set chokeslam angl tri sneak steel chair taker caught tomfooleri smack hand refere got caught ensu fire see angl knock taker silli steel chair angl went cover taker rock lay prone dead man somehow got shoulder angl tri pin rock kick rock got land angl sharpshoot angl look like tap taker kick rock submiss hold taker pick rock crash last ride dead man cover win angl race pick taker ankl lock taker went deliri pain manag counter pick angl last ride angl put triangl choke look like taker pass rock broke angl hold find caught ankl lock rock got hold watch taker chokeslam angl rocki hit rock bottom taker refus go kick angl whirl taker angl slam rock bottom great one pin winner new wwe champion rock final decent ppv late ppv good one winner give ppv'"
            ]
          },
          "metadata": {
            "tags": []
          },
          "execution_count": 68
        }
      ]
    },
    {
      "cell_type": "code",
      "metadata": {
        "id": "m16hbw1gerYZ",
        "colab_type": "code",
        "colab": {}
      },
      "source": [
        "x_test_index=[]\n",
        "max_length=0\n",
        "j=0\n",
        "t=0\n",
        "for i in X_test_cleaned:\n",
        "  t=t+1\n",
        "  lenght=len(i.split())\n",
        "  if lenght> max_length:\n",
        "    j=t\n",
        "    max_length=lenght\n",
        "  xty=[dict_values[t] for t in i.split() if len(t)>1]\n",
        "  x_test_index.append(xty)"
      ],
      "execution_count": 69,
      "outputs": []
    },
    {
      "cell_type": "code",
      "metadata": {
        "id": "w31rz9-cgzZA",
        "colab_type": "code",
        "colab": {
          "base_uri": "https://localhost:8080/",
          "height": 34
        },
        "outputId": "ef9a2e24-32ad-4c15-995b-886b75455af8"
      },
      "source": [
        "len(x_test_index)"
      ],
      "execution_count": 70,
      "outputs": [
        {
          "output_type": "execute_result",
          "data": {
            "text/plain": [
              "10000"
            ]
          },
          "metadata": {
            "tags": []
          },
          "execution_count": 70
        }
      ]
    },
    {
      "cell_type": "code",
      "metadata": {
        "id": "lFrrLf8cg2PP",
        "colab_type": "code",
        "colab": {
          "base_uri": "https://localhost:8080/",
          "height": 34
        },
        "outputId": "d85144ee-6540-478b-db34-253f1d38a399"
      },
      "source": [
        "max_length"
      ],
      "execution_count": 71,
      "outputs": [
        {
          "output_type": "execute_result",
          "data": {
            "text/plain": [
              "1136"
            ]
          },
          "metadata": {
            "tags": []
          },
          "execution_count": 71
        }
      ]
    },
    {
      "cell_type": "code",
      "metadata": {
        "id": "YRagbiQOg7Xu",
        "colab_type": "code",
        "colab": {
          "base_uri": "https://localhost:8080/",
          "height": 34
        },
        "outputId": "f6aabf72-57a9-47f6-c045-3f5728d73573"
      },
      "source": [
        "j"
      ],
      "execution_count": 72,
      "outputs": [
        {
          "output_type": "execute_result",
          "data": {
            "text/plain": [
              "3210"
            ]
          },
          "metadata": {
            "tags": []
          },
          "execution_count": 72
        }
      ]
    },
    {
      "cell_type": "code",
      "metadata": {
        "id": "lulZS4B1hDIi",
        "colab_type": "code",
        "colab": {}
      },
      "source": [
        ""
      ],
      "execution_count": 72,
      "outputs": []
    },
    {
      "cell_type": "markdown",
      "metadata": {
        "id": "uZtP9kachho7",
        "colab_type": "text"
      },
      "source": [
        "## now creating a 2d tensor to be processed by the embedding layer"
      ]
    },
    {
      "cell_type": "code",
      "metadata": {
        "id": "hwBcpPVShpia",
        "colab_type": "code",
        "colab": {}
      },
      "source": [
        "from keras.preprocessing import sequence"
      ],
      "execution_count": 73,
      "outputs": []
    },
    {
      "cell_type": "code",
      "metadata": {
        "id": "quM0fmhHhuXN",
        "colab_type": "code",
        "colab": {}
      },
      "source": [
        "x_train= sequence.pad_sequences(x_train_index,maxlen=750)\n",
        "x_test= sequence.pad_sequences(x_test_index,maxlen=750)"
      ],
      "execution_count": 74,
      "outputs": []
    },
    {
      "cell_type": "code",
      "metadata": {
        "id": "Q2D1j8QNiV-2",
        "colab_type": "code",
        "colab": {
          "base_uri": "https://localhost:8080/",
          "height": 50
        },
        "outputId": "ec3ca212-9f79-4d02-9894-daf757428b32"
      },
      "source": [
        "print(x_train.shape)\n",
        "print(x_test.shape)"
      ],
      "execution_count": 75,
      "outputs": [
        {
          "output_type": "stream",
          "text": [
            "(40000, 750)\n",
            "(10000, 750)\n"
          ],
          "name": "stdout"
        }
      ]
    },
    {
      "cell_type": "code",
      "metadata": {
        "id": "utgNq3cCJK83",
        "colab_type": "code",
        "colab": {}
      },
      "source": [
        ""
      ],
      "execution_count": null,
      "outputs": []
    },
    {
      "cell_type": "code",
      "metadata": {
        "id": "7KTcRPQ2ikLW",
        "colab_type": "code",
        "colab": {}
      },
      "source": [
        ""
      ],
      "execution_count": 75,
      "outputs": []
    },
    {
      "cell_type": "markdown",
      "metadata": {
        "id": "q8Tz7cJoizAb",
        "colab_type": "text"
      },
      "source": [
        "## now creating model"
      ]
    },
    {
      "cell_type": "code",
      "metadata": {
        "id": "CZJhP-xDnsO6",
        "colab_type": "code",
        "colab": {
          "base_uri": "https://localhost:8080/",
          "height": 34
        },
        "outputId": "1b50b3a0-6b88-40f1-838e-11b98638fc94"
      },
      "source": [
        "vocab_length=len(dict_values)\n",
        "print(vocab_length)"
      ],
      "execution_count": 76,
      "outputs": [
        {
          "output_type": "stream",
          "text": [
            "72714\n"
          ],
          "name": "stdout"
        }
      ]
    },
    {
      "cell_type": "code",
      "metadata": {
        "id": "csSG1KShi1me",
        "colab_type": "code",
        "colab": {
          "base_uri": "https://localhost:8080/",
          "height": 353
        },
        "outputId": "eccd3fea-e0d4-4af6-99f4-bddda8f839d5"
      },
      "source": [
        "from keras.layers import *\n",
        "from keras.models import Sequential\n",
        "\n",
        "model = Sequential()\n",
        "model.add(Embedding(vocab_length,64))\n",
        "model.add(LSTM(64,return_sequences=True))\n",
        "model.add(Dropout(0.3))\n",
        "model.add(LSTM(64))\n",
        "model.add(Dropout(0.25))\n",
        "model.add(Dense(1,activation='sigmoid'))\n",
        "model.summary()"
      ],
      "execution_count": 77,
      "outputs": [
        {
          "output_type": "stream",
          "text": [
            "Model: \"sequential_1\"\n",
            "_________________________________________________________________\n",
            "Layer (type)                 Output Shape              Param #   \n",
            "=================================================================\n",
            "embedding_1 (Embedding)      (None, None, 64)          4653696   \n",
            "_________________________________________________________________\n",
            "lstm_1 (LSTM)                (None, None, 64)          33024     \n",
            "_________________________________________________________________\n",
            "dropout_1 (Dropout)          (None, None, 64)          0         \n",
            "_________________________________________________________________\n",
            "lstm_2 (LSTM)                (None, 64)                33024     \n",
            "_________________________________________________________________\n",
            "dropout_2 (Dropout)          (None, 64)                0         \n",
            "_________________________________________________________________\n",
            "dense_1 (Dense)              (None, 1)                 65        \n",
            "=================================================================\n",
            "Total params: 4,719,809\n",
            "Trainable params: 4,719,809\n",
            "Non-trainable params: 0\n",
            "_________________________________________________________________\n"
          ],
          "name": "stdout"
        }
      ]
    },
    {
      "cell_type": "code",
      "metadata": {
        "id": "rWqZESxfo_lS",
        "colab_type": "code",
        "colab": {}
      },
      "source": [
        "model.compile(optimizer='adam',loss='binary_crossentropy',metrics=['accuracy'])"
      ],
      "execution_count": 78,
      "outputs": []
    },
    {
      "cell_type": "code",
      "metadata": {
        "id": "QYZsF5fBpztY",
        "colab_type": "code",
        "colab": {
          "base_uri": "https://localhost:8080/",
          "height": 370
        },
        "outputId": "c7d49267-cc1a-4922-ef8e-5fd8e56660ed"
      },
      "source": [
        "from keras.callbacks import ModelCheckpoint # save the best model, fight overfiitting\n",
        "\n",
        "from keras.callbacks import EarlyStopping  # save time\n",
        "\n",
        "checkpoint = ModelCheckpoint(\"best_model.h5\",monitor='val_loss',verbose=0,save_best_only=True,mode='auto',period=1)\n",
        "\n",
        "# here we will not use early stopping not to save time\n",
        "#earlystop=EarlyStopping(monitor='val_accuracy',patience=5)\n",
        "#hist=model.fit(x_train,Y_train,validation_split=0.2,epochs=10,batch_size=128,callbacks=[checkpoint,earlystop])\n",
        "\n",
        "\n",
        "hist=model.fit(x_train,Y_train,validation_split=0.2,epochs=10,batch_size=128,callbacks=[checkpoint])"
      ],
      "execution_count": 80,
      "outputs": [
        {
          "output_type": "stream",
          "text": [
            "Train on 32000 samples, validate on 8000 samples\n",
            "Epoch 1/10\n",
            "32000/32000 [==============================] - 587s 18ms/step - loss: 0.3338 - accuracy: 0.8581 - val_loss: 0.2692 - val_accuracy: 0.8936\n",
            "Epoch 2/10\n",
            "32000/32000 [==============================] - 571s 18ms/step - loss: 0.1785 - accuracy: 0.9351 - val_loss: 0.2753 - val_accuracy: 0.8845\n",
            "Epoch 3/10\n",
            "32000/32000 [==============================] - 573s 18ms/step - loss: 0.1115 - accuracy: 0.9607 - val_loss: 0.4074 - val_accuracy: 0.8740\n",
            "Epoch 4/10\n",
            "32000/32000 [==============================] - 579s 18ms/step - loss: 0.0667 - accuracy: 0.9778 - val_loss: 0.4412 - val_accuracy: 0.8734\n",
            "Epoch 5/10\n",
            "32000/32000 [==============================] - 581s 18ms/step - loss: 0.0430 - accuracy: 0.9858 - val_loss: 0.5479 - val_accuracy: 0.8716\n",
            "Epoch 6/10\n",
            "32000/32000 [==============================] - 580s 18ms/step - loss: 0.0405 - accuracy: 0.9868 - val_loss: 0.4622 - val_accuracy: 0.8612\n",
            "Epoch 7/10\n",
            "32000/32000 [==============================] - 580s 18ms/step - loss: 0.0257 - accuracy: 0.9926 - val_loss: 0.5219 - val_accuracy: 0.8674\n",
            "Epoch 8/10\n",
            "32000/32000 [==============================] - 585s 18ms/step - loss: 0.0217 - accuracy: 0.9930 - val_loss: 0.6132 - val_accuracy: 0.8643\n",
            "Epoch 9/10\n",
            "32000/32000 [==============================] - 561s 18ms/step - loss: 0.0223 - accuracy: 0.9930 - val_loss: 0.5340 - val_accuracy: 0.8691\n",
            "Epoch 10/10\n",
            "32000/32000 [==============================] - 588s 18ms/step - loss: 0.0132 - accuracy: 0.9961 - val_loss: 0.7167 - val_accuracy: 0.8621\n"
          ],
          "name": "stdout"
        }
      ]
    },
    {
      "cell_type": "code",
      "metadata": {
        "id": "6tG-bd8-qUAR",
        "colab_type": "code",
        "colab": {
          "base_uri": "https://localhost:8080/",
          "height": 545
        },
        "outputId": "4d9ba647-e040-4536-f1cf-6c22ea903aa7"
      },
      "source": [
        "import matplotlib.pyplot as plt\n",
        "\n",
        "acc = hist.history['accuracy']\n",
        "val_acc= hist.history['val_accuracy']\n",
        "\n",
        "\n",
        "loss = hist.history['loss']\n",
        "val_loss = hist.history['val_loss']\n",
        "\n",
        "epochs = range(1,len(loss)+1)\n",
        "plt.title(\"Loss vs Epochs\")\n",
        "plt.plot(epochs,loss,label=\"Training Loss\")\n",
        "plt.plot(epochs,val_loss,label=\"Val Loss\")\n",
        "plt.legend()\n",
        "plt.show()\n",
        "\n",
        "plt.title(\"Accuracy vs Epochs\")\n",
        "plt.plot(epochs,acc,label=\"Training Acc\")\n",
        "plt.plot(epochs,val_acc,label=\"Val Acc\")\n",
        "plt.legend()\n",
        "plt.show()"
      ],
      "execution_count": 81,
      "outputs": [
        {
          "output_type": "display_data",
          "data": {
            "image/png": "[encoded data removed]",
            "text/plain": [
              "<Figure size 432x288 with 1 Axes>"
            ]
          },
          "metadata": {
            "tags": [],
            "needs_background": "light"
          }
        },
        {
          "output_type": "display_data",
          "data": {
            "image/png": "[encoded data removed]",
            "text/plain": [
              "<Figure size 432x288 with 1 Axes>"
            ]
          },
          "metadata": {
            "tags": [],
            "needs_background": "light"
          }
        }
      ]
    },
    {
      "cell_type": "code",
      "metadata": {
        "id": "qmyG8E0eIcy0",
        "colab_type": "code",
        "colab": {}
      },
      "source": [
        "model.load_weights(\"best_model.h5\")"
      ],
      "execution_count": 82,
      "outputs": []
    },
    {
      "cell_type": "code",
      "metadata": {
        "id": "1u1AJyJvIkjp",
        "colab_type": "code",
        "colab": {}
      },
      "source": [
        "y_predicted=model.predict_classes(x_test)"
      ],
      "execution_count": 86,
      "outputs": []
    },
    {
      "cell_type": "code",
      "metadata": {
        "id": "PFh3SjVIJAD0",
        "colab_type": "code",
        "colab": {
          "base_uri": "https://localhost:8080/",
          "height": 134
        },
        "outputId": "d301f2c3-159f-4ad5-9f3f-487ea6a33c77"
      },
      "source": [
        "y_predicted"
      ],
      "execution_count": 87,
      "outputs": [
        {
          "output_type": "execute_result",
          "data": {
            "text/plain": [
              "array([[0],\n",
              "       [0],\n",
              "       [0],\n",
              "       ...,\n",
              "       [1],\n",
              "       [1],\n",
              "       [0]], dtype=int32)"
            ]
          },
          "metadata": {
            "tags": []
          },
          "execution_count": 87
        }
      ]
    },
    {
      "cell_type": "code",
      "metadata": {
        "id": "vZ3wHGjFJd-0",
        "colab_type": "code",
        "colab": {
          "base_uri": "https://localhost:8080/",
          "height": 34
        },
        "outputId": "45926389-0e1e-44e8-c2fa-37c8ad95f824"
      },
      "source": [
        "y_predicted.shape"
      ],
      "execution_count": 90,
      "outputs": [
        {
          "output_type": "execute_result",
          "data": {
            "text/plain": [
              "(10000, 1)"
            ]
          },
          "metadata": {
            "tags": []
          },
          "execution_count": 90
        }
      ]
    },
    {
      "cell_type": "code",
      "metadata": {
        "id": "GrqYcPp6J0jV",
        "colab_type": "code",
        "colab": {}
      },
      "source": [
        "df = pd.DataFrame(data=y_predicted,columns=['label'])"
      ],
      "execution_count": 92,
      "outputs": []
    },
    {
      "cell_type": "code",
      "metadata": {
        "id": "K78p2DPNKB_o",
        "colab_type": "code",
        "colab": {}
      },
      "source": [
        "rev={ 1: 'pos', 0: 'neg' }\n",
        "df.label=[rev[item] for item in df.label]"
      ],
      "execution_count": 95,
      "outputs": []
    },
    {
      "cell_type": "code",
      "metadata": {
        "id": "YXxXpHhfKE75",
        "colab_type": "code",
        "colab": {
          "base_uri": "https://localhost:8080/",
          "height": 254
        },
        "outputId": "14365966-47a3-4ab7-8fed-8e18e3439a71"
      },
      "source": [
        "df.head(7)"
      ],
      "execution_count": 96,
      "outputs": [
        {
          "output_type": "execute_result",
          "data": {
            "text/html": [
              "<div>\n",
              "<style scoped>\n",
              "    .dataframe tbody tr th:only-of-type {\n",
              "        vertical-align: middle;\n",
              "    }\n",
              "\n",
              "    .dataframe tbody tr th {\n",
              "        vertical-align: top;\n",
              "    }\n",
              "\n",
              "    .dataframe thead th {\n",
              "        text-align: right;\n",
              "    }\n",
              "</style>\n",
              "<table border=\"1\" class=\"dataframe\">\n",
              "  <thead>\n",
              "    <tr style=\"text-align: right;\">\n",
              "      <th></th>\n",
              "      <th>label</th>\n",
              "    </tr>\n",
              "  </thead>\n",
              "  <tbody>\n",
              "    <tr>\n",
              "      <th>0</th>\n",
              "      <td>neg</td>\n",
              "    </tr>\n",
              "    <tr>\n",
              "      <th>1</th>\n",
              "      <td>neg</td>\n",
              "    </tr>\n",
              "    <tr>\n",
              "      <th>2</th>\n",
              "      <td>neg</td>\n",
              "    </tr>\n",
              "    <tr>\n",
              "      <th>3</th>\n",
              "      <td>pos</td>\n",
              "    </tr>\n",
              "    <tr>\n",
              "      <th>4</th>\n",
              "      <td>pos</td>\n",
              "    </tr>\n",
              "    <tr>\n",
              "      <th>5</th>\n",
              "      <td>neg</td>\n",
              "    </tr>\n",
              "    <tr>\n",
              "      <th>6</th>\n",
              "      <td>pos</td>\n",
              "    </tr>\n",
              "  </tbody>\n",
              "</table>\n",
              "</div>"
            ],
            "text/plain": [
              "  label\n",
              "0   neg\n",
              "1   neg\n",
              "2   neg\n",
              "3   pos\n",
              "4   pos\n",
              "5   neg\n",
              "6   pos"
            ]
          },
          "metadata": {
            "tags": []
          },
          "execution_count": 96
        }
      ]
    },
    {
      "cell_type": "code",
      "metadata": {
        "id": "Nf7KQMXCKbZz",
        "colab_type": "code",
        "colab": {}
      },
      "source": [
        "df.to_csv('y_predicted_using_complex_LSTM_with_callback_checkpoint.csv',index_label='Id')"
      ],
      "execution_count": 98,
      "outputs": []
    },
    {
      "cell_type": "code",
      "metadata": {
        "id": "u5MKi6pQK51A",
        "colab_type": "code",
        "colab": {}
      },
      "source": [
        ""
      ],
      "execution_count": null,
      "outputs": []
    }
  ]
}