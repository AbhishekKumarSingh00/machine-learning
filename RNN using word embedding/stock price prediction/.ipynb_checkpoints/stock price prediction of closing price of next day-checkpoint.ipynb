{
 "cells": [
  {
   "cell_type": "code",
   "execution_count": 1,
   "metadata": {},
   "outputs": [
    {
     "name": "stderr",
     "output_type": "stream",
     "text": [
      "Using TensorFlow backend.\n"
     ]
    }
   ],
   "source": [
    "import math\n",
    "import pandas_datareader as web\n",
    "import pandas as pd\n",
    "import numpy as np\n",
    "from sklearn.preprocessing import MinMaxScaler\n",
    "from keras.models import Sequential\n",
    "from keras.layers import Dense,LSTM\n",
    "import matplotlib.pyplot as plt\n",
    "plt.style.use('seaborn')"
   ]
  },
  {
   "cell_type": "markdown",
   "metadata": {},
   "source": [
    "# its a data collected from bse website starting from 1 july 1998 to 13 july 2020"
   ]
  },
  {
   "cell_type": "code",
   "execution_count": 538,
   "metadata": {},
   "outputs": [],
   "source": [
    "df = pd.read_csv('500040.csv')"
   ]
  },
  {
   "cell_type": "code",
   "execution_count": 539,
   "metadata": {},
   "outputs": [
    {
     "data": {
      "text/plain": [
       "(5489, 13)"
      ]
     },
     "execution_count": 539,
     "metadata": {},
     "output_type": "execute_result"
    }
   ],
   "source": [
    "df.shape"
   ]
  },
  {
   "cell_type": "code",
   "execution_count": 540,
   "metadata": {},
   "outputs": [
    {
     "data": {
      "text/html": [
       "<div>\n",
       "<style scoped>\n",
       "    .dataframe tbody tr th:only-of-type {\n",
       "        vertical-align: middle;\n",
       "    }\n",
       "\n",
       "    .dataframe tbody tr th {\n",
       "        vertical-align: top;\n",
       "    }\n",
       "\n",
       "    .dataframe thead th {\n",
       "        text-align: right;\n",
       "    }\n",
       "</style>\n",
       "<table border=\"1\" class=\"dataframe\">\n",
       "  <thead>\n",
       "    <tr style=\"text-align: right;\">\n",
       "      <th></th>\n",
       "      <th>Date</th>\n",
       "      <th>Open Price</th>\n",
       "      <th>High Price</th>\n",
       "      <th>Low Price</th>\n",
       "      <th>Close Price</th>\n",
       "      <th>WAP</th>\n",
       "      <th>No.of Shares</th>\n",
       "      <th>No. of Trades</th>\n",
       "      <th>Total Turnover (Rs.)</th>\n",
       "      <th>Deliverable Quantity</th>\n",
       "      <th>% Deli. Qty to Traded Qty</th>\n",
       "      <th>Spread High-Low</th>\n",
       "      <th>Spread Close-Open</th>\n",
       "    </tr>\n",
       "  </thead>\n",
       "  <tbody>\n",
       "    <tr>\n",
       "      <td>0</td>\n",
       "      <td>13-July-2020</td>\n",
       "      <td>316.50</td>\n",
       "      <td>318.00</td>\n",
       "      <td>309.00</td>\n",
       "      <td>311.50</td>\n",
       "      <td>312.205699</td>\n",
       "      <td>87482</td>\n",
       "      <td>2392</td>\n",
       "      <td>27312379.0</td>\n",
       "      <td>21877.0</td>\n",
       "      <td>25.01</td>\n",
       "      <td>9.00</td>\n",
       "      <td>-5.00</td>\n",
       "    </tr>\n",
       "    <tr>\n",
       "      <td>1</td>\n",
       "      <td>10-July-2020</td>\n",
       "      <td>320.00</td>\n",
       "      <td>327.55</td>\n",
       "      <td>312.95</td>\n",
       "      <td>315.60</td>\n",
       "      <td>320.337892</td>\n",
       "      <td>111740</td>\n",
       "      <td>2244</td>\n",
       "      <td>35794556.0</td>\n",
       "      <td>29008.0</td>\n",
       "      <td>25.96</td>\n",
       "      <td>14.60</td>\n",
       "      <td>-4.40</td>\n",
       "    </tr>\n",
       "    <tr>\n",
       "      <td>2</td>\n",
       "      <td>9-July-2020</td>\n",
       "      <td>314.80</td>\n",
       "      <td>323.15</td>\n",
       "      <td>308.95</td>\n",
       "      <td>321.35</td>\n",
       "      <td>318.009560</td>\n",
       "      <td>129815</td>\n",
       "      <td>2760</td>\n",
       "      <td>41282411.0</td>\n",
       "      <td>34350.0</td>\n",
       "      <td>26.46</td>\n",
       "      <td>14.20</td>\n",
       "      <td>6.55</td>\n",
       "    </tr>\n",
       "    <tr>\n",
       "      <td>3</td>\n",
       "      <td>8-July-2020</td>\n",
       "      <td>316.30</td>\n",
       "      <td>319.70</td>\n",
       "      <td>308.65</td>\n",
       "      <td>309.40</td>\n",
       "      <td>314.085418</td>\n",
       "      <td>62434</td>\n",
       "      <td>1327</td>\n",
       "      <td>19609609.0</td>\n",
       "      <td>21089.0</td>\n",
       "      <td>33.78</td>\n",
       "      <td>11.05</td>\n",
       "      <td>-6.90</td>\n",
       "    </tr>\n",
       "    <tr>\n",
       "      <td>4</td>\n",
       "      <td>7-July-2020</td>\n",
       "      <td>326.50</td>\n",
       "      <td>327.00</td>\n",
       "      <td>314.30</td>\n",
       "      <td>316.20</td>\n",
       "      <td>319.290464</td>\n",
       "      <td>183637</td>\n",
       "      <td>4010</td>\n",
       "      <td>58633543.0</td>\n",
       "      <td>57085.0</td>\n",
       "      <td>31.09</td>\n",
       "      <td>12.70</td>\n",
       "      <td>-10.30</td>\n",
       "    </tr>\n",
       "    <tr>\n",
       "      <td>5</td>\n",
       "      <td>6-July-2020</td>\n",
       "      <td>308.10</td>\n",
       "      <td>321.80</td>\n",
       "      <td>307.45</td>\n",
       "      <td>318.60</td>\n",
       "      <td>314.422413</td>\n",
       "      <td>95622</td>\n",
       "      <td>2060</td>\n",
       "      <td>30065700.0</td>\n",
       "      <td>32455.0</td>\n",
       "      <td>33.94</td>\n",
       "      <td>14.35</td>\n",
       "      <td>10.50</td>\n",
       "    </tr>\n",
       "    <tr>\n",
       "      <td>6</td>\n",
       "      <td>3-July-2020</td>\n",
       "      <td>299.35</td>\n",
       "      <td>311.80</td>\n",
       "      <td>298.10</td>\n",
       "      <td>305.80</td>\n",
       "      <td>306.428708</td>\n",
       "      <td>75534</td>\n",
       "      <td>1639</td>\n",
       "      <td>23145786.0</td>\n",
       "      <td>14112.0</td>\n",
       "      <td>18.68</td>\n",
       "      <td>13.70</td>\n",
       "      <td>6.45</td>\n",
       "    </tr>\n",
       "  </tbody>\n",
       "</table>\n",
       "</div>"
      ],
      "text/plain": [
       "           Date  Open Price  High Price  Low Price  Close Price         WAP  \\\n",
       "0  13-July-2020      316.50      318.00     309.00       311.50  312.205699   \n",
       "1  10-July-2020      320.00      327.55     312.95       315.60  320.337892   \n",
       "2   9-July-2020      314.80      323.15     308.95       321.35  318.009560   \n",
       "3   8-July-2020      316.30      319.70     308.65       309.40  314.085418   \n",
       "4   7-July-2020      326.50      327.00     314.30       316.20  319.290464   \n",
       "5   6-July-2020      308.10      321.80     307.45       318.60  314.422413   \n",
       "6   3-July-2020      299.35      311.80     298.10       305.80  306.428708   \n",
       "\n",
       "   No.of Shares  No. of Trades  Total Turnover (Rs.)  Deliverable Quantity  \\\n",
       "0         87482           2392            27312379.0               21877.0   \n",
       "1        111740           2244            35794556.0               29008.0   \n",
       "2        129815           2760            41282411.0               34350.0   \n",
       "3         62434           1327            19609609.0               21089.0   \n",
       "4        183637           4010            58633543.0               57085.0   \n",
       "5         95622           2060            30065700.0               32455.0   \n",
       "6         75534           1639            23145786.0               14112.0   \n",
       "\n",
       "   % Deli. Qty to Traded Qty  Spread High-Low  Spread Close-Open  \n",
       "0                      25.01             9.00              -5.00  \n",
       "1                      25.96            14.60              -4.40  \n",
       "2                      26.46            14.20               6.55  \n",
       "3                      33.78            11.05              -6.90  \n",
       "4                      31.09            12.70             -10.30  \n",
       "5                      33.94            14.35              10.50  \n",
       "6                      18.68            13.70               6.45  "
      ]
     },
     "execution_count": 540,
     "metadata": {},
     "output_type": "execute_result"
    }
   ],
   "source": [
    "df.head(7)"
   ]
  },
  {
   "cell_type": "code",
   "execution_count": 541,
   "metadata": {},
   "outputs": [],
   "source": [
    "df=df.iloc[::-1]"
   ]
  },
  {
   "cell_type": "code",
   "execution_count": 542,
   "metadata": {},
   "outputs": [
    {
     "data": {
      "text/html": [
       "<div>\n",
       "<style scoped>\n",
       "    .dataframe tbody tr th:only-of-type {\n",
       "        vertical-align: middle;\n",
       "    }\n",
       "\n",
       "    .dataframe tbody tr th {\n",
       "        vertical-align: top;\n",
       "    }\n",
       "\n",
       "    .dataframe thead th {\n",
       "        text-align: right;\n",
       "    }\n",
       "</style>\n",
       "<table border=\"1\" class=\"dataframe\">\n",
       "  <thead>\n",
       "    <tr style=\"text-align: right;\">\n",
       "      <th></th>\n",
       "      <th>Date</th>\n",
       "      <th>Open Price</th>\n",
       "      <th>High Price</th>\n",
       "      <th>Low Price</th>\n",
       "      <th>Close Price</th>\n",
       "      <th>WAP</th>\n",
       "      <th>No.of Shares</th>\n",
       "      <th>No. of Trades</th>\n",
       "      <th>Total Turnover (Rs.)</th>\n",
       "      <th>Deliverable Quantity</th>\n",
       "      <th>% Deli. Qty to Traded Qty</th>\n",
       "      <th>Spread High-Low</th>\n",
       "      <th>Spread Close-Open</th>\n",
       "    </tr>\n",
       "  </thead>\n",
       "  <tbody>\n",
       "    <tr>\n",
       "      <td>5488</td>\n",
       "      <td>1-July-1998</td>\n",
       "      <td>42.25</td>\n",
       "      <td>42.25</td>\n",
       "      <td>39.20</td>\n",
       "      <td>39.20</td>\n",
       "      <td>39.424719</td>\n",
       "      <td>165380</td>\n",
       "      <td>651</td>\n",
       "      <td>6520060.0</td>\n",
       "      <td>NaN</td>\n",
       "      <td>NaN</td>\n",
       "      <td>3.05</td>\n",
       "      <td>-3.05</td>\n",
       "    </tr>\n",
       "    <tr>\n",
       "      <td>5487</td>\n",
       "      <td>2-July-1998</td>\n",
       "      <td>36.70</td>\n",
       "      <td>39.10</td>\n",
       "      <td>36.55</td>\n",
       "      <td>37.90</td>\n",
       "      <td>38.332534</td>\n",
       "      <td>64210</td>\n",
       "      <td>383</td>\n",
       "      <td>2461332.0</td>\n",
       "      <td>NaN</td>\n",
       "      <td>NaN</td>\n",
       "      <td>2.55</td>\n",
       "      <td>1.20</td>\n",
       "    </tr>\n",
       "    <tr>\n",
       "      <td>5486</td>\n",
       "      <td>3-July-1998</td>\n",
       "      <td>37.20</td>\n",
       "      <td>37.60</td>\n",
       "      <td>35.30</td>\n",
       "      <td>36.15</td>\n",
       "      <td>35.932710</td>\n",
       "      <td>232650</td>\n",
       "      <td>633</td>\n",
       "      <td>8359745.0</td>\n",
       "      <td>NaN</td>\n",
       "      <td>NaN</td>\n",
       "      <td>2.30</td>\n",
       "      <td>-1.05</td>\n",
       "    </tr>\n",
       "    <tr>\n",
       "      <td>5485</td>\n",
       "      <td>6-July-1998</td>\n",
       "      <td>37.50</td>\n",
       "      <td>38.00</td>\n",
       "      <td>37.10</td>\n",
       "      <td>37.40</td>\n",
       "      <td>37.503305</td>\n",
       "      <td>40850</td>\n",
       "      <td>230</td>\n",
       "      <td>1532010.0</td>\n",
       "      <td>NaN</td>\n",
       "      <td>NaN</td>\n",
       "      <td>0.90</td>\n",
       "      <td>-0.10</td>\n",
       "    </tr>\n",
       "    <tr>\n",
       "      <td>5484</td>\n",
       "      <td>7-July-1998</td>\n",
       "      <td>37.50</td>\n",
       "      <td>40.35</td>\n",
       "      <td>37.35</td>\n",
       "      <td>40.35</td>\n",
       "      <td>39.226003</td>\n",
       "      <td>109720</td>\n",
       "      <td>390</td>\n",
       "      <td>4303877.0</td>\n",
       "      <td>NaN</td>\n",
       "      <td>NaN</td>\n",
       "      <td>3.00</td>\n",
       "      <td>2.85</td>\n",
       "    </tr>\n",
       "    <tr>\n",
       "      <td>5483</td>\n",
       "      <td>8-July-1998</td>\n",
       "      <td>41.50</td>\n",
       "      <td>42.25</td>\n",
       "      <td>40.25</td>\n",
       "      <td>40.80</td>\n",
       "      <td>41.043616</td>\n",
       "      <td>75660</td>\n",
       "      <td>335</td>\n",
       "      <td>3105360.0</td>\n",
       "      <td>NaN</td>\n",
       "      <td>NaN</td>\n",
       "      <td>2.00</td>\n",
       "      <td>-0.70</td>\n",
       "    </tr>\n",
       "    <tr>\n",
       "      <td>5482</td>\n",
       "      <td>9-July-1998</td>\n",
       "      <td>41.00</td>\n",
       "      <td>41.40</td>\n",
       "      <td>39.35</td>\n",
       "      <td>39.95</td>\n",
       "      <td>40.477906</td>\n",
       "      <td>45850</td>\n",
       "      <td>261</td>\n",
       "      <td>1855912.0</td>\n",
       "      <td>NaN</td>\n",
       "      <td>NaN</td>\n",
       "      <td>2.05</td>\n",
       "      <td>-1.05</td>\n",
       "    </tr>\n",
       "  </tbody>\n",
       "</table>\n",
       "</div>"
      ],
      "text/plain": [
       "             Date  Open Price  High Price  Low Price  Close Price        WAP  \\\n",
       "5488  1-July-1998       42.25       42.25      39.20        39.20  39.424719   \n",
       "5487  2-July-1998       36.70       39.10      36.55        37.90  38.332534   \n",
       "5486  3-July-1998       37.20       37.60      35.30        36.15  35.932710   \n",
       "5485  6-July-1998       37.50       38.00      37.10        37.40  37.503305   \n",
       "5484  7-July-1998       37.50       40.35      37.35        40.35  39.226003   \n",
       "5483  8-July-1998       41.50       42.25      40.25        40.80  41.043616   \n",
       "5482  9-July-1998       41.00       41.40      39.35        39.95  40.477906   \n",
       "\n",
       "      No.of Shares  No. of Trades  Total Turnover (Rs.)  Deliverable Quantity  \\\n",
       "5488        165380            651             6520060.0                   NaN   \n",
       "5487         64210            383             2461332.0                   NaN   \n",
       "5486        232650            633             8359745.0                   NaN   \n",
       "5485         40850            230             1532010.0                   NaN   \n",
       "5484        109720            390             4303877.0                   NaN   \n",
       "5483         75660            335             3105360.0                   NaN   \n",
       "5482         45850            261             1855912.0                   NaN   \n",
       "\n",
       "      % Deli. Qty to Traded Qty  Spread High-Low  Spread Close-Open  \n",
       "5488                        NaN             3.05              -3.05  \n",
       "5487                        NaN             2.55               1.20  \n",
       "5486                        NaN             2.30              -1.05  \n",
       "5485                        NaN             0.90              -0.10  \n",
       "5484                        NaN             3.00               2.85  \n",
       "5483                        NaN             2.00              -0.70  \n",
       "5482                        NaN             2.05              -1.05  "
      ]
     },
     "execution_count": 542,
     "metadata": {},
     "output_type": "execute_result"
    }
   ],
   "source": [
    "df.head(7)"
   ]
  },
  {
   "cell_type": "code",
   "execution_count": 543,
   "metadata": {},
   "outputs": [],
   "source": [
    "df.reset_index(drop=True,inplace=True)"
   ]
  },
  {
   "cell_type": "code",
   "execution_count": 544,
   "metadata": {},
   "outputs": [
    {
     "data": {
      "text/html": [
       "<div>\n",
       "<style scoped>\n",
       "    .dataframe tbody tr th:only-of-type {\n",
       "        vertical-align: middle;\n",
       "    }\n",
       "\n",
       "    .dataframe tbody tr th {\n",
       "        vertical-align: top;\n",
       "    }\n",
       "\n",
       "    .dataframe thead th {\n",
       "        text-align: right;\n",
       "    }\n",
       "</style>\n",
       "<table border=\"1\" class=\"dataframe\">\n",
       "  <thead>\n",
       "    <tr style=\"text-align: right;\">\n",
       "      <th></th>\n",
       "      <th>Date</th>\n",
       "      <th>Open Price</th>\n",
       "      <th>High Price</th>\n",
       "      <th>Low Price</th>\n",
       "      <th>Close Price</th>\n",
       "      <th>WAP</th>\n",
       "      <th>No.of Shares</th>\n",
       "      <th>No. of Trades</th>\n",
       "      <th>Total Turnover (Rs.)</th>\n",
       "      <th>Deliverable Quantity</th>\n",
       "      <th>% Deli. Qty to Traded Qty</th>\n",
       "      <th>Spread High-Low</th>\n",
       "      <th>Spread Close-Open</th>\n",
       "    </tr>\n",
       "  </thead>\n",
       "  <tbody>\n",
       "    <tr>\n",
       "      <td>0</td>\n",
       "      <td>1-July-1998</td>\n",
       "      <td>42.25</td>\n",
       "      <td>42.25</td>\n",
       "      <td>39.20</td>\n",
       "      <td>39.20</td>\n",
       "      <td>39.424719</td>\n",
       "      <td>165380</td>\n",
       "      <td>651</td>\n",
       "      <td>6520060.0</td>\n",
       "      <td>NaN</td>\n",
       "      <td>NaN</td>\n",
       "      <td>3.05</td>\n",
       "      <td>-3.05</td>\n",
       "    </tr>\n",
       "    <tr>\n",
       "      <td>1</td>\n",
       "      <td>2-July-1998</td>\n",
       "      <td>36.70</td>\n",
       "      <td>39.10</td>\n",
       "      <td>36.55</td>\n",
       "      <td>37.90</td>\n",
       "      <td>38.332534</td>\n",
       "      <td>64210</td>\n",
       "      <td>383</td>\n",
       "      <td>2461332.0</td>\n",
       "      <td>NaN</td>\n",
       "      <td>NaN</td>\n",
       "      <td>2.55</td>\n",
       "      <td>1.20</td>\n",
       "    </tr>\n",
       "    <tr>\n",
       "      <td>2</td>\n",
       "      <td>3-July-1998</td>\n",
       "      <td>37.20</td>\n",
       "      <td>37.60</td>\n",
       "      <td>35.30</td>\n",
       "      <td>36.15</td>\n",
       "      <td>35.932710</td>\n",
       "      <td>232650</td>\n",
       "      <td>633</td>\n",
       "      <td>8359745.0</td>\n",
       "      <td>NaN</td>\n",
       "      <td>NaN</td>\n",
       "      <td>2.30</td>\n",
       "      <td>-1.05</td>\n",
       "    </tr>\n",
       "    <tr>\n",
       "      <td>3</td>\n",
       "      <td>6-July-1998</td>\n",
       "      <td>37.50</td>\n",
       "      <td>38.00</td>\n",
       "      <td>37.10</td>\n",
       "      <td>37.40</td>\n",
       "      <td>37.503305</td>\n",
       "      <td>40850</td>\n",
       "      <td>230</td>\n",
       "      <td>1532010.0</td>\n",
       "      <td>NaN</td>\n",
       "      <td>NaN</td>\n",
       "      <td>0.90</td>\n",
       "      <td>-0.10</td>\n",
       "    </tr>\n",
       "    <tr>\n",
       "      <td>4</td>\n",
       "      <td>7-July-1998</td>\n",
       "      <td>37.50</td>\n",
       "      <td>40.35</td>\n",
       "      <td>37.35</td>\n",
       "      <td>40.35</td>\n",
       "      <td>39.226003</td>\n",
       "      <td>109720</td>\n",
       "      <td>390</td>\n",
       "      <td>4303877.0</td>\n",
       "      <td>NaN</td>\n",
       "      <td>NaN</td>\n",
       "      <td>3.00</td>\n",
       "      <td>2.85</td>\n",
       "    </tr>\n",
       "    <tr>\n",
       "      <td>...</td>\n",
       "      <td>...</td>\n",
       "      <td>...</td>\n",
       "      <td>...</td>\n",
       "      <td>...</td>\n",
       "      <td>...</td>\n",
       "      <td>...</td>\n",
       "      <td>...</td>\n",
       "      <td>...</td>\n",
       "      <td>...</td>\n",
       "      <td>...</td>\n",
       "      <td>...</td>\n",
       "      <td>...</td>\n",
       "      <td>...</td>\n",
       "    </tr>\n",
       "    <tr>\n",
       "      <td>5484</td>\n",
       "      <td>7-July-2020</td>\n",
       "      <td>326.50</td>\n",
       "      <td>327.00</td>\n",
       "      <td>314.30</td>\n",
       "      <td>316.20</td>\n",
       "      <td>319.290464</td>\n",
       "      <td>183637</td>\n",
       "      <td>4010</td>\n",
       "      <td>58633543.0</td>\n",
       "      <td>57085.0</td>\n",
       "      <td>31.09</td>\n",
       "      <td>12.70</td>\n",
       "      <td>-10.30</td>\n",
       "    </tr>\n",
       "    <tr>\n",
       "      <td>5485</td>\n",
       "      <td>8-July-2020</td>\n",
       "      <td>316.30</td>\n",
       "      <td>319.70</td>\n",
       "      <td>308.65</td>\n",
       "      <td>309.40</td>\n",
       "      <td>314.085418</td>\n",
       "      <td>62434</td>\n",
       "      <td>1327</td>\n",
       "      <td>19609609.0</td>\n",
       "      <td>21089.0</td>\n",
       "      <td>33.78</td>\n",
       "      <td>11.05</td>\n",
       "      <td>-6.90</td>\n",
       "    </tr>\n",
       "    <tr>\n",
       "      <td>5486</td>\n",
       "      <td>9-July-2020</td>\n",
       "      <td>314.80</td>\n",
       "      <td>323.15</td>\n",
       "      <td>308.95</td>\n",
       "      <td>321.35</td>\n",
       "      <td>318.009560</td>\n",
       "      <td>129815</td>\n",
       "      <td>2760</td>\n",
       "      <td>41282411.0</td>\n",
       "      <td>34350.0</td>\n",
       "      <td>26.46</td>\n",
       "      <td>14.20</td>\n",
       "      <td>6.55</td>\n",
       "    </tr>\n",
       "    <tr>\n",
       "      <td>5487</td>\n",
       "      <td>10-July-2020</td>\n",
       "      <td>320.00</td>\n",
       "      <td>327.55</td>\n",
       "      <td>312.95</td>\n",
       "      <td>315.60</td>\n",
       "      <td>320.337892</td>\n",
       "      <td>111740</td>\n",
       "      <td>2244</td>\n",
       "      <td>35794556.0</td>\n",
       "      <td>29008.0</td>\n",
       "      <td>25.96</td>\n",
       "      <td>14.60</td>\n",
       "      <td>-4.40</td>\n",
       "    </tr>\n",
       "    <tr>\n",
       "      <td>5488</td>\n",
       "      <td>13-July-2020</td>\n",
       "      <td>316.50</td>\n",
       "      <td>318.00</td>\n",
       "      <td>309.00</td>\n",
       "      <td>311.50</td>\n",
       "      <td>312.205699</td>\n",
       "      <td>87482</td>\n",
       "      <td>2392</td>\n",
       "      <td>27312379.0</td>\n",
       "      <td>21877.0</td>\n",
       "      <td>25.01</td>\n",
       "      <td>9.00</td>\n",
       "      <td>-5.00</td>\n",
       "    </tr>\n",
       "  </tbody>\n",
       "</table>\n",
       "<p>5489 rows × 13 columns</p>\n",
       "</div>"
      ],
      "text/plain": [
       "              Date  Open Price  High Price  Low Price  Close Price  \\\n",
       "0      1-July-1998       42.25       42.25      39.20        39.20   \n",
       "1      2-July-1998       36.70       39.10      36.55        37.90   \n",
       "2      3-July-1998       37.20       37.60      35.30        36.15   \n",
       "3      6-July-1998       37.50       38.00      37.10        37.40   \n",
       "4      7-July-1998       37.50       40.35      37.35        40.35   \n",
       "...            ...         ...         ...        ...          ...   \n",
       "5484   7-July-2020      326.50      327.00     314.30       316.20   \n",
       "5485   8-July-2020      316.30      319.70     308.65       309.40   \n",
       "5486   9-July-2020      314.80      323.15     308.95       321.35   \n",
       "5487  10-July-2020      320.00      327.55     312.95       315.60   \n",
       "5488  13-July-2020      316.50      318.00     309.00       311.50   \n",
       "\n",
       "             WAP  No.of Shares  No. of Trades  Total Turnover (Rs.)  \\\n",
       "0      39.424719        165380            651             6520060.0   \n",
       "1      38.332534         64210            383             2461332.0   \n",
       "2      35.932710        232650            633             8359745.0   \n",
       "3      37.503305         40850            230             1532010.0   \n",
       "4      39.226003        109720            390             4303877.0   \n",
       "...          ...           ...            ...                   ...   \n",
       "5484  319.290464        183637           4010            58633543.0   \n",
       "5485  314.085418         62434           1327            19609609.0   \n",
       "5486  318.009560        129815           2760            41282411.0   \n",
       "5487  320.337892        111740           2244            35794556.0   \n",
       "5488  312.205699         87482           2392            27312379.0   \n",
       "\n",
       "      Deliverable Quantity  % Deli. Qty to Traded Qty  Spread High-Low  \\\n",
       "0                      NaN                        NaN             3.05   \n",
       "1                      NaN                        NaN             2.55   \n",
       "2                      NaN                        NaN             2.30   \n",
       "3                      NaN                        NaN             0.90   \n",
       "4                      NaN                        NaN             3.00   \n",
       "...                    ...                        ...              ...   \n",
       "5484               57085.0                      31.09            12.70   \n",
       "5485               21089.0                      33.78            11.05   \n",
       "5486               34350.0                      26.46            14.20   \n",
       "5487               29008.0                      25.96            14.60   \n",
       "5488               21877.0                      25.01             9.00   \n",
       "\n",
       "      Spread Close-Open  \n",
       "0                 -3.05  \n",
       "1                  1.20  \n",
       "2                 -1.05  \n",
       "3                 -0.10  \n",
       "4                  2.85  \n",
       "...                 ...  \n",
       "5484             -10.30  \n",
       "5485              -6.90  \n",
       "5486               6.55  \n",
       "5487              -4.40  \n",
       "5488              -5.00  \n",
       "\n",
       "[5489 rows x 13 columns]"
      ]
     },
     "execution_count": 544,
     "metadata": {},
     "output_type": "execute_result"
    }
   ],
   "source": [
    "df"
   ]
  },
  {
   "cell_type": "code",
   "execution_count": 545,
   "metadata": {},
   "outputs": [
    {
     "data": {
      "text/html": [
       "<div>\n",
       "<style scoped>\n",
       "    .dataframe tbody tr th:only-of-type {\n",
       "        vertical-align: middle;\n",
       "    }\n",
       "\n",
       "    .dataframe tbody tr th {\n",
       "        vertical-align: top;\n",
       "    }\n",
       "\n",
       "    .dataframe thead th {\n",
       "        text-align: right;\n",
       "    }\n",
       "</style>\n",
       "<table border=\"1\" class=\"dataframe\">\n",
       "  <thead>\n",
       "    <tr style=\"text-align: right;\">\n",
       "      <th></th>\n",
       "      <th>Date</th>\n",
       "      <th>Open Price</th>\n",
       "      <th>High Price</th>\n",
       "      <th>Low Price</th>\n",
       "      <th>Close Price</th>\n",
       "      <th>WAP</th>\n",
       "      <th>No.of Shares</th>\n",
       "      <th>No. of Trades</th>\n",
       "      <th>Total Turnover (Rs.)</th>\n",
       "      <th>Deliverable Quantity</th>\n",
       "      <th>% Deli. Qty to Traded Qty</th>\n",
       "      <th>Spread High-Low</th>\n",
       "      <th>Spread Close-Open</th>\n",
       "    </tr>\n",
       "  </thead>\n",
       "  <tbody>\n",
       "    <tr>\n",
       "      <td>0</td>\n",
       "      <td>1-July-1998</td>\n",
       "      <td>42.25</td>\n",
       "      <td>42.25</td>\n",
       "      <td>39.20</td>\n",
       "      <td>39.20</td>\n",
       "      <td>39.424719</td>\n",
       "      <td>165380</td>\n",
       "      <td>651</td>\n",
       "      <td>6520060.0</td>\n",
       "      <td>NaN</td>\n",
       "      <td>NaN</td>\n",
       "      <td>3.05</td>\n",
       "      <td>-3.05</td>\n",
       "    </tr>\n",
       "    <tr>\n",
       "      <td>1</td>\n",
       "      <td>2-July-1998</td>\n",
       "      <td>36.70</td>\n",
       "      <td>39.10</td>\n",
       "      <td>36.55</td>\n",
       "      <td>37.90</td>\n",
       "      <td>38.332534</td>\n",
       "      <td>64210</td>\n",
       "      <td>383</td>\n",
       "      <td>2461332.0</td>\n",
       "      <td>NaN</td>\n",
       "      <td>NaN</td>\n",
       "      <td>2.55</td>\n",
       "      <td>1.20</td>\n",
       "    </tr>\n",
       "    <tr>\n",
       "      <td>2</td>\n",
       "      <td>3-July-1998</td>\n",
       "      <td>37.20</td>\n",
       "      <td>37.60</td>\n",
       "      <td>35.30</td>\n",
       "      <td>36.15</td>\n",
       "      <td>35.932710</td>\n",
       "      <td>232650</td>\n",
       "      <td>633</td>\n",
       "      <td>8359745.0</td>\n",
       "      <td>NaN</td>\n",
       "      <td>NaN</td>\n",
       "      <td>2.30</td>\n",
       "      <td>-1.05</td>\n",
       "    </tr>\n",
       "    <tr>\n",
       "      <td>3</td>\n",
       "      <td>6-July-1998</td>\n",
       "      <td>37.50</td>\n",
       "      <td>38.00</td>\n",
       "      <td>37.10</td>\n",
       "      <td>37.40</td>\n",
       "      <td>37.503305</td>\n",
       "      <td>40850</td>\n",
       "      <td>230</td>\n",
       "      <td>1532010.0</td>\n",
       "      <td>NaN</td>\n",
       "      <td>NaN</td>\n",
       "      <td>0.90</td>\n",
       "      <td>-0.10</td>\n",
       "    </tr>\n",
       "    <tr>\n",
       "      <td>4</td>\n",
       "      <td>7-July-1998</td>\n",
       "      <td>37.50</td>\n",
       "      <td>40.35</td>\n",
       "      <td>37.35</td>\n",
       "      <td>40.35</td>\n",
       "      <td>39.226003</td>\n",
       "      <td>109720</td>\n",
       "      <td>390</td>\n",
       "      <td>4303877.0</td>\n",
       "      <td>NaN</td>\n",
       "      <td>NaN</td>\n",
       "      <td>3.00</td>\n",
       "      <td>2.85</td>\n",
       "    </tr>\n",
       "    <tr>\n",
       "      <td>5</td>\n",
       "      <td>8-July-1998</td>\n",
       "      <td>41.50</td>\n",
       "      <td>42.25</td>\n",
       "      <td>40.25</td>\n",
       "      <td>40.80</td>\n",
       "      <td>41.043616</td>\n",
       "      <td>75660</td>\n",
       "      <td>335</td>\n",
       "      <td>3105360.0</td>\n",
       "      <td>NaN</td>\n",
       "      <td>NaN</td>\n",
       "      <td>2.00</td>\n",
       "      <td>-0.70</td>\n",
       "    </tr>\n",
       "    <tr>\n",
       "      <td>6</td>\n",
       "      <td>9-July-1998</td>\n",
       "      <td>41.00</td>\n",
       "      <td>41.40</td>\n",
       "      <td>39.35</td>\n",
       "      <td>39.95</td>\n",
       "      <td>40.477906</td>\n",
       "      <td>45850</td>\n",
       "      <td>261</td>\n",
       "      <td>1855912.0</td>\n",
       "      <td>NaN</td>\n",
       "      <td>NaN</td>\n",
       "      <td>2.05</td>\n",
       "      <td>-1.05</td>\n",
       "    </tr>\n",
       "  </tbody>\n",
       "</table>\n",
       "</div>"
      ],
      "text/plain": [
       "          Date  Open Price  High Price  Low Price  Close Price        WAP  \\\n",
       "0  1-July-1998       42.25       42.25      39.20        39.20  39.424719   \n",
       "1  2-July-1998       36.70       39.10      36.55        37.90  38.332534   \n",
       "2  3-July-1998       37.20       37.60      35.30        36.15  35.932710   \n",
       "3  6-July-1998       37.50       38.00      37.10        37.40  37.503305   \n",
       "4  7-July-1998       37.50       40.35      37.35        40.35  39.226003   \n",
       "5  8-July-1998       41.50       42.25      40.25        40.80  41.043616   \n",
       "6  9-July-1998       41.00       41.40      39.35        39.95  40.477906   \n",
       "\n",
       "   No.of Shares  No. of Trades  Total Turnover (Rs.)  Deliverable Quantity  \\\n",
       "0        165380            651             6520060.0                   NaN   \n",
       "1         64210            383             2461332.0                   NaN   \n",
       "2        232650            633             8359745.0                   NaN   \n",
       "3         40850            230             1532010.0                   NaN   \n",
       "4        109720            390             4303877.0                   NaN   \n",
       "5         75660            335             3105360.0                   NaN   \n",
       "6         45850            261             1855912.0                   NaN   \n",
       "\n",
       "   % Deli. Qty to Traded Qty  Spread High-Low  Spread Close-Open  \n",
       "0                        NaN             3.05              -3.05  \n",
       "1                        NaN             2.55               1.20  \n",
       "2                        NaN             2.30              -1.05  \n",
       "3                        NaN             0.90              -0.10  \n",
       "4                        NaN             3.00               2.85  \n",
       "5                        NaN             2.00              -0.70  \n",
       "6                        NaN             2.05              -1.05  "
      ]
     },
     "execution_count": 545,
     "metadata": {},
     "output_type": "execute_result"
    }
   ],
   "source": [
    "df.head(7)"
   ]
  },
  {
   "cell_type": "code",
   "execution_count": 546,
   "metadata": {},
   "outputs": [
    {
     "data": {
      "text/plain": [
       "Index(['Date', 'Open Price', 'High Price', 'Low Price', 'Close Price', 'WAP',\n",
       "       'No.of Shares', 'No. of Trades', 'Total Turnover (Rs.)',\n",
       "       'Deliverable Quantity', '% Deli. Qty to Traded Qty', 'Spread High-Low',\n",
       "       'Spread Close-Open'],\n",
       "      dtype='object')"
      ]
     },
     "execution_count": 546,
     "metadata": {},
     "output_type": "execute_result"
    }
   ],
   "source": [
    "df.columns"
   ]
  },
  {
   "cell_type": "code",
   "execution_count": 547,
   "metadata": {},
   "outputs": [
    {
     "name": "stdout",
     "output_type": "stream",
     "text": [
      "<class 'pandas.core.frame.DataFrame'>\n",
      "RangeIndex: 5489 entries, 0 to 5488\n",
      "Data columns (total 13 columns):\n",
      "Date                         5489 non-null object\n",
      "Open Price                   5489 non-null float64\n",
      "High Price                   5489 non-null float64\n",
      "Low Price                    5489 non-null float64\n",
      "Close Price                  5489 non-null float64\n",
      "WAP                          5489 non-null float64\n",
      "No.of Shares                 5489 non-null int64\n",
      "No. of Trades                5489 non-null int64\n",
      "Total Turnover (Rs.)         5489 non-null float64\n",
      "Deliverable Quantity         4569 non-null float64\n",
      "% Deli. Qty to Traded Qty    4569 non-null float64\n",
      "Spread High-Low              5489 non-null float64\n",
      "Spread Close-Open            5489 non-null float64\n",
      "dtypes: float64(10), int64(2), object(1)\n",
      "memory usage: 557.6+ KB\n"
     ]
    }
   ],
   "source": [
    "df.info()"
   ]
  },
  {
   "cell_type": "code",
   "execution_count": 548,
   "metadata": {},
   "outputs": [
    {
     "data": {
      "text/plain": [
       "(5489, 13)"
      ]
     },
     "execution_count": 548,
     "metadata": {},
     "output_type": "execute_result"
    }
   ],
   "source": [
    "df.shape"
   ]
  },
  {
   "cell_type": "code",
   "execution_count": 549,
   "metadata": {},
   "outputs": [],
   "source": [
    "df.drop(columns=['Deliverable Quantity','% Deli. Qty to Traded Qty','Date'],inplace=True)"
   ]
  },
  {
   "cell_type": "code",
   "execution_count": 550,
   "metadata": {},
   "outputs": [
    {
     "name": "stdout",
     "output_type": "stream",
     "text": [
      "<class 'pandas.core.frame.DataFrame'>\n",
      "RangeIndex: 5489 entries, 0 to 5488\n",
      "Data columns (total 10 columns):\n",
      "Open Price              5489 non-null float64\n",
      "High Price              5489 non-null float64\n",
      "Low Price               5489 non-null float64\n",
      "Close Price             5489 non-null float64\n",
      "WAP                     5489 non-null float64\n",
      "No.of Shares            5489 non-null int64\n",
      "No. of Trades           5489 non-null int64\n",
      "Total Turnover (Rs.)    5489 non-null float64\n",
      "Spread High-Low         5489 non-null float64\n",
      "Spread Close-Open       5489 non-null float64\n",
      "dtypes: float64(8), int64(2)\n",
      "memory usage: 429.0 KB\n"
     ]
    }
   ],
   "source": [
    "df.info()"
   ]
  },
  {
   "cell_type": "code",
   "execution_count": null,
   "metadata": {},
   "outputs": [],
   "source": []
  },
  {
   "cell_type": "markdown",
   "metadata": {},
   "source": [
    "# making y_train from dataset"
   ]
  },
  {
   "cell_type": "code",
   "execution_count": 564,
   "metadata": {},
   "outputs": [],
   "source": [
    "dataset=df.values"
   ]
  },
  {
   "cell_type": "code",
   "execution_count": 565,
   "metadata": {},
   "outputs": [
    {
     "data": {
      "text/plain": [
       "(5489, 10)"
      ]
     },
     "execution_count": 565,
     "metadata": {},
     "output_type": "execute_result"
    }
   ],
   "source": [
    "dataset.shape"
   ]
  },
  {
   "cell_type": "code",
   "execution_count": 566,
   "metadata": {},
   "outputs": [
    {
     "data": {
      "text/plain": [
       "37.9"
      ]
     },
     "execution_count": 566,
     "metadata": {},
     "output_type": "execute_result"
    }
   ],
   "source": [
    "# here 3 column is the closing price of the stock which we have to predict\n",
    "dataset[1][3]"
   ]
  },
  {
   "cell_type": "code",
   "execution_count": 555,
   "metadata": {},
   "outputs": [
    {
     "data": {
      "text/plain": [
       "5489"
      ]
     },
     "execution_count": 555,
     "metadata": {},
     "output_type": "execute_result"
    }
   ],
   "source": [
    "len(dataset)"
   ]
  },
  {
   "cell_type": "code",
   "execution_count": 567,
   "metadata": {},
   "outputs": [],
   "source": [
    "y_train=[]\n",
    "\n",
    "for i in range(60,len(dataset)):\n",
    "    y_train.append(dataset[i,3])\n",
    "    \n"
   ]
  },
  {
   "cell_type": "code",
   "execution_count": 571,
   "metadata": {},
   "outputs": [
    {
     "name": "stdout",
     "output_type": "stream",
     "text": [
      "(5429, 1)\n"
     ]
    }
   ],
   "source": [
    "y_train=np.array(y_train)\n",
    "y_train=y_train.reshape(-1,1)\n",
    "print(y_train.shape)"
   ]
  },
  {
   "cell_type": "code",
   "execution_count": null,
   "metadata": {},
   "outputs": [],
   "source": []
  },
  {
   "cell_type": "markdown",
   "metadata": {},
   "source": [
    "## scaling the data"
   ]
  },
  {
   "cell_type": "code",
   "execution_count": 559,
   "metadata": {},
   "outputs": [
    {
     "data": {
      "text/plain": [
       "array([[0, 1, 2]])"
      ]
     },
     "execution_count": 559,
     "metadata": {},
     "output_type": "execute_result"
    }
   ],
   "source": [
    "a=np.array([0,1,2])\n",
    "a=a.reshape((1,-1))\n",
    "a"
   ]
  },
  {
   "cell_type": "code",
   "execution_count": 560,
   "metadata": {},
   "outputs": [
    {
     "data": {
      "text/plain": [
       "(1, 3)"
      ]
     },
     "execution_count": 560,
     "metadata": {},
     "output_type": "execute_result"
    }
   ],
   "source": [
    "a.shape"
   ]
  },
  {
   "cell_type": "code",
   "execution_count": 561,
   "metadata": {},
   "outputs": [
    {
     "name": "stdout",
     "output_type": "stream",
     "text": [
      "[[0. 0. 0.]]\n"
     ]
    }
   ],
   "source": [
    "scaler = MinMaxScaler(feature_range=(0,1))\n",
    "scaled_data=scaler.fit_transform(a)\n",
    "print(scaled_data)"
   ]
  },
  {
   "cell_type": "code",
   "execution_count": 562,
   "metadata": {},
   "outputs": [
    {
     "name": "stdout",
     "output_type": "stream",
     "text": [
      "[[0. 1. 2.]]\n"
     ]
    }
   ],
   "source": [
    "pre=scaler.inverse_transform(scaled_data)\n",
    "print(pre)"
   ]
  },
  {
   "cell_type": "code",
   "execution_count": 572,
   "metadata": {},
   "outputs": [],
   "source": [
    "scaler_x = MinMaxScaler(feature_range=(0,1))\n",
    "scaler_y = MinMaxScaler(feature_range=(0,1))\n",
    "scaled_data_x=scaler_x.fit_transform(dataset)\n",
    "scaled_data_y=scaler_y.fit_transform(y_train)"
   ]
  },
  {
   "cell_type": "code",
   "execution_count": 573,
   "metadata": {},
   "outputs": [
    {
     "name": "stdout",
     "output_type": "stream",
     "text": [
      "(5489, 10) (5429, 1)\n"
     ]
    }
   ],
   "source": [
    "print(scaled_data_x.shape,scaled_data_y.shape)"
   ]
  },
  {
   "cell_type": "markdown",
   "metadata": {},
   "source": [
    "## making x_train for our dataset"
   ]
  },
  {
   "cell_type": "markdown",
   "metadata": {},
   "source": [
    "### we have not taken last value in this check loop you will get that last is missed in this loop but it is present in y value"
   ]
  },
  {
   "cell_type": "code",
   "execution_count": 574,
   "metadata": {},
   "outputs": [
    {
     "data": {
      "text/plain": [
       "5489"
      ]
     },
     "execution_count": 574,
     "metadata": {},
     "output_type": "execute_result"
    }
   ],
   "source": [
    "len(scaled_data_x)"
   ]
  },
  {
   "cell_type": "code",
   "execution_count": 575,
   "metadata": {},
   "outputs": [],
   "source": [
    "x_train=[]\n",
    "\n",
    "for i in range(60,len(scaled_data_x)):\n",
    "    x_train.append(scaled_data_x[i-60:i,:])"
   ]
  },
  {
   "cell_type": "code",
   "execution_count": 576,
   "metadata": {},
   "outputs": [
    {
     "name": "stdout",
     "output_type": "stream",
     "text": [
      "(5429, 60, 10)\n"
     ]
    }
   ],
   "source": [
    "x_train=np.array(x_train)\n",
    "print(x_train.shape)"
   ]
  },
  {
   "cell_type": "code",
   "execution_count": 577,
   "metadata": {},
   "outputs": [
    {
     "data": {
      "text/plain": [
       "(5429, 1)"
      ]
     },
     "execution_count": 577,
     "metadata": {},
     "output_type": "execute_result"
    }
   ],
   "source": [
    "scaled_data_y.shape"
   ]
  },
  {
   "cell_type": "code",
   "execution_count": 579,
   "metadata": {},
   "outputs": [],
   "source": [
    "scaled_data_y=scaled_data_y.reshape((-1,))"
   ]
  },
  {
   "cell_type": "code",
   "execution_count": 580,
   "metadata": {},
   "outputs": [
    {
     "data": {
      "text/plain": [
       "(5429,)"
      ]
     },
     "execution_count": 580,
     "metadata": {},
     "output_type": "execute_result"
    }
   ],
   "source": [
    "scaled_data_y.shape"
   ]
  },
  {
   "cell_type": "code",
   "execution_count": null,
   "metadata": {},
   "outputs": [],
   "source": []
  },
  {
   "cell_type": "markdown",
   "metadata": {},
   "source": [
    "## making test data for tomorrow prediction"
   ]
  },
  {
   "cell_type": "code",
   "execution_count": 581,
   "metadata": {},
   "outputs": [],
   "source": [
    "test_val=scaled_data_x[-60:,:]"
   ]
  },
  {
   "cell_type": "code",
   "execution_count": 582,
   "metadata": {},
   "outputs": [
    {
     "data": {
      "text/plain": [
       "array([[0.22303665, 0.2253064 , 0.22149433, 0.22821025, 0.22094612,\n",
       "        0.05454489, 0.03520194, 0.03751984, 0.05804598, 0.69765013],\n",
       "       [0.23560209, 0.23228034, 0.21515581, 0.21430823, 0.2241653 ,\n",
       "        0.04660313, 0.03485563, 0.03249264, 0.13103448, 0.56588338],\n",
       "       [0.21082024, 0.207768  , 0.20325779, 0.20180691, 0.20366679,\n",
       "        0.0097791 , 0.01248431, 0.00623623, 0.05938697, 0.62732811],\n",
       "       [0.19581152, 0.19765234, 0.18279037, 0.18370277, 0.18511032,\n",
       "        0.14427476, 0.11593438, 0.08422764, 0.11398467, 0.61218451],\n",
       "       [0.18750436, 0.19292249, 0.18711048, 0.19172182, 0.19220042,\n",
       "        0.08107113, 0.05495866, 0.04899868, 0.06436782, 0.69347258],\n",
       "       [0.1886911 , 0.18960815, 0.18427762, 0.18338761, 0.18547537,\n",
       "        0.0449241 , 0.02811134, 0.02627446, 0.06130268, 0.64612707],\n",
       "       [0.19092496, 0.18808907, 0.18661473, 0.1857338 , 0.18614656,\n",
       "        0.015359  , 0.01804251, 0.00901299, 0.04022989, 0.64664926],\n",
       "       [0.1877836 , 0.18677714, 0.18399433, 0.18674931, 0.18303166,\n",
       "        0.07321274, 0.03344444, 0.04229977, 0.04712644, 0.66736292],\n",
       "       [0.1878185 , 0.18753668, 0.18895184, 0.1889204 , 0.18749964,\n",
       "        0.07559871, 0.02491667, 0.04465919, 0.02452107, 0.67798085],\n",
       "       [0.19036649, 0.19720352, 0.19026204, 0.18899044, 0.19420483,\n",
       "        0.02824887, 0.02493399, 0.01723794, 0.0710728 , 0.66562228],\n",
       "       [0.18666667, 0.18387709, 0.1740085 , 0.17337255, 0.17478502,\n",
       "        0.02501937, 0.02598156, 0.01385627, 0.08505747, 0.60644038],\n",
       "       [0.1782199 , 0.17628172, 0.16933428, 0.16808488, 0.17244662,\n",
       "        0.01377619, 0.01385221, 0.00753609, 0.06819923, 0.62228024],\n",
       "       [0.17137871, 0.16986018, 0.16444759, 0.17179676, 0.16833941,\n",
       "        0.01108046, 0.01277867, 0.00592929, 0.05900383, 0.67484769],\n",
       "       [0.17085515, 0.17372691, 0.17082153, 0.1699058 , 0.17125678,\n",
       "        0.00851811, 0.00804294, 0.00463036, 0.04597701, 0.66805918],\n",
       "       [0.17521815, 0.17566028, 0.17149433, 0.17081626, 0.17409643,\n",
       "        0.01357269, 0.01386953, 0.0074898 , 0.05306513, 0.65082681],\n",
       "       [0.17033159, 0.17396858, 0.17315864, 0.17417796, 0.17374003,\n",
       "        0.01002599, 0.00861435, 0.0055223 , 0.03467433, 0.69190601],\n",
       "       [0.17584642, 0.17317452, 0.16643059, 0.17053612, 0.16783741,\n",
       "        0.01484412, 0.01444959, 0.00792157, 0.06666667, 0.64630113],\n",
       "       [0.1765096 , 0.18118419, 0.17574363, 0.17985082, 0.17873062,\n",
       "        0.01941415, 0.021722  , 0.01097448, 0.06072797, 0.68929504],\n",
       "       [0.17766143, 0.17876748, 0.17613314, 0.17487831, 0.17686059,\n",
       "        0.01178879, 0.01076144, 0.00660005, 0.04521073, 0.65883377],\n",
       "       [0.17794066, 0.17528051, 0.17255666, 0.17652414, 0.17313996,\n",
       "        0.02107832, 0.01474395, 0.01157296, 0.04521073, 0.66562228],\n",
       "       [0.17815009, 0.17545313, 0.16501416, 0.16339251, 0.16638915,\n",
       "        0.0185881 , 0.01838881, 0.00984132, 0.08697318, 0.59930374],\n",
       "       [0.16719023, 0.16827205, 0.16572238, 0.16517842, 0.16639306,\n",
       "        0.01132394, 0.01160123, 0.00599557, 0.04329502, 0.66283725],\n",
       "       [0.16788831, 0.1666494 , 0.16643059, 0.16896032, 0.16648899,\n",
       "        0.0065942 , 0.00809489, 0.00349327, 0.03045977, 0.67815492],\n",
       "       [0.16719023, 0.17006732, 0.16887394, 0.16861015, 0.16968812,\n",
       "        0.01015757, 0.0106662 , 0.00547524, 0.0362069 , 0.67989556],\n",
       "       [0.16600349, 0.17317452, 0.16876771, 0.17428301, 0.17315772,\n",
       "        0.01514887, 0.01294316, 0.00831826, 0.05402299, 0.71401218],\n",
       "       [0.17626527, 0.17669601, 0.17634561, 0.17757468, 0.17670281,\n",
       "        0.01030924, 0.01092593, 0.00576701, 0.03256705, 0.6791993 ],\n",
       "       [0.17839442, 0.17911272, 0.18052408, 0.18191687, 0.17964962,\n",
       "        0.01482805, 0.01314229, 0.00842165, 0.02337165, 0.69016536],\n",
       "       [0.18268761, 0.1836009 , 0.18484419, 0.18349266, 0.18356422,\n",
       "        0.01086269, 0.00985239, 0.00629306, 0.02490421, 0.67658834],\n",
       "       [0.18289703, 0.18936648, 0.18470255, 0.18436811, 0.18730243,\n",
       "        0.02489462, 0.02406822, 0.01469213, 0.05766284, 0.67989556],\n",
       "       [0.18876091, 0.19292249, 0.1898017 , 0.19060125, 0.19120142,\n",
       "        0.01931451, 0.01722869, 0.01161765, 0.04980843, 0.68163621],\n",
       "       [0.1930192 , 0.20290005, 0.19405099, 0.20271737, 0.20039277,\n",
       "        0.0347601 , 0.02913294, 0.02183579, 0.08218391, 0.72062663],\n",
       "       [0.20628272, 0.20545486, 0.20081445, 0.19988094, 0.20379283,\n",
       "        0.01878919, 0.01599065, 0.01198872, 0.05977011, 0.64038294],\n",
       "       [0.20411867, 0.20148455, 0.198017  , 0.19858529, 0.19862503,\n",
       "        0.01062364, 0.00918575, 0.00661923, 0.05287356, 0.64473455],\n",
       "       [0.19755672, 0.20832039, 0.20077904, 0.20677942, 0.20617842,\n",
       "        0.02902571, 0.02600753, 0.01872125, 0.07586207, 0.71818973],\n",
       "       [0.2077836 , 0.20959779, 0.20743626, 0.20695451, 0.20842025,\n",
       "        0.0228813 , 0.01691702, 0.0149072 , 0.04693487, 0.66805918],\n",
       "       [0.20767888, 0.207768  , 0.20304533, 0.20292748, 0.20455037,\n",
       "        0.01379729, 0.01103848, 0.00883398, 0.0605364 , 0.64856397],\n",
       "       [0.20219895, 0.20376316, 0.20516997, 0.20457331, 0.20356635,\n",
       "        0.01015938, 0.0095234 , 0.00647577, 0.02681992, 0.68407311],\n",
       "       [0.19511344, 0.19820473, 0.19086402, 0.18969079, 0.19324838,\n",
       "        0.02792403, 0.02357474, 0.01696216, 0.07337165, 0.64543081],\n",
       "       [0.17975567, 0.19102365, 0.1822238 , 0.19389292, 0.18679912,\n",
       "        0.01831167, 0.01747111, 0.01078034, 0.0802682 , 0.74290688],\n",
       "       [0.19424084, 0.1953392 , 0.19228045, 0.19441818, 0.19320707,\n",
       "        0.07359825, 0.04411064, 0.0446973 , 0.04980843, 0.67328111],\n",
       "       [0.19727749, 0.19613326, 0.18987252, 0.1922821 , 0.19415269,\n",
       "        0.02854779, 0.01768755, 0.01741602, 0.06724138, 0.64751958],\n",
       "       [0.18673647, 0.19216296, 0.1898017 , 0.18972581, 0.1925959 ,\n",
       "        0.02836177, 0.02128046, 0.01717431, 0.04559387, 0.68738033],\n",
       "       [0.19099476, 0.19523563, 0.19412181, 0.19806002, 0.19447255,\n",
       "        0.00904685, 0.00819012, 0.00552772, 0.03927203, 0.7075718 ],\n",
       "       [0.19930192, 0.20531676, 0.20049575, 0.20716462, 0.20256609,\n",
       "        0.02695132, 0.02320246, 0.01710058, 0.06072797, 0.71140122],\n",
       "       [0.20767888, 0.2135681 , 0.20764873, 0.21136674, 0.20976361,\n",
       "        0.03891469, 0.0403792 , 0.02550462, 0.06781609, 0.69051349],\n",
       "       [0.21186736, 0.2089073 , 0.20538244, 0.20586896, 0.20499045,\n",
       "        0.03057637, 0.03295095, 0.01961592, 0.05421456, 0.64229765],\n",
       "       [0.20970332, 0.20666321, 0.19688385, 0.19823511, 0.20088347,\n",
       "        0.04938846, 0.05477685, 0.03109541, 0.08773946, 0.6151436 ],\n",
       "       [0.19713787, 0.19834283, 0.198017  , 0.19956578, 0.19835645,\n",
       "        0.01816422, 0.01812043, 0.01130319, 0.03544061, 0.68442124],\n",
       "       [0.20069808, 0.20044882, 0.19992918, 0.19991596, 0.19994854,\n",
       "        0.01205778, 0.01304705, 0.00755911, 0.03678161, 0.66840731],\n",
       "       [0.19441536, 0.19551182, 0.19362606, 0.19291242, 0.19293567,\n",
       "        0.01445821, 0.01340202, 0.00876946, 0.04348659, 0.66492602],\n",
       "       [0.19162304, 0.19219748, 0.19054533, 0.19081136, 0.19014517,\n",
       "        0.02026271, 0.00948877, 0.01212582, 0.04176245, 0.66840731],\n",
       "       [0.19019197, 0.19361298, 0.19097025, 0.19620408, 0.19193586,\n",
       "        0.03239583, 0.02856153, 0.01955499, 0.04731801, 0.70234987],\n",
       "       [0.19560209, 0.19623684, 0.19582153, 0.19389292, 0.19480875,\n",
       "        0.01518644, 0.01537596, 0.00929375, 0.03563218, 0.66388164],\n",
       "       [0.19326353, 0.19899879, 0.19553824, 0.1984102 , 0.19799383,\n",
       "        0.01517358, 0.0141812 , 0.00942624, 0.05249042, 0.69799826],\n",
       "       [0.19937173, 0.20590368, 0.20216006, 0.20737472, 0.20357418,\n",
       "        0.01920905, 0.01782607, 0.01224442, 0.05498084, 0.71209748],\n",
       "       [0.2122164 , 0.20949422, 0.20701133, 0.20569388, 0.20697253,\n",
       "        0.03689033, 0.03470845, 0.02387885, 0.048659  , 0.63968668],\n",
       "       [0.20509599, 0.20445365, 0.20300992, 0.20093147, 0.20333892,\n",
       "        0.01254193, 0.01148002, 0.00798611, 0.04233716, 0.65152306],\n",
       "       [0.20404887, 0.20683584, 0.20322238, 0.2093007 , 0.20607834,\n",
       "        0.02607806, 0.02388641, 0.01681249, 0.05440613, 0.69834639],\n",
       "       [0.20767888, 0.20987399, 0.20605524, 0.20527366, 0.20770373,\n",
       "        0.02244698, 0.01941907, 0.01457753, 0.0559387 , 0.66022628],\n",
       "       [0.2052356 , 0.20327982, 0.20325779, 0.20240221, 0.20202671,\n",
       "        0.01757381, 0.0207004 , 0.01112311, 0.03448276, 0.65813751]])"
      ]
     },
     "execution_count": 582,
     "metadata": {},
     "output_type": "execute_result"
    }
   ],
   "source": [
    "test_val"
   ]
  },
  {
   "cell_type": "code",
   "execution_count": 583,
   "metadata": {},
   "outputs": [
    {
     "data": {
      "text/plain": [
       "(60, 10)"
      ]
     },
     "execution_count": 583,
     "metadata": {},
     "output_type": "execute_result"
    }
   ],
   "source": [
    "test_val.shape"
   ]
  },
  {
   "cell_type": "code",
   "execution_count": 584,
   "metadata": {},
   "outputs": [],
   "source": [
    "test_val=test_val.reshape((1,test_val.shape[0],test_val.shape[1]))"
   ]
  },
  {
   "cell_type": "code",
   "execution_count": 585,
   "metadata": {},
   "outputs": [
    {
     "data": {
      "text/plain": [
       "(1, 60, 10)"
      ]
     },
     "execution_count": 585,
     "metadata": {},
     "output_type": "execute_result"
    }
   ],
   "source": [
    "test_val.shape"
   ]
  },
  {
   "cell_type": "code",
   "execution_count": null,
   "metadata": {},
   "outputs": [],
   "source": []
  },
  {
   "cell_type": "code",
   "execution_count": null,
   "metadata": {},
   "outputs": [],
   "source": []
  },
  {
   "cell_type": "markdown",
   "metadata": {},
   "source": [
    "### this is the method to shuffle the data"
   ]
  },
  {
   "cell_type": "code",
   "execution_count": 586,
   "metadata": {},
   "outputs": [],
   "source": [
    "import random"
   ]
  },
  {
   "cell_type": "code",
   "execution_count": 499,
   "metadata": {},
   "outputs": [],
   "source": [
    "a=np.arange(27).reshape((3,3,3))\n",
    "b=np.array([9,8,7])"
   ]
  },
  {
   "cell_type": "code",
   "execution_count": 500,
   "metadata": {},
   "outputs": [
    {
     "name": "stdout",
     "output_type": "stream",
     "text": [
      "[[[ 0  1  2]\n",
      "  [ 3  4  5]\n",
      "  [ 6  7  8]]\n",
      "\n",
      " [[ 9 10 11]\n",
      "  [12 13 14]\n",
      "  [15 16 17]]\n",
      "\n",
      " [[18 19 20]\n",
      "  [21 22 23]\n",
      "  [24 25 26]]]  \n",
      "\n",
      " [9 8 7]\n"
     ]
    }
   ],
   "source": [
    "print(a,\" \\n\\n\", b)"
   ]
  },
  {
   "cell_type": "code",
   "execution_count": 501,
   "metadata": {},
   "outputs": [
    {
     "name": "stdout",
     "output_type": "stream",
     "text": [
      "(3, 3, 3) (3,)\n"
     ]
    }
   ],
   "source": [
    "print(a.shape,b.shape)"
   ]
  },
  {
   "cell_type": "code",
   "execution_count": 502,
   "metadata": {},
   "outputs": [],
   "source": [
    "combined =list(zip(a,b))"
   ]
  },
  {
   "cell_type": "code",
   "execution_count": 503,
   "metadata": {
    "scrolled": true
   },
   "outputs": [
    {
     "name": "stdout",
     "output_type": "stream",
     "text": [
      "(array([[0, 1, 2],\n",
      "       [3, 4, 5],\n",
      "       [6, 7, 8]]), 9)\n",
      "(array([[ 9, 10, 11],\n",
      "       [12, 13, 14],\n",
      "       [15, 16, 17]]), 8)\n",
      "(array([[18, 19, 20],\n",
      "       [21, 22, 23],\n",
      "       [24, 25, 26]]), 7)\n"
     ]
    }
   ],
   "source": [
    "for c in combined:\n",
    "    print(c)"
   ]
  },
  {
   "cell_type": "code",
   "execution_count": 504,
   "metadata": {},
   "outputs": [],
   "source": [
    "random.shuffle(combined)"
   ]
  },
  {
   "cell_type": "code",
   "execution_count": 505,
   "metadata": {},
   "outputs": [
    {
     "data": {
      "text/plain": [
       "[(array([[0, 1, 2],\n",
       "         [3, 4, 5],\n",
       "         [6, 7, 8]]), 9), (array([[18, 19, 20],\n",
       "         [21, 22, 23],\n",
       "         [24, 25, 26]]), 7), (array([[ 9, 10, 11],\n",
       "         [12, 13, 14],\n",
       "         [15, 16, 17]]), 8)]"
      ]
     },
     "execution_count": 505,
     "metadata": {},
     "output_type": "execute_result"
    }
   ],
   "source": [
    "combined"
   ]
  },
  {
   "cell_type": "code",
   "execution_count": 506,
   "metadata": {},
   "outputs": [],
   "source": [
    "a,b[:]=zip(*combined)"
   ]
  },
  {
   "cell_type": "code",
   "execution_count": 507,
   "metadata": {},
   "outputs": [
    {
     "name": "stdout",
     "output_type": "stream",
     "text": [
      "(array([[0, 1, 2],\n",
      "       [3, 4, 5],\n",
      "       [6, 7, 8]]), array([[18, 19, 20],\n",
      "       [21, 22, 23],\n",
      "       [24, 25, 26]]), array([[ 9, 10, 11],\n",
      "       [12, 13, 14],\n",
      "       [15, 16, 17]])) \n",
      "\n",
      "\n",
      " [9 7 8]\n"
     ]
    }
   ],
   "source": [
    "print(a,\"\\n\\n\\n\",b)"
   ]
  },
  {
   "cell_type": "code",
   "execution_count": 508,
   "metadata": {},
   "outputs": [],
   "source": [
    "a=np.array(a)"
   ]
  },
  {
   "cell_type": "code",
   "execution_count": 509,
   "metadata": {},
   "outputs": [
    {
     "data": {
      "text/plain": [
       "array([[[ 0,  1,  2],\n",
       "        [ 3,  4,  5],\n",
       "        [ 6,  7,  8]],\n",
       "\n",
       "       [[18, 19, 20],\n",
       "        [21, 22, 23],\n",
       "        [24, 25, 26]],\n",
       "\n",
       "       [[ 9, 10, 11],\n",
       "        [12, 13, 14],\n",
       "        [15, 16, 17]]])"
      ]
     },
     "execution_count": 509,
     "metadata": {},
     "output_type": "execute_result"
    }
   ],
   "source": [
    "a"
   ]
  },
  {
   "cell_type": "markdown",
   "metadata": {},
   "source": [
    "## shuffling our data"
   ]
  },
  {
   "cell_type": "code",
   "execution_count": 587,
   "metadata": {},
   "outputs": [],
   "source": [
    "combined=list(zip(x_train,scaled_data_y))"
   ]
  },
  {
   "cell_type": "code",
   "execution_count": 588,
   "metadata": {},
   "outputs": [],
   "source": [
    "random.shuffle(combined)"
   ]
  },
  {
   "cell_type": "code",
   "execution_count": 589,
   "metadata": {},
   "outputs": [],
   "source": [
    "x_train_shuffled,y_train_shuffled=zip(*combined)"
   ]
  },
  {
   "cell_type": "code",
   "execution_count": 590,
   "metadata": {},
   "outputs": [],
   "source": [
    "x_train_shuffled=np.array(x_train_shuffled)"
   ]
  },
  {
   "cell_type": "code",
   "execution_count": 591,
   "metadata": {},
   "outputs": [
    {
     "data": {
      "text/plain": [
       "(5429, 60, 10)"
      ]
     },
     "execution_count": 591,
     "metadata": {},
     "output_type": "execute_result"
    }
   ],
   "source": [
    "x_train_shuffled.shape"
   ]
  },
  {
   "cell_type": "code",
   "execution_count": 592,
   "metadata": {},
   "outputs": [],
   "source": [
    "y_train_shuffled=np.array(y_train_shuffled)"
   ]
  },
  {
   "cell_type": "code",
   "execution_count": 594,
   "metadata": {},
   "outputs": [
    {
     "data": {
      "text/plain": [
       "(5429,)"
      ]
     },
     "execution_count": 594,
     "metadata": {},
     "output_type": "execute_result"
    }
   ],
   "source": [
    "y_train_shuffled.shape"
   ]
  },
  {
   "cell_type": "code",
   "execution_count": null,
   "metadata": {},
   "outputs": [],
   "source": []
  },
  {
   "cell_type": "code",
   "execution_count": null,
   "metadata": {},
   "outputs": [],
   "source": []
  },
  {
   "cell_type": "code",
   "execution_count": null,
   "metadata": {},
   "outputs": [],
   "source": []
  },
  {
   "cell_type": "markdown",
   "metadata": {},
   "source": [
    "## making our lstm model"
   ]
  },
  {
   "cell_type": "code",
   "execution_count": 631,
   "metadata": {},
   "outputs": [
    {
     "name": "stdout",
     "output_type": "stream",
     "text": [
      "Model: \"sequential_6\"\n",
      "_________________________________________________________________\n",
      "Layer (type)                 Output Shape              Param #   \n",
      "=================================================================\n",
      "lstm_9 (LSTM)                (None, 60, 64)            19200     \n",
      "_________________________________________________________________\n",
      "lstm_10 (LSTM)               (None, 64)                33024     \n",
      "_________________________________________________________________\n",
      "dense_5 (Dense)              (None, 1)                 65        \n",
      "=================================================================\n",
      "Total params: 52,289\n",
      "Trainable params: 52,289\n",
      "Non-trainable params: 0\n",
      "_________________________________________________________________\n"
     ]
    }
   ],
   "source": [
    "model=Sequential()\n",
    "model.add(LSTM(64,return_sequences=True,input_shape=(x_train.shape[1],x_train.shape[2])))\n",
    "model.add(LSTM(64))\n",
    "model.add(Dense(1,activation='linear'))\n",
    "model.summary()"
   ]
  },
  {
   "cell_type": "code",
   "execution_count": 632,
   "metadata": {},
   "outputs": [],
   "source": [
    "model.compile(optimizer='adam',loss='mse',metrics=['mae'])"
   ]
  },
  {
   "cell_type": "code",
   "execution_count": 633,
   "metadata": {},
   "outputs": [
    {
     "name": "stdout",
     "output_type": "stream",
     "text": [
      "(5429, 60, 10) (5429,)\n"
     ]
    }
   ],
   "source": [
    "print(x_train_shuffled.shape,y_train_shuffled.shape)"
   ]
  },
  {
   "cell_type": "code",
   "execution_count": 634,
   "metadata": {},
   "outputs": [
    {
     "name": "stdout",
     "output_type": "stream",
     "text": [
      "Train on 4343 samples, validate on 1086 samples\n",
      "Epoch 1/1000\n",
      "4343/4343 [==============================] - 15s 3ms/step - loss: 0.0051 - mae: 0.0390 - val_loss: 7.0269e-04 - val_mae: 0.0159\n",
      "Epoch 2/1000\n",
      "4343/4343 [==============================] - 14s 3ms/step - loss: 6.3486e-04 - mae: 0.0155 - val_loss: 5.8085e-04 - val_mae: 0.0147\n",
      "Epoch 3/1000\n",
      "2304/4343 [==============>...............] - ETA: 7s - loss: 6.0610e-04 - mae: 0.0148"
     ]
    },
    {
     "ename": "KeyboardInterrupt",
     "evalue": "",
     "output_type": "error",
     "traceback": [
      "\u001b[1;31m---------------------------------------------------------------------------\u001b[0m",
      "\u001b[1;31mKeyboardInterrupt\u001b[0m                         Traceback (most recent call last)",
      "\u001b[1;32m<ipython-input-634-01bcaadaf257>\u001b[0m in \u001b[0;36m<module>\u001b[1;34m\u001b[0m\n\u001b[0;32m      3\u001b[0m \u001b[0mcheckpoint\u001b[0m \u001b[1;33m=\u001b[0m \u001b[0mModelCheckpoint\u001b[0m\u001b[1;33m(\u001b[0m\u001b[1;34m\"best_model.h5\"\u001b[0m\u001b[1;33m,\u001b[0m\u001b[0mmonitor\u001b[0m\u001b[1;33m=\u001b[0m\u001b[1;34m'val_loss'\u001b[0m\u001b[1;33m,\u001b[0m\u001b[0mmode\u001b[0m\u001b[1;33m=\u001b[0m\u001b[1;34m'auto'\u001b[0m\u001b[1;33m,\u001b[0m\u001b[0mverbose\u001b[0m\u001b[1;33m=\u001b[0m\u001b[1;36m0\u001b[0m\u001b[1;33m,\u001b[0m\u001b[0msave_best_only\u001b[0m\u001b[1;33m=\u001b[0m\u001b[1;32mTrue\u001b[0m\u001b[1;33m,\u001b[0m\u001b[0mperiod\u001b[0m\u001b[1;33m=\u001b[0m\u001b[1;36m1\u001b[0m\u001b[1;33m)\u001b[0m\u001b[1;33m\u001b[0m\u001b[1;33m\u001b[0m\u001b[0m\n\u001b[0;32m      4\u001b[0m \u001b[1;33m\u001b[0m\u001b[0m\n\u001b[1;32m----> 5\u001b[1;33m \u001b[0mhist\u001b[0m\u001b[1;33m=\u001b[0m\u001b[0mmodel\u001b[0m\u001b[1;33m.\u001b[0m\u001b[0mfit\u001b[0m\u001b[1;33m(\u001b[0m\u001b[0mx_train_shuffled\u001b[0m\u001b[1;33m,\u001b[0m\u001b[0my_train_shuffled\u001b[0m\u001b[1;33m,\u001b[0m\u001b[0mvalidation_split\u001b[0m\u001b[1;33m=\u001b[0m\u001b[1;36m0.2\u001b[0m\u001b[1;33m,\u001b[0m\u001b[0mepochs\u001b[0m\u001b[1;33m=\u001b[0m\u001b[1;36m1000\u001b[0m\u001b[1;33m,\u001b[0m\u001b[0mbatch_size\u001b[0m\u001b[1;33m=\u001b[0m\u001b[1;36m64\u001b[0m\u001b[1;33m,\u001b[0m\u001b[0mcallbacks\u001b[0m\u001b[1;33m=\u001b[0m\u001b[1;33m[\u001b[0m\u001b[0mcheckpoint\u001b[0m\u001b[1;33m]\u001b[0m\u001b[1;33m)\u001b[0m\u001b[1;33m\u001b[0m\u001b[1;33m\u001b[0m\u001b[0m\n\u001b[0m",
      "\u001b[1;32m~\\Anaconda3\\lib\\site-packages\\keras\\engine\\training.py\u001b[0m in \u001b[0;36mfit\u001b[1;34m(self, x, y, batch_size, epochs, verbose, callbacks, validation_split, validation_data, shuffle, class_weight, sample_weight, initial_epoch, steps_per_epoch, validation_steps, validation_freq, max_queue_size, workers, use_multiprocessing, **kwargs)\u001b[0m\n\u001b[0;32m   1237\u001b[0m                                         \u001b[0msteps_per_epoch\u001b[0m\u001b[1;33m=\u001b[0m\u001b[0msteps_per_epoch\u001b[0m\u001b[1;33m,\u001b[0m\u001b[1;33m\u001b[0m\u001b[1;33m\u001b[0m\u001b[0m\n\u001b[0;32m   1238\u001b[0m                                         \u001b[0mvalidation_steps\u001b[0m\u001b[1;33m=\u001b[0m\u001b[0mvalidation_steps\u001b[0m\u001b[1;33m,\u001b[0m\u001b[1;33m\u001b[0m\u001b[1;33m\u001b[0m\u001b[0m\n\u001b[1;32m-> 1239\u001b[1;33m                                         validation_freq=validation_freq)\n\u001b[0m\u001b[0;32m   1240\u001b[0m \u001b[1;33m\u001b[0m\u001b[0m\n\u001b[0;32m   1241\u001b[0m     def evaluate(self,\n",
      "\u001b[1;32m~\\Anaconda3\\lib\\site-packages\\keras\\engine\\training_arrays.py\u001b[0m in \u001b[0;36mfit_loop\u001b[1;34m(model, fit_function, fit_inputs, out_labels, batch_size, epochs, verbose, callbacks, val_function, val_inputs, shuffle, initial_epoch, steps_per_epoch, validation_steps, validation_freq)\u001b[0m\n\u001b[0;32m    194\u001b[0m                     \u001b[0mins_batch\u001b[0m\u001b[1;33m[\u001b[0m\u001b[0mi\u001b[0m\u001b[1;33m]\u001b[0m \u001b[1;33m=\u001b[0m \u001b[0mins_batch\u001b[0m\u001b[1;33m[\u001b[0m\u001b[0mi\u001b[0m\u001b[1;33m]\u001b[0m\u001b[1;33m.\u001b[0m\u001b[0mtoarray\u001b[0m\u001b[1;33m(\u001b[0m\u001b[1;33m)\u001b[0m\u001b[1;33m\u001b[0m\u001b[1;33m\u001b[0m\u001b[0m\n\u001b[0;32m    195\u001b[0m \u001b[1;33m\u001b[0m\u001b[0m\n\u001b[1;32m--> 196\u001b[1;33m                 \u001b[0mouts\u001b[0m \u001b[1;33m=\u001b[0m \u001b[0mfit_function\u001b[0m\u001b[1;33m(\u001b[0m\u001b[0mins_batch\u001b[0m\u001b[1;33m)\u001b[0m\u001b[1;33m\u001b[0m\u001b[1;33m\u001b[0m\u001b[0m\n\u001b[0m\u001b[0;32m    197\u001b[0m                 \u001b[0mouts\u001b[0m \u001b[1;33m=\u001b[0m \u001b[0mto_list\u001b[0m\u001b[1;33m(\u001b[0m\u001b[0mouts\u001b[0m\u001b[1;33m)\u001b[0m\u001b[1;33m\u001b[0m\u001b[1;33m\u001b[0m\u001b[0m\n\u001b[0;32m    198\u001b[0m                 \u001b[1;32mfor\u001b[0m \u001b[0ml\u001b[0m\u001b[1;33m,\u001b[0m \u001b[0mo\u001b[0m \u001b[1;32min\u001b[0m \u001b[0mzip\u001b[0m\u001b[1;33m(\u001b[0m\u001b[0mout_labels\u001b[0m\u001b[1;33m,\u001b[0m \u001b[0mouts\u001b[0m\u001b[1;33m)\u001b[0m\u001b[1;33m:\u001b[0m\u001b[1;33m\u001b[0m\u001b[1;33m\u001b[0m\u001b[0m\n",
      "\u001b[1;32m~\\Anaconda3\\lib\\site-packages\\tensorflow_core\\python\\keras\\backend.py\u001b[0m in \u001b[0;36m__call__\u001b[1;34m(self, inputs)\u001b[0m\n\u001b[0;32m   3725\u001b[0m         \u001b[0mvalue\u001b[0m \u001b[1;33m=\u001b[0m \u001b[0mmath_ops\u001b[0m\u001b[1;33m.\u001b[0m\u001b[0mcast\u001b[0m\u001b[1;33m(\u001b[0m\u001b[0mvalue\u001b[0m\u001b[1;33m,\u001b[0m \u001b[0mtensor\u001b[0m\u001b[1;33m.\u001b[0m\u001b[0mdtype\u001b[0m\u001b[1;33m)\u001b[0m\u001b[1;33m\u001b[0m\u001b[1;33m\u001b[0m\u001b[0m\n\u001b[0;32m   3726\u001b[0m       \u001b[0mconverted_inputs\u001b[0m\u001b[1;33m.\u001b[0m\u001b[0mappend\u001b[0m\u001b[1;33m(\u001b[0m\u001b[0mvalue\u001b[0m\u001b[1;33m)\u001b[0m\u001b[1;33m\u001b[0m\u001b[1;33m\u001b[0m\u001b[0m\n\u001b[1;32m-> 3727\u001b[1;33m     \u001b[0moutputs\u001b[0m \u001b[1;33m=\u001b[0m \u001b[0mself\u001b[0m\u001b[1;33m.\u001b[0m\u001b[0m_graph_fn\u001b[0m\u001b[1;33m(\u001b[0m\u001b[1;33m*\u001b[0m\u001b[0mconverted_inputs\u001b[0m\u001b[1;33m)\u001b[0m\u001b[1;33m\u001b[0m\u001b[1;33m\u001b[0m\u001b[0m\n\u001b[0m\u001b[0;32m   3728\u001b[0m \u001b[1;33m\u001b[0m\u001b[0m\n\u001b[0;32m   3729\u001b[0m     \u001b[1;31m# EagerTensor.numpy() will often make a copy to ensure memory safety.\u001b[0m\u001b[1;33m\u001b[0m\u001b[1;33m\u001b[0m\u001b[1;33m\u001b[0m\u001b[0m\n",
      "\u001b[1;32m~\\Anaconda3\\lib\\site-packages\\tensorflow_core\\python\\eager\\function.py\u001b[0m in \u001b[0;36m__call__\u001b[1;34m(self, *args, **kwargs)\u001b[0m\n\u001b[0;32m   1549\u001b[0m       \u001b[0mTypeError\u001b[0m\u001b[1;33m:\u001b[0m \u001b[0mFor\u001b[0m \u001b[0minvalid\u001b[0m \u001b[0mpositional\u001b[0m\u001b[1;33m/\u001b[0m\u001b[0mkeyword\u001b[0m \u001b[0margument\u001b[0m \u001b[0mcombinations\u001b[0m\u001b[1;33m.\u001b[0m\u001b[1;33m\u001b[0m\u001b[1;33m\u001b[0m\u001b[0m\n\u001b[0;32m   1550\u001b[0m     \"\"\"\n\u001b[1;32m-> 1551\u001b[1;33m     \u001b[1;32mreturn\u001b[0m \u001b[0mself\u001b[0m\u001b[1;33m.\u001b[0m\u001b[0m_call_impl\u001b[0m\u001b[1;33m(\u001b[0m\u001b[0margs\u001b[0m\u001b[1;33m,\u001b[0m \u001b[0mkwargs\u001b[0m\u001b[1;33m)\u001b[0m\u001b[1;33m\u001b[0m\u001b[1;33m\u001b[0m\u001b[0m\n\u001b[0m\u001b[0;32m   1552\u001b[0m \u001b[1;33m\u001b[0m\u001b[0m\n\u001b[0;32m   1553\u001b[0m   \u001b[1;32mdef\u001b[0m \u001b[0m_call_impl\u001b[0m\u001b[1;33m(\u001b[0m\u001b[0mself\u001b[0m\u001b[1;33m,\u001b[0m \u001b[0margs\u001b[0m\u001b[1;33m,\u001b[0m \u001b[0mkwargs\u001b[0m\u001b[1;33m,\u001b[0m \u001b[0mcancellation_manager\u001b[0m\u001b[1;33m=\u001b[0m\u001b[1;32mNone\u001b[0m\u001b[1;33m)\u001b[0m\u001b[1;33m:\u001b[0m\u001b[1;33m\u001b[0m\u001b[1;33m\u001b[0m\u001b[0m\n",
      "\u001b[1;32m~\\Anaconda3\\lib\\site-packages\\tensorflow_core\\python\\eager\\function.py\u001b[0m in \u001b[0;36m_call_impl\u001b[1;34m(self, args, kwargs, cancellation_manager)\u001b[0m\n\u001b[0;32m   1589\u001b[0m       raise TypeError(\"Keyword arguments {} unknown. Expected {}.\".format(\n\u001b[0;32m   1590\u001b[0m           list(kwargs.keys()), list(self._arg_keywords)))\n\u001b[1;32m-> 1591\u001b[1;33m     \u001b[1;32mreturn\u001b[0m \u001b[0mself\u001b[0m\u001b[1;33m.\u001b[0m\u001b[0m_call_flat\u001b[0m\u001b[1;33m(\u001b[0m\u001b[0margs\u001b[0m\u001b[1;33m,\u001b[0m \u001b[0mself\u001b[0m\u001b[1;33m.\u001b[0m\u001b[0mcaptured_inputs\u001b[0m\u001b[1;33m,\u001b[0m \u001b[0mcancellation_manager\u001b[0m\u001b[1;33m)\u001b[0m\u001b[1;33m\u001b[0m\u001b[1;33m\u001b[0m\u001b[0m\n\u001b[0m\u001b[0;32m   1592\u001b[0m \u001b[1;33m\u001b[0m\u001b[0m\n\u001b[0;32m   1593\u001b[0m   \u001b[1;32mdef\u001b[0m \u001b[0m_filtered_call\u001b[0m\u001b[1;33m(\u001b[0m\u001b[0mself\u001b[0m\u001b[1;33m,\u001b[0m \u001b[0margs\u001b[0m\u001b[1;33m,\u001b[0m \u001b[0mkwargs\u001b[0m\u001b[1;33m)\u001b[0m\u001b[1;33m:\u001b[0m\u001b[1;33m\u001b[0m\u001b[1;33m\u001b[0m\u001b[0m\n",
      "\u001b[1;32m~\\Anaconda3\\lib\\site-packages\\tensorflow_core\\python\\eager\\function.py\u001b[0m in \u001b[0;36m_call_flat\u001b[1;34m(self, args, captured_inputs, cancellation_manager)\u001b[0m\n\u001b[0;32m   1690\u001b[0m       \u001b[1;31m# No tape is watching; skip to running the function.\u001b[0m\u001b[1;33m\u001b[0m\u001b[1;33m\u001b[0m\u001b[1;33m\u001b[0m\u001b[0m\n\u001b[0;32m   1691\u001b[0m       return self._build_call_outputs(self._inference_function.call(\n\u001b[1;32m-> 1692\u001b[1;33m           ctx, args, cancellation_manager=cancellation_manager))\n\u001b[0m\u001b[0;32m   1693\u001b[0m     forward_backward = self._select_forward_and_backward_functions(\n\u001b[0;32m   1694\u001b[0m         \u001b[0margs\u001b[0m\u001b[1;33m,\u001b[0m\u001b[1;33m\u001b[0m\u001b[1;33m\u001b[0m\u001b[0m\n",
      "\u001b[1;32m~\\Anaconda3\\lib\\site-packages\\tensorflow_core\\python\\eager\\function.py\u001b[0m in \u001b[0;36mcall\u001b[1;34m(self, ctx, args, cancellation_manager)\u001b[0m\n\u001b[0;32m    543\u001b[0m               \u001b[0minputs\u001b[0m\u001b[1;33m=\u001b[0m\u001b[0margs\u001b[0m\u001b[1;33m,\u001b[0m\u001b[1;33m\u001b[0m\u001b[1;33m\u001b[0m\u001b[0m\n\u001b[0;32m    544\u001b[0m               \u001b[0mattrs\u001b[0m\u001b[1;33m=\u001b[0m\u001b[1;33m(\u001b[0m\u001b[1;34m\"executor_type\"\u001b[0m\u001b[1;33m,\u001b[0m \u001b[0mexecutor_type\u001b[0m\u001b[1;33m,\u001b[0m \u001b[1;34m\"config_proto\"\u001b[0m\u001b[1;33m,\u001b[0m \u001b[0mconfig\u001b[0m\u001b[1;33m)\u001b[0m\u001b[1;33m,\u001b[0m\u001b[1;33m\u001b[0m\u001b[1;33m\u001b[0m\u001b[0m\n\u001b[1;32m--> 545\u001b[1;33m               ctx=ctx)\n\u001b[0m\u001b[0;32m    546\u001b[0m         \u001b[1;32melse\u001b[0m\u001b[1;33m:\u001b[0m\u001b[1;33m\u001b[0m\u001b[1;33m\u001b[0m\u001b[0m\n\u001b[0;32m    547\u001b[0m           outputs = execute.execute_with_cancellation(\n",
      "\u001b[1;32m~\\Anaconda3\\lib\\site-packages\\tensorflow_core\\python\\eager\\execute.py\u001b[0m in \u001b[0;36mquick_execute\u001b[1;34m(op_name, num_outputs, inputs, attrs, ctx, name)\u001b[0m\n\u001b[0;32m     59\u001b[0m     tensors = pywrap_tensorflow.TFE_Py_Execute(ctx._handle, device_name,\n\u001b[0;32m     60\u001b[0m                                                \u001b[0mop_name\u001b[0m\u001b[1;33m,\u001b[0m \u001b[0minputs\u001b[0m\u001b[1;33m,\u001b[0m \u001b[0mattrs\u001b[0m\u001b[1;33m,\u001b[0m\u001b[1;33m\u001b[0m\u001b[1;33m\u001b[0m\u001b[0m\n\u001b[1;32m---> 61\u001b[1;33m                                                num_outputs)\n\u001b[0m\u001b[0;32m     62\u001b[0m   \u001b[1;32mexcept\u001b[0m \u001b[0mcore\u001b[0m\u001b[1;33m.\u001b[0m\u001b[0m_NotOkStatusException\u001b[0m \u001b[1;32mas\u001b[0m \u001b[0me\u001b[0m\u001b[1;33m:\u001b[0m\u001b[1;33m\u001b[0m\u001b[1;33m\u001b[0m\u001b[0m\n\u001b[0;32m     63\u001b[0m     \u001b[1;32mif\u001b[0m \u001b[0mname\u001b[0m \u001b[1;32mis\u001b[0m \u001b[1;32mnot\u001b[0m \u001b[1;32mNone\u001b[0m\u001b[1;33m:\u001b[0m\u001b[1;33m\u001b[0m\u001b[1;33m\u001b[0m\u001b[0m\n",
      "\u001b[1;31mKeyboardInterrupt\u001b[0m: "
     ]
    }
   ],
   "source": [
    "from keras.callbacks import ModelCheckpoint\n",
    "\n",
    "checkpoint = ModelCheckpoint(\"best_model.h5\",monitor='val_loss',mode='auto',verbose=0,save_best_only=True,period=1)\n",
    "\n",
    "hist=model.fit(x_train_shuffled,y_train_shuffled,validation_split=0.2,epochs=1000,batch_size=64,callbacks=[checkpoint])"
   ]
  },
  {
   "cell_type": "code",
   "execution_count": 598,
   "metadata": {},
   "outputs": [
    {
     "data": {
      "image/png": "[encoded data removed]",
      "text/plain": [
       "<Figure size 432x288 with 1 Axes>"
      ]
     },
     "metadata": {
      "needs_background": "light"
     },
     "output_type": "display_data"
    }
   ],
   "source": [
    "h=hist.history\n",
    "plt.plot(h['val_loss'],label=\"validation loss\")\n",
    "plt.plot(h['loss'],label=\"Training loss\")\n",
    "plt.xlabel(\"Epochs\")\n",
    "plt.ylabel(\"loss\")\n",
    "plt.legend()\n",
    "plt.show()"
   ]
  },
  {
   "cell_type": "code",
   "execution_count": 599,
   "metadata": {},
   "outputs": [
    {
     "data": {
      "image/png": "[encoded data removed]",
      "text/plain": [
       "<Figure size 432x288 with 1 Axes>"
      ]
     },
     "metadata": {
      "needs_background": "light"
     },
     "output_type": "display_data"
    }
   ],
   "source": [
    "plt.plot(h['mae'])\n",
    "plt.plot(h['val_mae'])\n",
    "plt.show()"
   ]
  },
  {
   "cell_type": "code",
   "execution_count": 620,
   "metadata": {},
   "outputs": [],
   "source": [
    "model.load_weights(\"best_model.h5\")"
   ]
  },
  {
   "cell_type": "code",
   "execution_count": 621,
   "metadata": {},
   "outputs": [
    {
     "data": {
      "text/plain": [
       "(1, 60, 10)"
      ]
     },
     "execution_count": 621,
     "metadata": {},
     "output_type": "execute_result"
    }
   ],
   "source": [
    "test_val.shape"
   ]
  },
  {
   "cell_type": "code",
   "execution_count": 622,
   "metadata": {},
   "outputs": [],
   "source": [
    "y_predicted=model.predict(test_val)"
   ]
  },
  {
   "cell_type": "code",
   "execution_count": 623,
   "metadata": {},
   "outputs": [
    {
     "data": {
      "text/plain": [
       "array([[0.20598204]], dtype=float32)"
      ]
     },
     "execution_count": 623,
     "metadata": {},
     "output_type": "execute_result"
    }
   ],
   "source": [
    "y_predicted"
   ]
  },
  {
   "cell_type": "code",
   "execution_count": 624,
   "metadata": {},
   "outputs": [],
   "source": [
    "actual=scaler_y.inverse_transform(y_predicted)"
   ]
  },
  {
   "cell_type": "code",
   "execution_count": 625,
   "metadata": {},
   "outputs": [
    {
     "data": {
      "text/plain": [
       "array([[316.61148]], dtype=float32)"
      ]
     },
     "execution_count": 625,
     "metadata": {},
     "output_type": "execute_result"
    }
   ],
   "source": [
    "actual"
   ]
  },
  {
   "cell_type": "markdown",
   "metadata": {},
   "source": [
    "# not working as 14 july 2020 closing price is 300"
   ]
  },
  {
   "cell_type": "code",
   "execution_count": null,
   "metadata": {},
   "outputs": [],
   "source": []
  }
 ],
 "metadata": {
  "kernelspec": {
   "display_name": "Python 3",
   "language": "python",
   "name": "python3"
  },
  "language_info": {
   "codemirror_mode": {
    "name": "ipython",
    "version": 3
   },
   "file_extension": ".py",
   "mimetype": "text/x-python",
   "name": "python",
   "nbconvert_exporter": "python",
   "pygments_lexer": "ipython3",
   "version": "3.7.4"
  }
 },
 "nbformat": 4,
 "nbformat_minor": 2
}
