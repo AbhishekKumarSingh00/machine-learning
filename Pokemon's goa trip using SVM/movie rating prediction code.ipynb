{
 "cells": [
  {
   "cell_type": "markdown",
   "metadata": {},
   "source": [
    "# importing libraries"
   ]
  },
  {
   "cell_type": "code",
   "execution_count": 33,
   "metadata": {},
   "outputs": [],
   "source": [
    "import pandas as pd\n",
    "import numpy as np\n",
    "import matplotlib.pyplot as plt\n",
    "from sklearn.feature_extraction.text import CountVectorizer"
   ]
  },
  {
   "cell_type": "markdown",
   "metadata": {},
   "source": [
    "## inputing python code to clean data"
   ]
  },
  {
   "cell_type": "code",
   "execution_count": 34,
   "metadata": {},
   "outputs": [],
   "source": [
    "import return_clean_text as ct"
   ]
  },
  {
   "cell_type": "markdown",
   "metadata": {},
   "source": [
    "## inputing training data and test data"
   ]
  },
  {
   "cell_type": "code",
   "execution_count": 37,
   "metadata": {},
   "outputs": [],
   "source": [
    "data=pd.read_csv('./Train/Train.csv')                        #loading training data\n",
    "x_test=pd.read_csv('./Test/Test.csv').values[:,0].tolist()   #loading test data and values[:,0] is flatting 2d list into 1d as our cleaning function will not work"
   ]
  },
  {
   "cell_type": "code",
   "execution_count": 38,
   "metadata": {},
   "outputs": [
    {
     "name": "stdout",
     "output_type": "stream",
     "text": [
      "Remember those old kung fu movies we used to watch on Friday and Saturday late nights when our babysitters THOUGHT we were in charge? Well, this movie plays exactly like one of those movies. Patsy Kensit's biggest claim to fame was the love interest to Mel Gibson's character in \"Lethal Weapon 2,\" and this performance was one of the reasons why she's never made it big: she's a terrible actress.<br /><br />In \"Lethal Weapon 2,\" I thought she was cute. Cute enough to check out some of the other movies she'd been in, including \"Loves Music, Loves to Dance\" another big let down, which I, obviously, was not impressed with, either. But, as attractive as she is to my eyes, my soul screamed at me to turn it off because she played another cheap, predictable role, and done it very badly.<br /><br />In this movie, Kensit stars as a comedienne (and not a good one, either) who's working the clubs of France (couldn't cut it in her own homeland, so she's making THEIR ears bleed), who's down on her luck, but, even worse, the French government wants to throw her out because of an expired visa (or maybe they just caught her act). But she gets married to this Casanova (Freiss), who is just as down on his luck, and the predictability begins...terribly! Is there any way to give this movie a NEGATIVE rating? 1 out of 10 stars is over rating it!\n"
     ]
    }
   ],
   "source": [
    "print(x_test[0])"
   ]
  },
  {
   "cell_type": "code",
   "execution_count": 39,
   "metadata": {},
   "outputs": [
    {
     "data": {
      "text/html": [
       "<div>\n",
       "<style scoped>\n",
       "    .dataframe tbody tr th:only-of-type {\n",
       "        vertical-align: middle;\n",
       "    }\n",
       "\n",
       "    .dataframe tbody tr th {\n",
       "        vertical-align: top;\n",
       "    }\n",
       "\n",
       "    .dataframe thead th {\n",
       "        text-align: right;\n",
       "    }\n",
       "</style>\n",
       "<table border=\"1\" class=\"dataframe\">\n",
       "  <thead>\n",
       "    <tr style=\"text-align: right;\">\n",
       "      <th></th>\n",
       "      <th>review</th>\n",
       "      <th>label</th>\n",
       "    </tr>\n",
       "  </thead>\n",
       "  <tbody>\n",
       "    <tr>\n",
       "      <td>0</td>\n",
       "      <td>mature intelligent and highly charged melodram...</td>\n",
       "      <td>pos</td>\n",
       "    </tr>\n",
       "    <tr>\n",
       "      <td>1</td>\n",
       "      <td>http://video.google.com/videoplay?docid=211772...</td>\n",
       "      <td>pos</td>\n",
       "    </tr>\n",
       "    <tr>\n",
       "      <td>2</td>\n",
       "      <td>Title: Opera (1987) Director: Dario Argento Ca...</td>\n",
       "      <td>pos</td>\n",
       "    </tr>\n",
       "    <tr>\n",
       "      <td>3</td>\n",
       "      <td>I think a lot of people just wrote this off as...</td>\n",
       "      <td>pos</td>\n",
       "    </tr>\n",
       "    <tr>\n",
       "      <td>4</td>\n",
       "      <td>This is a story of two dogs and a cat looking ...</td>\n",
       "      <td>pos</td>\n",
       "    </tr>\n",
       "    <tr>\n",
       "      <td>5</td>\n",
       "      <td>Steve Carell comes into his own in his first s...</td>\n",
       "      <td>pos</td>\n",
       "    </tr>\n",
       "    <tr>\n",
       "      <td>6</td>\n",
       "      <td>I'm only going to write more because it's requ...</td>\n",
       "      <td>neg</td>\n",
       "    </tr>\n",
       "  </tbody>\n",
       "</table>\n",
       "</div>"
      ],
      "text/plain": [
       "                                              review label\n",
       "0  mature intelligent and highly charged melodram...   pos\n",
       "1  http://video.google.com/videoplay?docid=211772...   pos\n",
       "2  Title: Opera (1987) Director: Dario Argento Ca...   pos\n",
       "3  I think a lot of people just wrote this off as...   pos\n",
       "4  This is a story of two dogs and a cat looking ...   pos\n",
       "5  Steve Carell comes into his own in his first s...   pos\n",
       "6  I'm only going to write more because it's requ...   neg"
      ]
     },
     "execution_count": 39,
     "metadata": {},
     "output_type": "execute_result"
    }
   ],
   "source": [
    "data.head(7)"
   ]
  },
  {
   "cell_type": "code",
   "execution_count": 40,
   "metadata": {},
   "outputs": [],
   "source": [
    "rev={'pos' : 1,'neg' : 0}\n",
    "data.label=[rev[item] for item in data.label]"
   ]
  },
  {
   "cell_type": "code",
   "execution_count": 41,
   "metadata": {},
   "outputs": [
    {
     "name": "stdout",
     "output_type": "stream",
     "text": [
      "                                              review  label\n",
      "0  mature intelligent and highly charged melodram...      1\n",
      "1  http://video.google.com/videoplay?docid=211772...      1\n",
      "2  Title: Opera (1987) Director: Dario Argento Ca...      1\n",
      "3  I think a lot of people just wrote this off as...      1\n",
      "4  This is a story of two dogs and a cat looking ...      1\n",
      "5  Steve Carell comes into his own in his first s...      1\n",
      "6  I'm only going to write more because it's requ...      0\n"
     ]
    }
   ],
   "source": [
    "print(data.head(7))"
   ]
  },
  {
   "cell_type": "code",
   "execution_count": 42,
   "metadata": {},
   "outputs": [],
   "source": [
    "x1=data[data['label']==1].values[:,0].tolist()\n",
    "x0=data[data['label']==0].values[:,0].tolist()"
   ]
  },
  {
   "cell_type": "code",
   "execution_count": 43,
   "metadata": {},
   "outputs": [],
   "source": [
    "x1_clean=[ct.getCleanReview(i) for i in x1]          #cleaning training x1\n",
    "x0_clean=[ct.getCleanReview(j) for j in x0]          #cleaning training x0\n",
    "x_test_clean=[ct.getCleanReview(k) for k in x_test]  #cleaning training x_test"
   ]
  },
  {
   "cell_type": "code",
   "execution_count": 44,
   "metadata": {},
   "outputs": [
    {
     "name": "stdout",
     "output_type": "stream",
     "text": [
      "http video googl com videoplay docid 211772166650071408 hl en distribut tri opt mass appeal want best possibl view rang forgo profit continu manual labor job gladli entertain work view texa tale pleas write like not like alex not like stuie texa texa tale write opinion rule\n",
      "rememb old kung fu movi use watch friday saturday late night babysitt thought charg well movi play exactli like one movi patsi kensit biggest claim fame love interest mel gibson charact lethal weapon 2 perform one reason never made big terribl actress lethal weapon 2 thought cute cute enough check movi includ love music love danc anoth big let obvious not impress either attract eye soul scream turn play anoth cheap predict role done badli movi kensit star comedienn not good one either work club franc cut homeland make ear bleed luck even wors french govern want throw expir visa mayb caught act get marri casanova freiss luck predict begin terribl way give movi neg rate 1 10 star rate\n"
     ]
    }
   ],
   "source": [
    "print(x1_clean[1])\n",
    "print(x_test_clean[0])"
   ]
  },
  {
   "cell_type": "code",
   "execution_count": 45,
   "metadata": {},
   "outputs": [],
   "source": [
    "cv1=CountVectorizer()\n",
    "cv0=CountVectorizer()\n",
    "vectorized_corpus1=cv1.fit_transform(x1_clean)\n",
    "vectorized_corpus0=cv0.fit_transform(x0_clean)\n",
    "vectorized_corpus1 = np.sum(vectorized_corpus1.toarray(),axis=0)\n",
    "vectorized_corpus0 = np.sum(vectorized_corpus0.toarray(),axis=0)"
   ]
  },
  {
   "cell_type": "code",
   "execution_count": 46,
   "metadata": {},
   "outputs": [],
   "source": [
    "a1=cv1.vocabulary_.keys()\n",
    "a0=cv0.vocabulary_.keys()\n",
    "vocab1=[]\n",
    "vocab0=[]\n",
    "for i in a1:\n",
    "    vocab1.append(i)\n",
    "for j in a0:\n",
    "    vocab0.append(j)"
   ]
  },
  {
   "cell_type": "code",
   "execution_count": 47,
   "metadata": {},
   "outputs": [],
   "source": [
    "def predict_single_line_review(vocab1,vocab0,x1_clean,x0_clean,x_test,cv1,cv0,vectorized_corpus1,vectorized_corpus0):\n",
    "    v=len(vocab1)+len(vocab0)\n",
    "    total=len(x1_clean)+len(x0_clean)\n",
    "    p1=predict_posterior(vocab1,x1_clean,x_test,cv1,v,total,vectorized_corpus1)\n",
    "    p0=predict_posterior(vocab0,x0_clean,x_test,cv0,v,total,vectorized_corpus0)\n",
    "    if p1>p0:\n",
    "        return 1\n",
    "    else:\n",
    "        return 0\n",
    "\n",
    "def predict_posterior(vocab,x_clean,x_test,cv,v,total,vectorized_corpus):\n",
    "    p=1.0\n",
    "    x_test=x_test.split()\n",
    "    for i in x_test:\n",
    "        p*=likelihood(vocab,i,cv,v,vectorized_corpus)\n",
    "    \n",
    "    prior=len(x_clean)/float(total)\n",
    "    p=p*prior\n",
    "    \n",
    "    return p\n",
    "\n",
    "def likelihood(vocab,review,cv,v,vectorized_corpus):\n",
    "    if review in vocab:\n",
    "        index=cv.vocabulary_[review]\n",
    "        frequency=vectorized_corpus[index]\n",
    "        value=(frequency+1)/float(len(vocab)+v)\n",
    "        return value\n",
    "    else:\n",
    "        return (1/float(v))"
   ]
  },
  {
   "cell_type": "code",
   "execution_count": 48,
   "metadata": {},
   "outputs": [],
   "source": [
    "y_predicted=[]\n",
    "for z in x_test_clean:\n",
    "    y=predict_single_line_review(vocab1,vocab0,x1_clean,x0_clean,z,cv1,cv0,vectorized_corpus1,vectorized_corpus0)\n",
    "    y_predicted.append(y)\n"
   ]
  },
  {
   "cell_type": "code",
   "execution_count": 54,
   "metadata": {},
   "outputs": [
    {
     "data": {
      "text/plain": [
       "0"
      ]
     },
     "execution_count": 54,
     "metadata": {},
     "output_type": "execute_result"
    }
   ],
   "source": [
    "y_predicted[1]"
   ]
  },
  {
   "cell_type": "code",
   "execution_count": 50,
   "metadata": {},
   "outputs": [
    {
     "data": {
      "text/plain": [
       "10000"
      ]
     },
     "execution_count": 50,
     "metadata": {},
     "output_type": "execute_result"
    }
   ],
   "source": [
    "len(y_predicted)"
   ]
  },
  {
   "cell_type": "code",
   "execution_count": 55,
   "metadata": {},
   "outputs": [],
   "source": [
    "y_predicted=np.array(y_predicted)"
   ]
  },
  {
   "cell_type": "code",
   "execution_count": 56,
   "metadata": {},
   "outputs": [
    {
     "data": {
      "text/plain": [
       "(10000,)"
      ]
     },
     "execution_count": 56,
     "metadata": {},
     "output_type": "execute_result"
    }
   ],
   "source": [
    "y_predicted.shape"
   ]
  },
  {
   "cell_type": "code",
   "execution_count": 58,
   "metadata": {},
   "outputs": [],
   "source": [
    "df=pd.DataFrame(data=y_predicted,columns=['label'])"
   ]
  },
  {
   "cell_type": "code",
   "execution_count": 60,
   "metadata": {},
   "outputs": [],
   "source": [
    "rev1={1: 'pos' ,0: 'neg' }\n",
    "df.label=[rev1[item] for item in df.label]"
   ]
  },
  {
   "cell_type": "code",
   "execution_count": 61,
   "metadata": {},
   "outputs": [
    {
     "data": {
      "text/html": [
       "<div>\n",
       "<style scoped>\n",
       "    .dataframe tbody tr th:only-of-type {\n",
       "        vertical-align: middle;\n",
       "    }\n",
       "\n",
       "    .dataframe tbody tr th {\n",
       "        vertical-align: top;\n",
       "    }\n",
       "\n",
       "    .dataframe thead th {\n",
       "        text-align: right;\n",
       "    }\n",
       "</style>\n",
       "<table border=\"1\" class=\"dataframe\">\n",
       "  <thead>\n",
       "    <tr style=\"text-align: right;\">\n",
       "      <th></th>\n",
       "      <th>label</th>\n",
       "    </tr>\n",
       "  </thead>\n",
       "  <tbody>\n",
       "    <tr>\n",
       "      <td>0</td>\n",
       "      <td>neg</td>\n",
       "    </tr>\n",
       "    <tr>\n",
       "      <td>1</td>\n",
       "      <td>neg</td>\n",
       "    </tr>\n",
       "    <tr>\n",
       "      <td>2</td>\n",
       "      <td>neg</td>\n",
       "    </tr>\n",
       "    <tr>\n",
       "      <td>3</td>\n",
       "      <td>pos</td>\n",
       "    </tr>\n",
       "    <tr>\n",
       "      <td>4</td>\n",
       "      <td>pos</td>\n",
       "    </tr>\n",
       "  </tbody>\n",
       "</table>\n",
       "</div>"
      ],
      "text/plain": [
       "  label\n",
       "0   neg\n",
       "1   neg\n",
       "2   neg\n",
       "3   pos\n",
       "4   pos"
      ]
     },
     "execution_count": 61,
     "metadata": {},
     "output_type": "execute_result"
    }
   ],
   "source": [
    "df.head(5)"
   ]
  },
  {
   "cell_type": "code",
   "execution_count": 63,
   "metadata": {},
   "outputs": [],
   "source": [
    "df.to_csv('y_prediction_myCode.csv',index_label='Id')"
   ]
  },
  {
   "cell_type": "code",
   "execution_count": null,
   "metadata": {},
   "outputs": [],
   "source": []
  }
 ],
 "metadata": {
  "kernelspec": {
   "display_name": "Python 3",
   "language": "python",
   "name": "python3"
  },
  "language_info": {
   "codemirror_mode": {
    "name": "ipython",
    "version": 3
   },
   "file_extension": ".py",
   "mimetype": "text/x-python",
   "name": "python",
   "nbconvert_exporter": "python",
   "pygments_lexer": "ipython3",
   "version": "3.7.4"
  }
 },
 "nbformat": 4,
 "nbformat_minor": 2
}
